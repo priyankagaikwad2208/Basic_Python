{
 "cells": [
  {
   "cell_type": "markdown",
   "id": "ec094c77",
   "metadata": {},
   "source": [
    "### Basic operations\n"
   ]
  },
  {
   "cell_type": "code",
   "execution_count": 1,
   "id": "2c53f13f",
   "metadata": {},
   "outputs": [
    {
     "name": "stdout",
     "output_type": "stream",
     "text": [
      "2\n",
      "2\n"
     ]
    }
   ],
   "source": [
    "x= 1+1\n",
    "print (x)\n",
    "print(1+1)"
   ]
  },
  {
   "cell_type": "code",
   "execution_count": 2,
   "id": "0accfd8c",
   "metadata": {},
   "outputs": [],
   "source": [
    "# create two variable with value 10 and 20 and add them\n",
    "# print type of the variable"
   ]
  },
  {
   "cell_type": "code",
   "execution_count": 3,
   "id": "6cf89706",
   "metadata": {},
   "outputs": [
    {
     "name": "stdout",
     "output_type": "stream",
     "text": [
      "30\n",
      "<class 'int'>\n",
      "<class 'int'>\n"
     ]
    }
   ],
   "source": [
    "a= 10\n",
    "b= 20\n",
    "print(a+b)\n",
    "print(type(a))\n",
    "print(type(b))\n"
   ]
  },
  {
   "cell_type": "code",
   "execution_count": 4,
   "id": "5b728f75",
   "metadata": {},
   "outputs": [],
   "source": [
    "# create the variable with datatype float and print their datatype"
   ]
  },
  {
   "cell_type": "code",
   "execution_count": 5,
   "id": "677e3878",
   "metadata": {
    "scrolled": false
   },
   "outputs": [
    {
     "name": "stdout",
     "output_type": "stream",
     "text": [
      "2.6\n",
      "<class 'float'>\n"
     ]
    }
   ],
   "source": [
    "x= 2.6\n",
    "print (x)\n",
    "print(type(x))"
   ]
  },
  {
   "cell_type": "code",
   "execution_count": 6,
   "id": "afee2eb5",
   "metadata": {},
   "outputs": [],
   "source": [
    "# create variable with sring datatype\n",
    "# print their datatype"
   ]
  },
  {
   "cell_type": "code",
   "execution_count": 7,
   "id": "380971c1",
   "metadata": {
    "scrolled": true
   },
   "outputs": [
    {
     "name": "stdout",
     "output_type": "stream",
     "text": [
      "priyanka\n",
      "<class 'str'>\n"
     ]
    }
   ],
   "source": [
    "s = \"priyanka\"\n",
    "print(s)\n",
    "print(type(s))"
   ]
  },
  {
   "cell_type": "code",
   "execution_count": 8,
   "id": "38f6c830",
   "metadata": {
    "scrolled": true
   },
   "outputs": [
    {
     "name": "stdout",
     "output_type": "stream",
     "text": [
      "hey, I am priyanka\n"
     ]
    }
   ],
   "source": [
    "p = \"hey, I am priyanka\"\n",
    "print(p)"
   ]
  },
  {
   "cell_type": "code",
   "execution_count": 9,
   "id": "0900a666",
   "metadata": {},
   "outputs": [],
   "source": [
    "# concatenation of the one integer and one string\n",
    "# for concatenation we have to change the datatype of interger to string\n",
    "# str are used for changing the datatype of integer to string "
   ]
  },
  {
   "cell_type": "code",
   "execution_count": 10,
   "id": "9c315f0a",
   "metadata": {
    "scrolled": true
   },
   "outputs": [
    {
     "name": "stdout",
     "output_type": "stream",
     "text": [
      "6priyanka\n"
     ]
    }
   ],
   "source": [
    "a =str(6)\n",
    "b=\"priyanka\"\n",
    "print(a+ b)"
   ]
  },
  {
   "cell_type": "code",
   "execution_count": 11,
   "id": "a5f97052",
   "metadata": {},
   "outputs": [],
   "source": [
    "# boolean datatype"
   ]
  },
  {
   "cell_type": "code",
   "execution_count": 12,
   "id": "ba1c2ec2",
   "metadata": {
    "scrolled": false
   },
   "outputs": [
    {
     "name": "stdout",
     "output_type": "stream",
     "text": [
      "<class 'bool'>\n"
     ]
    }
   ],
   "source": [
    "n = True\n",
    "print(type(n))"
   ]
  },
  {
   "cell_type": "code",
   "execution_count": 13,
   "id": "c1dcf203",
   "metadata": {},
   "outputs": [],
   "source": [
    "# True store the 1 value \n",
    "# False store the 0 value"
   ]
  },
  {
   "cell_type": "code",
   "execution_count": 14,
   "id": "ad5ef6c1",
   "metadata": {
    "scrolled": false
   },
   "outputs": [
    {
     "name": "stdout",
     "output_type": "stream",
     "text": [
      "<class 'bool'>\n",
      "1\n",
      "1\n",
      "0\n"
     ]
    }
   ],
   "source": [
    "m = False\n",
    "print(type (m))\n",
    "print(n+m)\n",
    "print(True*True)\n",
    "print(True * False)"
   ]
  },
  {
   "cell_type": "code",
   "execution_count": 15,
   "id": "fc7e988f",
   "metadata": {},
   "outputs": [],
   "source": [
    "# complex number \n",
    "# print the real part of complex number\n",
    "#print imag part of the complex number"
   ]
  },
  {
   "cell_type": "code",
   "execution_count": 16,
   "id": "fcde1e01",
   "metadata": {
    "scrolled": true
   },
   "outputs": [
    {
     "name": "stdout",
     "output_type": "stream",
     "text": [
      "<class 'complex'>\n",
      "4.0\n",
      "5.0\n"
     ]
    }
   ],
   "source": [
    "v = 4+5J\n",
    "print(type(v))\n",
    "print(v.real)\n",
    "print(v.imag)"
   ]
  },
  {
   "cell_type": "markdown",
   "id": "26309a19",
   "metadata": {},
   "source": [
    "### string operation"
   ]
  },
  {
   "cell_type": "code",
   "execution_count": 17,
   "id": "3d9e63ff",
   "metadata": {
    "scrolled": true
   },
   "outputs": [
    {
     "name": "stdout",
     "output_type": "stream",
     "text": [
      "p\n",
      "l\n",
      "pws\n",
      "pwskill\n",
      "pwskill\n",
      "p\n",
      "pwsk\n",
      "psil\n",
      "psil\n",
      "psil\n",
      "wkl\n",
      "llikswp\n",
      "\n",
      "llikswp\n",
      "likswp\n",
      "pwskill\n",
      "llikswp\n"
     ]
    }
   ],
   "source": [
    "a = \"pwskill\"\n",
    "print(a[0])\n",
    "print(a[-1])\n",
    "print(a[0:3])\n",
    "print(a[::])\n",
    "print(a[0:])\n",
    "print(a[:1])\n",
    "print(a[0:4])\n",
    "print(a[0::2])\n",
    "print(a[0:7:2])\n",
    "print(a[::2])\n",
    "print(a[1::2])\n",
    "print(a[::-1])\n",
    "print(a[1:7:-1])\n",
    "print(a[8: :-1])\n",
    "print(a[-2:-8:-1])\n",
    "print(a[:20])\n",
    "print(a[:-20:-1])\n"
   ]
  },
  {
   "cell_type": "code",
   "execution_count": 18,
   "id": "8f63c44c",
   "metadata": {
    "scrolled": true
   },
   "outputs": [],
   "source": [
    " # a[20] it will error because 20 index are not present in the data"
   ]
  },
  {
   "cell_type": "code",
   "execution_count": 19,
   "id": "dc003142",
   "metadata": {},
   "outputs": [],
   "source": [
    "# len() function in python"
   ]
  },
  {
   "cell_type": "code",
   "execution_count": 20,
   "id": "abf5698e",
   "metadata": {
    "scrolled": true
   },
   "outputs": [
    {
     "name": "stdout",
     "output_type": "stream",
     "text": [
      "24\n"
     ]
    }
   ],
   "source": [
    "name= \"priyanka shivaji gaikwad\"\n",
    "print(len(name))"
   ]
  },
  {
   "cell_type": "code",
   "execution_count": 21,
   "id": "986fda73",
   "metadata": {},
   "outputs": [],
   "source": [
    "# find the index of the given character in string"
   ]
  },
  {
   "cell_type": "code",
   "execution_count": 22,
   "id": "94d6fc2f",
   "metadata": {
    "scrolled": true
   },
   "outputs": [
    {
     "name": "stdout",
     "output_type": "stream",
     "text": [
      "4\n",
      "9\n"
     ]
    }
   ],
   "source": [
    "print(name.find(\"a\"))\n",
    "print(name.find(\"shivaji\"))"
   ]
  },
  {
   "cell_type": "code",
   "execution_count": 23,
   "id": "ee9477e3",
   "metadata": {},
   "outputs": [],
   "source": [
    "# count the character from the string"
   ]
  },
  {
   "cell_type": "code",
   "execution_count": 24,
   "id": "8f8822ad",
   "metadata": {
    "scrolled": true
   },
   "outputs": [
    {
     "name": "stdout",
     "output_type": "stream",
     "text": [
      "5\n",
      "1\n",
      "0\n"
     ]
    }
   ],
   "source": [
    "print(name.count(\"a\"))\n",
    "print(name.count(\"s\" ))\n",
    "print(name.count(\"m\"))"
   ]
  },
  {
   "cell_type": "code",
   "execution_count": 25,
   "id": "6adce9a4",
   "metadata": {},
   "outputs": [],
   "source": [
    "# upper() function\n",
    "# convert all the character into uppercase"
   ]
  },
  {
   "cell_type": "code",
   "execution_count": 26,
   "id": "03f17ba7",
   "metadata": {
    "scrolled": true
   },
   "outputs": [
    {
     "name": "stdout",
     "output_type": "stream",
     "text": [
      "PRIYANKA SHIVAJI GAIKWAD\n"
     ]
    }
   ],
   "source": [
    "print(name.upper())"
   ]
  },
  {
   "cell_type": "code",
   "execution_count": 27,
   "id": "f017f5ec",
   "metadata": {},
   "outputs": [],
   "source": [
    "# lower() function\n",
    "# convert all the character into lowercase"
   ]
  },
  {
   "cell_type": "code",
   "execution_count": 28,
   "id": "9fd7808a",
   "metadata": {
    "scrolled": false
   },
   "outputs": [
    {
     "name": "stdout",
     "output_type": "stream",
     "text": [
      "priyanka shivaji gaikwad \n"
     ]
    }
   ],
   "source": [
    "jk = \"PRIYANKA SHIVAJI GAIKWAD \"\n",
    "print(jk.lower())"
   ]
  },
  {
   "cell_type": "code",
   "execution_count": 29,
   "id": "4b2305ce",
   "metadata": {},
   "outputs": [],
   "source": [
    "# title() function\n",
    "# used to change the initial character in each word to Uppercase and the subsequent characters to Lowercase"
   ]
  },
  {
   "cell_type": "code",
   "execution_count": 30,
   "id": "c664ed11",
   "metadata": {
    "scrolled": true
   },
   "outputs": [
    {
     "name": "stdout",
     "output_type": "stream",
     "text": [
      "Priyanka Shivaji Gaikwad \n"
     ]
    }
   ],
   "source": [
    "print(jk.title())\n"
   ]
  },
  {
   "cell_type": "code",
   "execution_count": 31,
   "id": "6c2305d9",
   "metadata": {},
   "outputs": [],
   "source": [
    "# capitalize() function\n",
    "# it only change the first character to uppercase of the line "
   ]
  },
  {
   "cell_type": "code",
   "execution_count": 32,
   "id": "c48b4e55",
   "metadata": {
    "scrolled": false
   },
   "outputs": [
    {
     "name": "stdout",
     "output_type": "stream",
     "text": [
      "Priyanka shivaji gaikwad \n"
     ]
    }
   ],
   "source": [
    "print(jk.capitalize())"
   ]
  },
  {
   "cell_type": "code",
   "execution_count": 33,
   "id": "b352ed47",
   "metadata": {},
   "outputs": [],
   "source": [
    "# string concatenation"
   ]
  },
  {
   "cell_type": "code",
   "execution_count": 34,
   "id": "64485e3d",
   "metadata": {
    "scrolled": true
   },
   "outputs": [
    {
     "name": "stdout",
     "output_type": "stream",
     "text": [
      "PRIYANKA SHIVAJI GAIKWAD  JUNKOOK\n"
     ]
    }
   ],
   "source": [
    "print(jk + \" JUNKOOK\")"
   ]
  },
  {
   "cell_type": "code",
   "execution_count": 35,
   "id": "43075e38",
   "metadata": {
    "scrolled": true
   },
   "outputs": [
    {
     "name": "stdout",
     "output_type": "stream",
     "text": [
      "PRIYANKA SHIVAJI GAIKWAD 123\n"
     ]
    }
   ],
   "source": [
    "print(jk + \"123\")"
   ]
  },
  {
   "cell_type": "code",
   "execution_count": 36,
   "id": "0f935167",
   "metadata": {
    "scrolled": true
   },
   "outputs": [
    {
     "name": "stdout",
     "output_type": "stream",
     "text": [
      "PRIYANKA SHIVAJI GAIKWAD 456\n"
     ]
    }
   ],
   "source": [
    "print(jk+ str(456))"
   ]
  },
  {
   "cell_type": "code",
   "execution_count": 37,
   "id": "c11c936b",
   "metadata": {},
   "outputs": [],
   "source": [
    "# print string multiple time"
   ]
  },
  {
   "cell_type": "code",
   "execution_count": 38,
   "id": "4e366447",
   "metadata": {
    "scrolled": false
   },
   "outputs": [
    {
     "name": "stdout",
     "output_type": "stream",
     "text": [
      "PRIYANKA SHIVAJI GAIKWAD PRIYANKA SHIVAJI GAIKWAD PRIYANKA SHIVAJI GAIKWAD \n"
     ]
    }
   ],
   "source": [
    "print(jk* 3)"
   ]
  },
  {
   "cell_type": "code",
   "execution_count": 39,
   "id": "22a31b6a",
   "metadata": {},
   "outputs": [],
   "source": [
    "# replace () function"
   ]
  },
  {
   "cell_type": "code",
   "execution_count": 40,
   "id": "d811bd52",
   "metadata": {},
   "outputs": [],
   "source": [
    "BTS = name.replace(\"priyanka\", \"Harshada\")"
   ]
  },
  {
   "cell_type": "code",
   "execution_count": 41,
   "id": "43b04915",
   "metadata": {},
   "outputs": [
    {
     "data": {
      "text/plain": [
       "'Harshada shivaji gaikwad'"
      ]
     },
     "execution_count": 41,
     "metadata": {},
     "output_type": "execute_result"
    }
   ],
   "source": [
    "BTS"
   ]
  },
  {
   "cell_type": "code",
   "execution_count": 42,
   "id": "61ec5877",
   "metadata": {},
   "outputs": [],
   "source": [
    "# find() function\n",
    "# it print the index of the given string"
   ]
  },
  {
   "cell_type": "code",
   "execution_count": 43,
   "id": "4a573bbe",
   "metadata": {
    "scrolled": true
   },
   "outputs": [
    {
     "data": {
      "text/plain": [
       "9"
      ]
     },
     "execution_count": 43,
     "metadata": {},
     "output_type": "execute_result"
    }
   ],
   "source": [
    "name.find(\"shiva\")"
   ]
  },
  {
   "cell_type": "markdown",
   "id": "4c0d9879",
   "metadata": {},
   "source": [
    "### list  Datatype"
   ]
  },
  {
   "cell_type": "code",
   "execution_count": 44,
   "id": "13adf8cf",
   "metadata": {},
   "outputs": [],
   "source": [
    "# list is the collection of element , enclosed in [] and seperated by commas\n",
    "# in list we can store the multiple item in the single variable \n",
    "#list is the build in datatype in python"
   ]
  },
  {
   "cell_type": "code",
   "execution_count": 45,
   "id": "7be9be3b",
   "metadata": {},
   "outputs": [],
   "source": [
    "data = [1, 2, 3, 5 + 4j, \"radha\", \"shyam\", 9, \"shivaji\", 4.2, 6, 2.9]"
   ]
  },
  {
   "cell_type": "code",
   "execution_count": 46,
   "id": "f03936a3",
   "metadata": {
    "scrolled": true
   },
   "outputs": [
    {
     "data": {
      "text/plain": [
       "[1, 2, 3, (5+4j), 'radha', 'shyam', 9, 'shivaji', 4.2, 6, 2.9]"
      ]
     },
     "execution_count": 46,
     "metadata": {},
     "output_type": "execute_result"
    }
   ],
   "source": [
    "data"
   ]
  },
  {
   "cell_type": "code",
   "execution_count": 47,
   "id": "8821e08e",
   "metadata": {
    "scrolled": false
   },
   "outputs": [
    {
     "data": {
      "text/plain": [
       "list"
      ]
     },
     "execution_count": 47,
     "metadata": {},
     "output_type": "execute_result"
    }
   ],
   "source": [
    "type(data)"
   ]
  },
  {
   "cell_type": "code",
   "execution_count": 48,
   "id": "c89c2149",
   "metadata": {},
   "outputs": [],
   "source": [
    "# list slicing \n",
    "# in slicing operation only those value print whose index are given\n",
    "# [initial: end: step]"
   ]
  },
  {
   "cell_type": "code",
   "execution_count": 49,
   "id": "2dcf1f16",
   "metadata": {
    "scrolled": true
   },
   "outputs": [
    {
     "name": "stdout",
     "output_type": "stream",
     "text": [
      "[1, 2, 3, (5+4j), 'radha']\n",
      "shivaji\n",
      "[1, 2, 3]\n",
      "2.9\n",
      "[2.9, 6, 4.2, 'shivaji', 9, 'shyam', 'radha', (5+4j), 3, 2, 1]\n",
      "[1, 3, 'radha', 9, 4.2, 2.9]\n"
     ]
    }
   ],
   "source": [
    "print(data[0:5])\n",
    "print(data[7])\n",
    "print(data[0:3])\n",
    "print(data[-1])\n",
    "print(data[::-1])\n",
    "print(data[0::2])"
   ]
  },
  {
   "cell_type": "code",
   "execution_count": 50,
   "id": "8b0a9d65",
   "metadata": {},
   "outputs": [],
   "source": [
    "# convert string into list"
   ]
  },
  {
   "cell_type": "code",
   "execution_count": 51,
   "id": "bcc7eac8",
   "metadata": {
    "scrolled": true
   },
   "outputs": [
    {
     "name": "stdout",
     "output_type": "stream",
     "text": [
      "['j', 'u', 'n', 'k', 'o', 'o', 'k']\n"
     ]
    }
   ],
   "source": [
    "bts = \"junkook\"\n",
    "a =(list(bts))\n",
    "print(a)"
   ]
  },
  {
   "cell_type": "code",
   "execution_count": 52,
   "id": "f621981b",
   "metadata": {},
   "outputs": [],
   "source": [
    "# concatenation of the two list"
   ]
  },
  {
   "cell_type": "code",
   "execution_count": 53,
   "id": "0027b266",
   "metadata": {
    "scrolled": true
   },
   "outputs": [
    {
     "name": "stdout",
     "output_type": "stream",
     "text": [
      "[1, 2, 3, (5+4j), 'radha', 'shyam', 9, 'shivaji', 4.2, 6, 2.9, 'j', 'u', 'n', 'k', 'o', 'o', 'k']\n"
     ]
    }
   ],
   "source": [
    "print(data + a)"
   ]
  },
  {
   "cell_type": "code",
   "execution_count": 54,
   "id": "1c554510",
   "metadata": {},
   "outputs": [],
   "source": [
    "# datatype of the element present in the list"
   ]
  },
  {
   "cell_type": "code",
   "execution_count": 55,
   "id": "064bd701",
   "metadata": {
    "scrolled": true
   },
   "outputs": [
    {
     "data": {
      "text/plain": [
       "str"
      ]
     },
     "execution_count": 55,
     "metadata": {},
     "output_type": "execute_result"
    }
   ],
   "source": [
    "type(data[5])"
   ]
  },
  {
   "cell_type": "code",
   "execution_count": 56,
   "id": "90fd82e9",
   "metadata": {
    "scrolled": true
   },
   "outputs": [
    {
     "data": {
      "text/plain": [
       "str"
      ]
     },
     "execution_count": 56,
     "metadata": {},
     "output_type": "execute_result"
    }
   ],
   "source": [
    "type(a[1])"
   ]
  },
  {
   "cell_type": "code",
   "execution_count": 57,
   "id": "2137b978",
   "metadata": {},
   "outputs": [],
   "source": [
    "# accessing the element of the list and then slicing of that particular element"
   ]
  },
  {
   "cell_type": "code",
   "execution_count": 58,
   "id": "c3d6f5e7",
   "metadata": {
    "scrolled": false
   },
   "outputs": [
    {
     "data": {
      "text/plain": [
       "'sh'"
      ]
     },
     "execution_count": 58,
     "metadata": {},
     "output_type": "execute_result"
    }
   ],
   "source": [
    "data[5][0:2]"
   ]
  },
  {
   "cell_type": "code",
   "execution_count": 59,
   "id": "425a846c",
   "metadata": {},
   "outputs": [],
   "source": [
    "# len() function shows the no.of element present in the list"
   ]
  },
  {
   "cell_type": "code",
   "execution_count": 60,
   "id": "e3d6606b",
   "metadata": {
    "scrolled": false
   },
   "outputs": [
    {
     "data": {
      "text/plain": [
       "11"
      ]
     },
     "execution_count": 60,
     "metadata": {},
     "output_type": "execute_result"
    }
   ],
   "source": [
    "len(data)"
   ]
  },
  {
   "cell_type": "code",
   "execution_count": 61,
   "id": "1468c5bc",
   "metadata": {},
   "outputs": [],
   "source": [
    "# append function \n",
    "# append function are used for concatenation "
   ]
  },
  {
   "cell_type": "code",
   "execution_count": 62,
   "id": "4fb3308c",
   "metadata": {},
   "outputs": [],
   "source": [
    "l = [1,2,\"priya\",\"junkook\",4+5j, 2.3]"
   ]
  },
  {
   "cell_type": "code",
   "execution_count": 63,
   "id": "96510cab",
   "metadata": {},
   "outputs": [
    {
     "data": {
      "text/plain": [
       "[1, 2, 'priya', 'junkook', (4+5j), 2.3]"
      ]
     },
     "execution_count": 63,
     "metadata": {},
     "output_type": "execute_result"
    }
   ],
   "source": [
    "l"
   ]
  },
  {
   "cell_type": "code",
   "execution_count": 64,
   "id": "9bf525e2",
   "metadata": {},
   "outputs": [],
   "source": [
    "l.append(\"manisha\")"
   ]
  },
  {
   "cell_type": "code",
   "execution_count": 65,
   "id": "55e62bd1",
   "metadata": {
    "scrolled": false
   },
   "outputs": [
    {
     "data": {
      "text/plain": [
       "[1, 2, 'priya', 'junkook', (4+5j), 2.3, 'manisha']"
      ]
     },
     "execution_count": 65,
     "metadata": {},
     "output_type": "execute_result"
    }
   ],
   "source": [
    "l"
   ]
  },
  {
   "cell_type": "code",
   "execution_count": 66,
   "id": "d22d6484",
   "metadata": {},
   "outputs": [],
   "source": [
    "l.append(\"BTS\")"
   ]
  },
  {
   "cell_type": "code",
   "execution_count": 67,
   "id": "59674f0b",
   "metadata": {},
   "outputs": [
    {
     "data": {
      "text/plain": [
       "[1, 2, 'priya', 'junkook', (4+5j), 2.3, 'manisha', 'BTS']"
      ]
     },
     "execution_count": 67,
     "metadata": {},
     "output_type": "execute_result"
    }
   ],
   "source": [
    "l"
   ]
  },
  {
   "cell_type": "code",
   "execution_count": 68,
   "id": "0cb28bc8",
   "metadata": {},
   "outputs": [],
   "source": [
    "# extend function\n",
    "# extend function unrapped the data and then add in the list"
   ]
  },
  {
   "cell_type": "code",
   "execution_count": 69,
   "id": "4fe05619",
   "metadata": {},
   "outputs": [],
   "source": [
    "data.extend(\"harshu\")"
   ]
  },
  {
   "cell_type": "code",
   "execution_count": 70,
   "id": "2b90e937",
   "metadata": {
    "scrolled": true
   },
   "outputs": [
    {
     "data": {
      "text/plain": [
       "[1,\n",
       " 2,\n",
       " 3,\n",
       " (5+4j),\n",
       " 'radha',\n",
       " 'shyam',\n",
       " 9,\n",
       " 'shivaji',\n",
       " 4.2,\n",
       " 6,\n",
       " 2.9,\n",
       " 'h',\n",
       " 'a',\n",
       " 'r',\n",
       " 's',\n",
       " 'h',\n",
       " 'u']"
      ]
     },
     "execution_count": 70,
     "metadata": {},
     "output_type": "execute_result"
    }
   ],
   "source": [
    "data"
   ]
  },
  {
   "cell_type": "code",
   "execution_count": 71,
   "id": "64570fd7",
   "metadata": {},
   "outputs": [],
   "source": [
    "l.extend([7,8,9])"
   ]
  },
  {
   "cell_type": "code",
   "execution_count": 72,
   "id": "2809ccf4",
   "metadata": {},
   "outputs": [
    {
     "data": {
      "text/plain": [
       "[1, 2, 'priya', 'junkook', (4+5j), 2.3, 'manisha', 'BTS', 7, 8, 9]"
      ]
     },
     "execution_count": 72,
     "metadata": {},
     "output_type": "execute_result"
    }
   ],
   "source": [
    "l"
   ]
  },
  {
   "cell_type": "code",
   "execution_count": 73,
   "id": "6316451f",
   "metadata": {},
   "outputs": [],
   "source": [
    "# insert() function\n",
    "# insert function is used to add the data at desirable index position in the list"
   ]
  },
  {
   "cell_type": "code",
   "execution_count": 74,
   "id": "1e41ebf1",
   "metadata": {
    "scrolled": true
   },
   "outputs": [
    {
     "name": "stdout",
     "output_type": "stream",
     "text": [
      "[1, 2, 'jhope', 3, (5+4j), 'radha', 'shyam', 9, 'shivaji', 4.2, 6, 2.9, 'h', 'a', 'r', 's', 'h', 'u']\n",
      "[1, 2, 'jhope', 3, (5+4j), [4, 2, 6], 'radha', 'shyam', 9, 'shivaji', 4.2, 6, 2.9, 'h', 'a', 'r', 's', 'h', 'u']\n",
      "[1, 2, 'jhope', 3, (5+4j), [4, 2, 6], 'radha', 'shyam', 9, 'shivaji', 4.2, 6, 2.9, 'h', 'a', 'r', 's', 'h', 45, 'u']\n",
      "u\n"
     ]
    }
   ],
   "source": [
    "data.insert(2,\"jhope\")\n",
    "print(data)\n",
    "data.insert(5,[4,2,6])\n",
    "print(data)\n",
    "data.insert(-1,45)\n",
    "print(data)\n",
    "print(data[-1])"
   ]
  },
  {
   "cell_type": "code",
   "execution_count": 75,
   "id": "f80a4aae",
   "metadata": {},
   "outputs": [],
   "source": [
    "# pop () function\n",
    "# pop function are used for delete the data from list\n",
    "# pop delete the data based on the index"
   ]
  },
  {
   "cell_type": "code",
   "execution_count": 76,
   "id": "7a1e8da3",
   "metadata": {
    "scrolled": true
   },
   "outputs": [
    {
     "name": "stdout",
     "output_type": "stream",
     "text": [
      "[1, 2, 'jhope', 3, (5+4j), [4, 2, 6], 'radha', 'shyam', 9, 'shivaji', 4.2, 6, 2.9, 'h', 'a', 'r', 's', 'h', 45]\n",
      "[1, 2, 3, (5+4j), [4, 2, 6], 'radha', 'shyam', 9, 'shivaji', 4.2, 6, 2.9, 'h', 'a', 'r', 's', 'h', 45]\n",
      "[1, 2, 3, [4, 2, 6], 'radha', 'shyam', 9, 'shivaji', 4.2, 6, 2.9, 'h', 'a', 'r', 's', 'h', 45]\n"
     ]
    }
   ],
   "source": [
    "data.pop()\n",
    "print(data)\n",
    "data.pop(2)\n",
    "print(data)\n",
    "data.pop(3)\n",
    "print(data)"
   ]
  },
  {
   "cell_type": "code",
   "execution_count": 77,
   "id": "d66e3eb3",
   "metadata": {},
   "outputs": [],
   "source": [
    "# remove() function\n",
    "# remove function are used to delete the value"
   ]
  },
  {
   "cell_type": "code",
   "execution_count": 78,
   "id": "484b19a6",
   "metadata": {
    "scrolled": true
   },
   "outputs": [
    {
     "name": "stdout",
     "output_type": "stream",
     "text": [
      "[1, 3, [4, 2, 6], 'radha', 'shyam', 9, 'shivaji', 4.2, 6, 2.9, 'h', 'a', 'r', 's', 'h', 45]\n",
      "[1, 3, [4, 2, 6], 'radha', 'shyam', 9, 'shivaji', 6, 2.9, 'h', 'a', 'r', 's', 'h', 45]\n"
     ]
    }
   ],
   "source": [
    "data.remove(2)\n",
    "print(data)\n",
    "data.remove(4.2)\n",
    "print(data)"
   ]
  },
  {
   "cell_type": "code",
   "execution_count": 79,
   "id": "1de3dbd5",
   "metadata": {},
   "outputs": [],
   "source": [
    "# reverse function"
   ]
  },
  {
   "cell_type": "code",
   "execution_count": 80,
   "id": "1d9d7749",
   "metadata": {
    "scrolled": false
   },
   "outputs": [
    {
     "name": "stdout",
     "output_type": "stream",
     "text": [
      "[45, 'h', 's', 'r', 'a', 'h', 2.9, 6, 'shivaji', 9, 'shyam', 'radha', [4, 2, 6], 3, 1]\n"
     ]
    }
   ],
   "source": [
    "# temporary reverse the element in list\n",
    "print(data[::-1]) "
   ]
  },
  {
   "cell_type": "code",
   "execution_count": 81,
   "id": "6dbfc91c",
   "metadata": {
    "scrolled": true
   },
   "outputs": [
    {
     "data": {
      "text/plain": [
       "[1,\n",
       " 3,\n",
       " [4, 2, 6],\n",
       " 'radha',\n",
       " 'shyam',\n",
       " 9,\n",
       " 'shivaji',\n",
       " 6,\n",
       " 2.9,\n",
       " 'h',\n",
       " 'a',\n",
       " 'r',\n",
       " 's',\n",
       " 'h',\n",
       " 45]"
      ]
     },
     "execution_count": 81,
     "metadata": {},
     "output_type": "execute_result"
    }
   ],
   "source": [
    "data"
   ]
  },
  {
   "cell_type": "code",
   "execution_count": 82,
   "id": "50e84b81",
   "metadata": {},
   "outputs": [],
   "source": [
    "# permenantly reverse the element in the list\n",
    "data.reverse()\n"
   ]
  },
  {
   "cell_type": "code",
   "execution_count": 83,
   "id": "bb825fd1",
   "metadata": {},
   "outputs": [],
   "source": [
    "# Sort function\n",
    "#sort the list in the increasing order"
   ]
  },
  {
   "cell_type": "code",
   "execution_count": 84,
   "id": "7a0699a4",
   "metadata": {},
   "outputs": [
    {
     "data": {
      "text/plain": [
       "[1, 2, 3, 4, 4, 5, 6, 9, 10]"
      ]
     },
     "execution_count": 84,
     "metadata": {},
     "output_type": "execute_result"
    }
   ],
   "source": [
    "data = [4,5,3,1,9,6,10,4,2]\n",
    "data.sort()\n",
    "data"
   ]
  },
  {
   "cell_type": "code",
   "execution_count": 85,
   "id": "d170b175",
   "metadata": {},
   "outputs": [],
   "source": [
    "#Sort the list in the alphabetically order"
   ]
  },
  {
   "cell_type": "code",
   "execution_count": 86,
   "id": "cf23d737",
   "metadata": {},
   "outputs": [
    {
     "data": {
      "text/plain": [
       "['', 'shivaji', 'gaikwad', 'manisha', 'junkook', 'jin']"
      ]
     },
     "execution_count": 86,
     "metadata": {},
     "output_type": "execute_result"
    }
   ],
   "source": [
    "name = [\"\",\"shivaji\",\"gaikwad\",\"manisha\",\"junkook\",\"jin\"]\n",
    "name"
   ]
  },
  {
   "cell_type": "code",
   "execution_count": 87,
   "id": "eb615e54",
   "metadata": {},
   "outputs": [
    {
     "data": {
      "text/plain": [
       "['', 'gaikwad', 'jin', 'junkook', 'manisha', 'shivaji']"
      ]
     },
     "execution_count": 87,
     "metadata": {},
     "output_type": "execute_result"
    }
   ],
   "source": [
    "name.sort()\n",
    "name"
   ]
  },
  {
   "cell_type": "code",
   "execution_count": 88,
   "id": "a0e00ef5",
   "metadata": {},
   "outputs": [],
   "source": [
    "#by using reverse function we can sort list in reverse order"
   ]
  },
  {
   "cell_type": "code",
   "execution_count": 89,
   "id": "d566c7ba",
   "metadata": {},
   "outputs": [
    {
     "data": {
      "text/plain": [
       "['shivaji', 'manisha', 'junkook', 'jin', 'gaikwad', '']"
      ]
     },
     "execution_count": 89,
     "metadata": {},
     "output_type": "execute_result"
    }
   ],
   "source": [
    "name.sort(reverse=True)\n",
    "name"
   ]
  },
  {
   "cell_type": "code",
   "execution_count": 90,
   "id": "a9b22b0c",
   "metadata": {},
   "outputs": [],
   "source": [
    "# access the element by using the index function"
   ]
  },
  {
   "cell_type": "code",
   "execution_count": 91,
   "id": "4fb2d67d",
   "metadata": {},
   "outputs": [
    {
     "data": {
      "text/plain": [
       "2"
      ]
     },
     "execution_count": 91,
     "metadata": {},
     "output_type": "execute_result"
    }
   ],
   "source": [
    "name.index(\"junkook\")"
   ]
  },
  {
   "cell_type": "code",
   "execution_count": 92,
   "id": "69390db7",
   "metadata": {},
   "outputs": [],
   "source": [
    "# count function"
   ]
  },
  {
   "cell_type": "code",
   "execution_count": 93,
   "id": "d24a3698",
   "metadata": {},
   "outputs": [
    {
     "data": {
      "text/plain": [
       "1"
      ]
     },
     "execution_count": 93,
     "metadata": {},
     "output_type": "execute_result"
    }
   ],
   "source": [
    "name.count(\"manisha\")"
   ]
  },
  {
   "cell_type": "code",
   "execution_count": 94,
   "id": "76511fef",
   "metadata": {},
   "outputs": [],
   "source": [
    "# add new element in the list"
   ]
  },
  {
   "cell_type": "code",
   "execution_count": 95,
   "id": "f18d5077",
   "metadata": {},
   "outputs": [
    {
     "data": {
      "text/plain": [
       "['jimin', 'manisha', 'junkook', 'jin', 'gaikwad', '']"
      ]
     },
     "execution_count": 95,
     "metadata": {},
     "output_type": "execute_result"
    }
   ],
   "source": [
    "name[0]= \"jimin\"\n",
    "name"
   ]
  },
  {
   "cell_type": "code",
   "execution_count": 96,
   "id": "3fe0f3d4",
   "metadata": {},
   "outputs": [],
   "source": [
    "#replace function\n",
    "#replace function is used for replace the world in the string or list"
   ]
  },
  {
   "cell_type": "code",
   "execution_count": 97,
   "id": "8608b4a9",
   "metadata": {},
   "outputs": [
    {
     "data": {
      "text/plain": [
       "'shivaji'"
      ]
     },
     "execution_count": 97,
     "metadata": {},
     "output_type": "execute_result"
    }
   ],
   "source": [
    "father = \"shivaji\"\n",
    "father"
   ]
  },
  {
   "cell_type": "code",
   "execution_count": 98,
   "id": "ffd67b67",
   "metadata": {},
   "outputs": [
    {
     "data": {
      "text/plain": [
       "'Shivaji'"
      ]
     },
     "execution_count": 98,
     "metadata": {},
     "output_type": "execute_result"
    }
   ],
   "source": [
    "father_new = father.replace('s', 'S')\n",
    "father_new"
   ]
  },
  {
   "cell_type": "markdown",
   "id": "ca911e06",
   "metadata": {},
   "source": [
    "### Tuple Datatype"
   ]
  },
  {
   "cell_type": "code",
   "execution_count": 99,
   "id": "b2f67ced",
   "metadata": {},
   "outputs": [
    {
     "data": {
      "text/plain": [
       "(1, 5, (6+5j), 'maya', 5.3, 'aakash', 4, 'sharad', [9, 10, 4.2, (6+5j)])"
      ]
     },
     "execution_count": 99,
     "metadata": {},
     "output_type": "execute_result"
    }
   ],
   "source": [
    "data = (1,5,6+5j,\"maya\",5.3,\"aakash\",4,\"sharad\",[9,10,4.2,6+5j])\n",
    "data"
   ]
  },
  {
   "cell_type": "code",
   "execution_count": 100,
   "id": "838c8ba7",
   "metadata": {},
   "outputs": [
    {
     "data": {
      "text/plain": [
       "tuple"
      ]
     },
     "execution_count": 100,
     "metadata": {},
     "output_type": "execute_result"
    }
   ],
   "source": [
    "type(data)"
   ]
  },
  {
   "cell_type": "code",
   "execution_count": 101,
   "id": "433a020a",
   "metadata": {},
   "outputs": [
    {
     "data": {
      "text/plain": [
       "9"
      ]
     },
     "execution_count": 101,
     "metadata": {},
     "output_type": "execute_result"
    }
   ],
   "source": [
    "len(data)"
   ]
  },
  {
   "cell_type": "code",
   "execution_count": 102,
   "id": "a0b0f7db",
   "metadata": {},
   "outputs": [
    {
     "data": {
      "text/plain": [
       "(6+5j)"
      ]
     },
     "execution_count": 102,
     "metadata": {},
     "output_type": "execute_result"
    }
   ],
   "source": [
    "data[2]"
   ]
  },
  {
   "cell_type": "code",
   "execution_count": 103,
   "id": "a2c65da5",
   "metadata": {},
   "outputs": [
    {
     "data": {
      "text/plain": [
       "[9, 10, 4.2, (6+5j)]"
      ]
     },
     "execution_count": 103,
     "metadata": {},
     "output_type": "execute_result"
    }
   ],
   "source": [
    "data[-1]"
   ]
  },
  {
   "cell_type": "code",
   "execution_count": 104,
   "id": "85df9cab",
   "metadata": {},
   "outputs": [],
   "source": [
    "## in tuple we can not replace the element"
   ]
  },
  {
   "cell_type": "code",
   "execution_count": 105,
   "id": "0566a3df",
   "metadata": {},
   "outputs": [],
   "source": [
    "#data[3]=40"
   ]
  },
  {
   "cell_type": "markdown",
   "id": "79ef137f",
   "metadata": {},
   "source": [
    "### set"
   ]
  },
  {
   "cell_type": "code",
   "execution_count": 106,
   "id": "9e102994",
   "metadata": {},
   "outputs": [
    {
     "data": {
      "text/plain": [
       "{1, 3, 5, 6, 'manisha', 'priya', 'shivaji'}"
      ]
     },
     "execution_count": 106,
     "metadata": {},
     "output_type": "execute_result"
    }
   ],
   "source": [
    "s= {1,5,\"shivaji\",6,\"manisha\",\"priya\",3,5}\n",
    "s"
   ]
  },
  {
   "cell_type": "code",
   "execution_count": 107,
   "id": "eeceeca5",
   "metadata": {},
   "outputs": [
    {
     "data": {
      "text/plain": [
       "set"
      ]
     },
     "execution_count": 107,
     "metadata": {},
     "output_type": "execute_result"
    }
   ],
   "source": [
    "type(s)"
   ]
  },
  {
   "cell_type": "code",
   "execution_count": 108,
   "id": "a6f9bce6",
   "metadata": {},
   "outputs": [],
   "source": [
    "# In set we can only put the inmutable intity we can add mutable intity , list can not add in the set"
   ]
  },
  {
   "cell_type": "code",
   "execution_count": 109,
   "id": "9c74b32d",
   "metadata": {},
   "outputs": [
    {
     "data": {
      "text/plain": [
       "{(6, 0, 1), 1, 2, 5, 6}"
      ]
     },
     "execution_count": 109,
     "metadata": {},
     "output_type": "execute_result"
    }
   ],
   "source": [
    "x= {1,2,5,6,(6,0,1)}\n",
    "x"
   ]
  },
  {
   "cell_type": "code",
   "execution_count": 110,
   "id": "c870975b",
   "metadata": {},
   "outputs": [],
   "source": [
    "#set removes the duplicate values"
   ]
  },
  {
   "cell_type": "code",
   "execution_count": 111,
   "id": "338346d4",
   "metadata": {},
   "outputs": [
    {
     "data": {
      "text/plain": [
       "{1, 2, 3, 4, 5, 6, 10, 20}"
      ]
     },
     "execution_count": 111,
     "metadata": {},
     "output_type": "execute_result"
    }
   ],
   "source": [
    "d= {10,20,1,2,3,4,1,2,3,4,5,6,4,1,1,2,2,3,3,4} \n",
    "d"
   ]
  },
  {
   "cell_type": "code",
   "execution_count": 112,
   "id": "1cd58279",
   "metadata": {},
   "outputs": [],
   "source": [
    "# when we want to remove the repeated number in the list we can use the set function"
   ]
  },
  {
   "cell_type": "code",
   "execution_count": 113,
   "id": "28dcb3f3",
   "metadata": {},
   "outputs": [
    {
     "data": {
      "text/plain": [
       "{1, 2, 3, 4, 5, 6, 10, 20}"
      ]
     },
     "execution_count": 113,
     "metadata": {},
     "output_type": "execute_result"
    }
   ],
   "source": [
    "p = [10,20,1,2,3,4,1,2,3,4,5,6,4,1,1,2,2,3,3,4] \n",
    "set(p)"
   ]
  },
  {
   "cell_type": "code",
   "execution_count": 114,
   "id": "647a70d7",
   "metadata": {},
   "outputs": [],
   "source": [
    " # set never arrange the data"
   ]
  },
  {
   "cell_type": "code",
   "execution_count": 115,
   "id": "0c0fd5bf",
   "metadata": {},
   "outputs": [
    {
     "data": {
      "text/plain": [
       "{15, 23, 50, 52, 60, 8, 95, 'priya', 'shivaji'}"
      ]
     },
     "execution_count": 115,
     "metadata": {},
     "output_type": "execute_result"
    }
   ],
   "source": [
    "r= {50,23,15,95,\"shivaji\",\"priya\",8,60,52}\n",
    "r"
   ]
  },
  {
   "cell_type": "code",
   "execution_count": 116,
   "id": "f6cb59b6",
   "metadata": {},
   "outputs": [],
   "source": [
    "# we can not use the index operation in the set\n",
    "#r[2]"
   ]
  },
  {
   "cell_type": "code",
   "execution_count": 117,
   "id": "a793f7e6",
   "metadata": {},
   "outputs": [],
   "source": [
    "#add,remove operation"
   ]
  },
  {
   "cell_type": "code",
   "execution_count": 118,
   "id": "0b90346f",
   "metadata": {},
   "outputs": [],
   "source": [
    "r.add(22)"
   ]
  },
  {
   "cell_type": "code",
   "execution_count": 119,
   "id": "404c7d7c",
   "metadata": {},
   "outputs": [
    {
     "data": {
      "text/plain": [
       "{15, 22, 23, 50, 52, 60, 8, 95, 'priya', 'shivaji'}"
      ]
     },
     "execution_count": 119,
     "metadata": {},
     "output_type": "execute_result"
    }
   ],
   "source": [
    "r"
   ]
  },
  {
   "cell_type": "code",
   "execution_count": 120,
   "id": "226fab99",
   "metadata": {},
   "outputs": [
    {
     "data": {
      "text/plain": [
       "{15, 22, 23, 50, 52, 60, 95, 'priya', 'shivaji'}"
      ]
     },
     "execution_count": 120,
     "metadata": {},
     "output_type": "execute_result"
    }
   ],
   "source": [
    "r.remove(8)\n",
    "r"
   ]
  },
  {
   "cell_type": "markdown",
   "id": "f195c9be",
   "metadata": {},
   "source": [
    "### Dictionary"
   ]
  },
  {
   "cell_type": "code",
   "execution_count": 121,
   "id": "d082b60f",
   "metadata": {},
   "outputs": [
    {
     "data": {
      "text/plain": [
       "dict"
      ]
     },
     "execution_count": 121,
     "metadata": {},
     "output_type": "execute_result"
    }
   ],
   "source": [
    "dic = {}\n",
    "type(dic)\n",
    "# in dictionry data are store in key and value form"
   ]
  },
  {
   "cell_type": "code",
   "execution_count": 122,
   "id": "bc7b863e",
   "metadata": {},
   "outputs": [
    {
     "data": {
      "text/plain": [
       "{'name': 'priyanka',\n",
       " 'fathername': 'shivaji',\n",
       " 'rollno': 15,\n",
       " 'band': 'bts',\n",
       " 'star': 'junkook'}"
      ]
     },
     "execution_count": 122,
     "metadata": {},
     "output_type": "execute_result"
    }
   ],
   "source": [
    "data ={\"name\":\"priyanka\", \"fathername\":\"shivaji\",\"rollno\":15,\"band\":\"bts\",\"star\":\"junkook\"}\n",
    "data"
   ]
  },
  {
   "cell_type": "code",
   "execution_count": 123,
   "id": "2def0e04",
   "metadata": {},
   "outputs": [
    {
     "data": {
      "text/plain": [
       "dict"
      ]
     },
     "execution_count": 123,
     "metadata": {},
     "output_type": "execute_result"
    }
   ],
   "source": [
    "type(data)"
   ]
  },
  {
   "cell_type": "code",
   "execution_count": 124,
   "id": "6a5ede96",
   "metadata": {},
   "outputs": [
    {
     "data": {
      "text/plain": [
       "{123: 'priya', 456: 'shivaji', True: 12}"
      ]
     },
     "execution_count": 124,
     "metadata": {},
     "output_type": "execute_result"
    }
   ],
   "source": [
    "d2 ={123:\"priya\",456:\"shivaji\",True:12}\n",
    "d2"
   ]
  },
  {
   "cell_type": "code",
   "execution_count": 125,
   "id": "a12a7709",
   "metadata": {},
   "outputs": [],
   "source": [
    "# access the valve of dictionary by using the key"
   ]
  },
  {
   "cell_type": "code",
   "execution_count": 126,
   "id": "3ccb7799",
   "metadata": {},
   "outputs": [
    {
     "data": {
      "text/plain": [
       "'priya'"
      ]
     },
     "execution_count": 126,
     "metadata": {},
     "output_type": "execute_result"
    }
   ],
   "source": [
    "d2[123]"
   ]
  },
  {
   "cell_type": "code",
   "execution_count": 127,
   "id": "4b35094b",
   "metadata": {},
   "outputs": [
    {
     "data": {
      "text/plain": [
       "12"
      ]
     },
     "execution_count": 127,
     "metadata": {},
     "output_type": "execute_result"
    }
   ],
   "source": [
    "d2[True]"
   ]
  },
  {
   "cell_type": "code",
   "execution_count": 128,
   "id": "d7922f75",
   "metadata": {},
   "outputs": [],
   "source": [
    "# internally True is store in the form of 1 , so by using 1 we can access the True value"
   ]
  },
  {
   "cell_type": "code",
   "execution_count": 129,
   "id": "3d4a920c",
   "metadata": {},
   "outputs": [
    {
     "data": {
      "text/plain": [
       "12"
      ]
     },
     "execution_count": 129,
     "metadata": {},
     "output_type": "execute_result"
    }
   ],
   "source": [
    "d2[1]"
   ]
  },
  {
   "cell_type": "code",
   "execution_count": 130,
   "id": "e4791ff5",
   "metadata": {},
   "outputs": [
    {
     "data": {
      "text/plain": [
       "{'name': 'manisha',\n",
       " 'fathername': 'shivaji',\n",
       " 'rollno': 15,\n",
       " 'band': 'bts',\n",
       " 'star': 'junkook'}"
      ]
     },
     "execution_count": 130,
     "metadata": {},
     "output_type": "execute_result"
    }
   ],
   "source": [
    "info ={\"name\":\"priyanka\", \"fathername\":\"shivaji\",\"rollno\":15,\"band\":\"bts\",\"star\":\"junkook\", \"name\":\"manisha\"}\n",
    "info"
   ]
  },
  {
   "cell_type": "code",
   "execution_count": 131,
   "id": "80a48835",
   "metadata": {},
   "outputs": [
    {
     "data": {
      "text/plain": [
       "'priyanka'"
      ]
     },
     "execution_count": 131,
     "metadata": {},
     "output_type": "execute_result"
    }
   ],
   "source": [
    "data[\"name\"]"
   ]
  },
  {
   "cell_type": "code",
   "execution_count": 132,
   "id": "db464fa9",
   "metadata": {},
   "outputs": [
    {
     "data": {
      "text/plain": [
       "'bts'"
      ]
     },
     "execution_count": 132,
     "metadata": {},
     "output_type": "execute_result"
    }
   ],
   "source": [
    "data[\"band\"]"
   ]
  },
  {
   "cell_type": "code",
   "execution_count": 133,
   "id": "55036ae6",
   "metadata": {},
   "outputs": [
    {
     "data": {
      "text/plain": [
       "{'college': 'PU',\n",
       " 'dept': 'bioinformatics',\n",
       " 'year': 'first',\n",
       " 'sub': ['python', 'datascience,', 'java', 'programming']}"
      ]
     },
     "execution_count": 133,
     "metadata": {},
     "output_type": "execute_result"
    }
   ],
   "source": [
    "study = {\"college\":\"PU\",\"dept\":\"bioinformatics\",\"year\":\"first\", \"sub\":[\"python\",\"datascience,\",\"java\",\"programming\"]}\n",
    "study"
   ]
  },
  {
   "cell_type": "code",
   "execution_count": 134,
   "id": "c625eac9",
   "metadata": {},
   "outputs": [
    {
     "data": {
      "text/plain": [
       "'datascience,'"
      ]
     },
     "execution_count": 134,
     "metadata": {},
     "output_type": "execute_result"
    }
   ],
   "source": [
    "study[\"sub\"][1]"
   ]
  },
  {
   "cell_type": "code",
   "execution_count": 135,
   "id": "f553e6f2",
   "metadata": {},
   "outputs": [
    {
     "data": {
      "text/plain": [
       "{'name': ['priya', 'shivaji', 'manisha'],\n",
       " 'number': (1, 5, 6, 2, 3, 4),\n",
       " 'hobby': {'cooking', 'roaming', 'study'},\n",
       " 'day': {'monday': 1, 'tuesday': 2, 'sunday': 3}}"
      ]
     },
     "execution_count": 135,
     "metadata": {},
     "output_type": "execute_result"
    }
   ],
   "source": [
    "family = {\"name\":[\"priya\",\"shivaji\",\"manisha\"], \"number\":(1,5,6,2,3,4), \"hobby\":{\"roaming\",\"study\",\"cooking\"},\"day\":{\"monday\":1,\"tuesday\":2,\"sunday\":3}}\n",
    "family"
   ]
  },
  {
   "cell_type": "code",
   "execution_count": 136,
   "id": "30bd8a5e",
   "metadata": {},
   "outputs": [
    {
     "data": {
      "text/plain": [
       "{'monday': 1, 'tuesday': 2, 'sunday': 3}"
      ]
     },
     "execution_count": 136,
     "metadata": {},
     "output_type": "execute_result"
    }
   ],
   "source": [
    "family['day']"
   ]
  },
  {
   "cell_type": "code",
   "execution_count": 137,
   "id": "123b9990",
   "metadata": {},
   "outputs": [
    {
     "data": {
      "text/plain": [
       "2"
      ]
     },
     "execution_count": 137,
     "metadata": {},
     "output_type": "execute_result"
    }
   ],
   "source": [
    "family['day']['tuesday']"
   ]
  },
  {
   "cell_type": "code",
   "execution_count": 138,
   "id": "adc34c1e",
   "metadata": {},
   "outputs": [],
   "source": [
    "# we can add new key values in the dictionary"
   ]
  },
  {
   "cell_type": "code",
   "execution_count": 139,
   "id": "6d2e7fb7",
   "metadata": {},
   "outputs": [
    {
     "data": {
      "text/plain": [
       "{'name': ['priya', 'shivaji', 'manisha'],\n",
       " 'number': (1, 5, 6, 2, 3, 4),\n",
       " 'hobby': {'cooking', 'roaming', 'study'},\n",
       " 'day': {'monday': 1, 'tuesday': 2, 'sunday': 3},\n",
       " 'teacher': ['mohane', 'kumar', 'Amuodha', 'Sayad']}"
      ]
     },
     "execution_count": 139,
     "metadata": {},
     "output_type": "execute_result"
    }
   ],
   "source": [
    "family['teacher']= [\"mohane\", \"kumar\", \"Amuodha\", \"Sayad\"]\n",
    "family"
   ]
  },
  {
   "cell_type": "code",
   "execution_count": 140,
   "id": "562b8c76",
   "metadata": {},
   "outputs": [],
   "source": [
    "# we can replace the value of the key with new value"
   ]
  },
  {
   "cell_type": "code",
   "execution_count": 141,
   "id": "08214024",
   "metadata": {},
   "outputs": [
    {
     "data": {
      "text/plain": [
       "{'name': ['priya', 'shivaji', 'manisha'],\n",
       " 'number': (1, 5, 6, 2, 3, 4),\n",
       " 'hobby': {'cooking', 'roaming', 'study'},\n",
       " 'day': {'monday': 1, 'tuesday': 2, 'sunday': 3},\n",
       " 'teacher': ['Archana']}"
      ]
     },
     "execution_count": 141,
     "metadata": {},
     "output_type": "execute_result"
    }
   ],
   "source": [
    "family[\"teacher\"]= [\"Archana\"]\n",
    "family"
   ]
  },
  {
   "cell_type": "code",
   "execution_count": 142,
   "id": "740bf485",
   "metadata": {},
   "outputs": [],
   "source": [
    "# we acn delete the key value pair by using the del function"
   ]
  },
  {
   "cell_type": "code",
   "execution_count": 143,
   "id": "c2e7e3e4",
   "metadata": {},
   "outputs": [
    {
     "data": {
      "text/plain": [
       "{'name': ['priya', 'shivaji', 'manisha'],\n",
       " 'number': (1, 5, 6, 2, 3, 4),\n",
       " 'hobby': {'cooking', 'roaming', 'study'},\n",
       " 'day': {'monday': 1, 'tuesday': 2, 'sunday': 3}}"
      ]
     },
     "execution_count": 143,
     "metadata": {},
     "output_type": "execute_result"
    }
   ],
   "source": [
    "del family[\"teacher\"]\n",
    "family"
   ]
  },
  {
   "cell_type": "code",
   "execution_count": 144,
   "id": "114d3b06",
   "metadata": {},
   "outputs": [],
   "source": [
    "# access the key of the dictionary"
   ]
  },
  {
   "cell_type": "code",
   "execution_count": 145,
   "id": "9022725e",
   "metadata": {},
   "outputs": [
    {
     "data": {
      "text/plain": [
       "dict_keys(['name', 'number', 'hobby', 'day'])"
      ]
     },
     "execution_count": 145,
     "metadata": {},
     "output_type": "execute_result"
    }
   ],
   "source": [
    "family.keys()"
   ]
  },
  {
   "cell_type": "code",
   "execution_count": 146,
   "id": "4f6def1f",
   "metadata": {},
   "outputs": [
    {
     "data": {
      "text/plain": [
       "['name', 'number', 'hobby', 'day']"
      ]
     },
     "execution_count": 146,
     "metadata": {},
     "output_type": "execute_result"
    }
   ],
   "source": [
    "list(family.keys())"
   ]
  },
  {
   "cell_type": "code",
   "execution_count": 147,
   "id": "776db802",
   "metadata": {},
   "outputs": [],
   "source": [
    "# access the values of the dictionary"
   ]
  },
  {
   "cell_type": "code",
   "execution_count": 148,
   "id": "8fb0be9c",
   "metadata": {},
   "outputs": [
    {
     "data": {
      "text/plain": [
       "dict_values([['priya', 'shivaji', 'manisha'], (1, 5, 6, 2, 3, 4), {'roaming', 'study', 'cooking'}, {'monday': 1, 'tuesday': 2, 'sunday': 3}])"
      ]
     },
     "execution_count": 148,
     "metadata": {},
     "output_type": "execute_result"
    }
   ],
   "source": [
    "family.values()"
   ]
  },
  {
   "cell_type": "code",
   "execution_count": 149,
   "id": "efdece3b",
   "metadata": {},
   "outputs": [],
   "source": [
    "# convet the valuse into the list"
   ]
  },
  {
   "cell_type": "code",
   "execution_count": 150,
   "id": "901c9dd4",
   "metadata": {},
   "outputs": [
    {
     "data": {
      "text/plain": [
       "[['priya', 'shivaji', 'manisha'],\n",
       " (1, 5, 6, 2, 3, 4),\n",
       " {'cooking', 'roaming', 'study'},\n",
       " {'monday': 1, 'tuesday': 2, 'sunday': 3}]"
      ]
     },
     "execution_count": 150,
     "metadata": {},
     "output_type": "execute_result"
    }
   ],
   "source": [
    "list(family.values())"
   ]
  },
  {
   "cell_type": "code",
   "execution_count": 151,
   "id": "cbcc6816",
   "metadata": {},
   "outputs": [
    {
     "data": {
      "text/plain": [
       "dict_items([('name', ['priya', 'shivaji', 'manisha']), ('number', (1, 5, 6, 2, 3, 4)), ('hobby', {'roaming', 'study', 'cooking'}), ('day', {'monday': 1, 'tuesday': 2, 'sunday': 3})])"
      ]
     },
     "execution_count": 151,
     "metadata": {},
     "output_type": "execute_result"
    }
   ],
   "source": [
    "family.items()"
   ]
  },
  {
   "cell_type": "code",
   "execution_count": 152,
   "id": "7809bfbf",
   "metadata": {},
   "outputs": [
    {
     "data": {
      "text/plain": [
       "{'monday': 1, 'tuesday': 2, 'sunday': 3}"
      ]
     },
     "execution_count": 152,
     "metadata": {},
     "output_type": "execute_result"
    }
   ],
   "source": [
    "family.pop(\"day\")"
   ]
  },
  {
   "cell_type": "markdown",
   "id": "f8c938ed",
   "metadata": {},
   "source": [
    "### Decision making statement"
   ]
  },
  {
   "cell_type": "code",
   "execution_count": 153,
   "id": "35ab411e",
   "metadata": {},
   "outputs": [],
   "source": [
    "## if else statement"
   ]
  },
  {
   "cell_type": "code",
   "execution_count": 154,
   "id": "64482f9e",
   "metadata": {},
   "outputs": [
    {
     "name": "stdout",
     "output_type": "stream",
     "text": [
      "enter your marks: 85\n",
      "The grade is second class\n",
      "I am student of the pondicherry university\n"
     ]
    }
   ],
   "source": [
    "marks = int(input(\"enter your marks: \"))\n",
    "if marks >=90 and marks <100:\n",
    "    print(\"The gatde is first class\")\n",
    "elif marks >=80 and marks<90:\n",
    "    print(\"The grade is second class\")\n",
    "elif(marks>= 70 and marks <80):\n",
    "    print(\"The grade is third class\")\n",
    "else:\n",
    "    print(\"You have to do study\")\n",
    "print(\"I am student of the pondicherry university\")"
   ]
  },
  {
   "cell_type": "code",
   "execution_count": 155,
   "id": "675dc001",
   "metadata": {},
   "outputs": [
    {
     "name": "stdout",
     "output_type": "stream",
     "text": [
      "enter the price of the fruit: 150\n",
      "the price of the fruit is high\n",
      "fruits are good for the health. \n",
      "we should have the eat fruit daily\n"
     ]
    }
   ],
   "source": [
    "price = int(input(\"enter the price of the fruit: \"))\n",
    "if price>=100 :\n",
    "    print(\"the price of the fruit is high\")\n",
    "elif price>=50 and price <100:\n",
    "    print(\"this fruit is affordable\")\n",
    "else:\n",
    "    print(\"fruit are fresh\")\n",
    "print(\"fruits are good for the health. \\n\"\"we should have the eat fruit daily\")\n"
   ]
  },
  {
   "cell_type": "code",
   "execution_count": 156,
   "id": "c66a0fd2",
   "metadata": {},
   "outputs": [
    {
     "name": "stdout",
     "output_type": "stream",
     "text": [
      "enter the price of the pen: 650\n",
      "pen is very costly\n"
     ]
    }
   ],
   "source": [
    "price = int(input(\"enter the price of the pen: \"))\n",
    "if price>= 500:\n",
    "    if price >600:\n",
    "        print(\"pen is very costly\")\n",
    "    elif price> 510:\n",
    "        print(\"pen is the best\")\n",
    "elif price <= 200 and price> 100:\n",
    "    print (\"i want to buy the pen \")\n"
   ]
  },
  {
   "cell_type": "markdown",
   "id": "fa87db89",
   "metadata": {},
   "source": [
    "For loop"
   ]
  },
  {
   "cell_type": "code",
   "execution_count": 157,
   "id": "43503f51",
   "metadata": {},
   "outputs": [
    {
     "name": "stdout",
     "output_type": "stream",
     "text": [
      "[2, 4, 6, 8, 10, 12, 14, 16, 18]\n"
     ]
    }
   ],
   "source": [
    "l1 = [1,2,3,4,5,6,7,8,9]\n",
    "l2= []\n",
    "for i in l1:\n",
    "    l2.append(i*2)\n",
    "print(l2)"
   ]
  },
  {
   "cell_type": "code",
   "execution_count": 158,
   "id": "025bea28",
   "metadata": {},
   "outputs": [],
   "source": [
    "name = [\"\"]"
   ]
  },
  {
   "cell_type": "code",
   "execution_count": 159,
   "id": "632981d0",
   "metadata": {},
   "outputs": [
    {
     "name": "stdout",
     "output_type": "stream",
     "text": [
      "['PRIYA', 'SHIVAJI', 'GAIKWAD', 'MANISHA']\n"
     ]
    }
   ],
   "source": [
    "name = [\"priya\",\"shivaji\",\"gaikwad\",\"manisha\"]\n",
    "name2=[]\n",
    "for i in name:\n",
    "    name2.append(i.upper())\n",
    "print(name2)"
   ]
  },
  {
   "cell_type": "code",
   "execution_count": 160,
   "id": "af80eb7e",
   "metadata": {},
   "outputs": [
    {
     "name": "stdout",
     "output_type": "stream",
     "text": [
      "[1, 2, 3, 4, 5, 6.3, 11, 8]\n",
      "['priya', 'shivaji', 'manisha']\n"
     ]
    }
   ],
   "source": [
    "data = [1,2,3,4,5,\"priya\",\"shivaji\",6.3,6+5,8,\"manisha\"]\n",
    "data1=[]\n",
    "data2=[]\n",
    "for i in data:\n",
    "    if type(i) == int or type(i)== float:\n",
    "        data1.append(i)\n",
    "    else:\n",
    "        data2.append(i)\n",
    "print(data1)\n",
    "print(data2)"
   ]
  },
  {
   "cell_type": "code",
   "execution_count": 161,
   "id": "3ff45bf9",
   "metadata": {},
   "outputs": [],
   "source": [
    "data = [\"priyanka \", \"shivaji\", 1,2,4,56,\"Manisha\", \"Harshada\"]\n",
    "str_data = []\n",
    "num_data = []"
   ]
  },
  {
   "cell_type": "code",
   "execution_count": 162,
   "id": "eb5f72d9",
   "metadata": {},
   "outputs": [
    {
     "name": "stdout",
     "output_type": "stream",
     "text": [
      "[1, 2, 4, 56]\n",
      "['priyanka ', 'shivaji', 'Manisha', 'Harshada']\n"
     ]
    }
   ],
   "source": [
    "for i in data:\n",
    "    if type(i)== int:\n",
    "        num_data.append(i)\n",
    "    else:\n",
    "        str_data.append(i)\n",
    "print(num_data)\n",
    "print(str_data)"
   ]
  },
  {
   "cell_type": "code",
   "execution_count": 163,
   "id": "2332bdbc",
   "metadata": {},
   "outputs": [
    {
     "name": "stdout",
     "output_type": "stream",
     "text": [
      "['SHIVAJI', 'MANISHA', 'BABY', 'PRIYANKA', 'HARSHADA', 'SOHAM']\n"
     ]
    }
   ],
   "source": [
    "family= [\"shivaji\",\"manisha\",\"baby\",\"priyanka\",\"harshada\",\"soham\"]\n",
    "family2=[]\n",
    "for i in family:\n",
    "    family2.append(i.upper())\n",
    "print(family2)"
   ]
  },
  {
   "cell_type": "code",
   "execution_count": 164,
   "id": "1bc4e1e8",
   "metadata": {},
   "outputs": [],
   "source": [
    "## break function "
   ]
  },
  {
   "cell_type": "code",
   "execution_count": 165,
   "id": "30dac636",
   "metadata": {},
   "outputs": [
    {
     "name": "stdout",
     "output_type": "stream",
     "text": [
      "['priyanka', 'shivaji', 'manisha', 'soham', 'harshada', 'reva', 'devansh']\n"
     ]
    }
   ],
   "source": [
    "name = [\"priyanka\", \"shivaji\", \"manisha\", \"soham\", \"harshada\", \"reva\", \"devansh\"]\n",
    "print(name)"
   ]
  },
  {
   "cell_type": "code",
   "execution_count": 166,
   "id": "f52ea9b4",
   "metadata": {},
   "outputs": [
    {
     "name": "stdout",
     "output_type": "stream",
     "text": [
      "priyanka\n",
      "shivaji\n"
     ]
    }
   ],
   "source": [
    "for i in name:\n",
    "    if i == \"manisha\":\n",
    "        break\n",
    "    print(i)"
   ]
  },
  {
   "cell_type": "code",
   "execution_count": 167,
   "id": "84451370",
   "metadata": {},
   "outputs": [],
   "source": [
    "## continue function"
   ]
  },
  {
   "cell_type": "code",
   "execution_count": 168,
   "id": "5c02922c",
   "metadata": {},
   "outputs": [
    {
     "name": "stdout",
     "output_type": "stream",
     "text": [
      "priyanka\n",
      "shivaji\n",
      "soham\n",
      "harshada\n",
      "reva\n",
      "devansh\n"
     ]
    }
   ],
   "source": [
    "for i in name:\n",
    "    if i == \"manisha\":\n",
    "        continue\n",
    "    print(i)\n",
    "    "
   ]
  },
  {
   "cell_type": "code",
   "execution_count": 169,
   "id": "7d023723",
   "metadata": {},
   "outputs": [],
   "source": [
    "#else statement is only run when the for loop is completely execute\n",
    "# in this case the for loop is break when i== 2 therefore else statement is not execute"
   ]
  },
  {
   "cell_type": "code",
   "execution_count": 170,
   "id": "3b0a8b90",
   "metadata": {},
   "outputs": [
    {
     "name": "stdout",
     "output_type": "stream",
     "text": [
      "1\n"
     ]
    }
   ],
   "source": [
    "l = [1,2,3,4,5]\n",
    "for i in l:\n",
    "    if i == 2:\n",
    "        break\n",
    "    print(i)\n",
    "else:\n",
    "    print(\"I am priyanka shivaji gaikwad, student of pondicherry university.\")\n"
   ]
  },
  {
   "cell_type": "code",
   "execution_count": 171,
   "id": "097dfe1c",
   "metadata": {},
   "outputs": [
    {
     "name": "stdout",
     "output_type": "stream",
     "text": [
      "1\n",
      "3\n",
      "4\n",
      "5\n",
      "I am priyanka shivaji gaikwad, student of pondicherry university.\n"
     ]
    }
   ],
   "source": [
    "l = [1,2,3,4,5]\n",
    "for i in l:\n",
    "    if i == 2:\n",
    "        continue\n",
    "    print(i)\n",
    "else:\n",
    "    print(\"I am priyanka shivaji gaikwad, student of pondicherry university.\")\n"
   ]
  },
  {
   "cell_type": "code",
   "execution_count": 172,
   "id": "cedc279e",
   "metadata": {},
   "outputs": [],
   "source": [
    "## range function"
   ]
  },
  {
   "cell_type": "code",
   "execution_count": 173,
   "id": "a45a27fd",
   "metadata": {},
   "outputs": [
    {
     "data": {
      "text/plain": [
       "range(0, 5)"
      ]
     },
     "execution_count": 173,
     "metadata": {},
     "output_type": "execute_result"
    }
   ],
   "source": [
    "range(5)"
   ]
  },
  {
   "cell_type": "code",
   "execution_count": 174,
   "id": "70f15588",
   "metadata": {},
   "outputs": [
    {
     "data": {
      "text/plain": [
       "[0, 1, 2, 3, 4]"
      ]
     },
     "execution_count": 174,
     "metadata": {},
     "output_type": "execute_result"
    }
   ],
   "source": [
    "list(range(5))"
   ]
  },
  {
   "cell_type": "code",
   "execution_count": 175,
   "id": "a3e1f667",
   "metadata": {},
   "outputs": [
    {
     "data": {
      "text/plain": [
       "[0, 1, 2, 3, 4]"
      ]
     },
     "execution_count": 175,
     "metadata": {},
     "output_type": "execute_result"
    }
   ],
   "source": [
    "list(range(0,5))"
   ]
  },
  {
   "cell_type": "code",
   "execution_count": 176,
   "id": "dd027829",
   "metadata": {},
   "outputs": [
    {
     "data": {
      "text/plain": [
       "[0, 2, 4]"
      ]
     },
     "execution_count": 176,
     "metadata": {},
     "output_type": "execute_result"
    }
   ],
   "source": [
    "list(range(0,6,2))"
   ]
  },
  {
   "cell_type": "code",
   "execution_count": 177,
   "id": "a096ee04",
   "metadata": {},
   "outputs": [
    {
     "name": "stdout",
     "output_type": "stream",
     "text": [
      "6\n",
      "[0, 1, 2, 3, 4, 5]\n",
      "[5, 4, 3, 2, 1, 0]\n"
     ]
    }
   ],
   "source": [
    "name=[\"shivaji\",\"manisha\",\"baby\",\"priyanka\",\"harshada\",\"soham\"]\n",
    "print(len(name))\n",
    "print(list(range(len(name))))\n",
    "print(list(range(len(name)-1,-1,-1)))"
   ]
  },
  {
   "cell_type": "code",
   "execution_count": 178,
   "id": "32776e5a",
   "metadata": {},
   "outputs": [],
   "source": [
    "#write the i in name in the reverse order"
   ]
  },
  {
   "cell_type": "code",
   "execution_count": 179,
   "id": "979a3a82",
   "metadata": {},
   "outputs": [
    {
     "name": "stdout",
     "output_type": "stream",
     "text": [
      "soham\n",
      "harshada\n",
      "priyanka\n",
      "baby\n",
      "manisha\n"
     ]
    }
   ],
   "source": [
    "for i in list(range(5,0,-1)): \n",
    "     print(name[i])"
   ]
  },
  {
   "cell_type": "code",
   "execution_count": 180,
   "id": "37c0f9f6",
   "metadata": {},
   "outputs": [],
   "source": [
    "# extract the data from the list at even index by using the for loop"
   ]
  },
  {
   "cell_type": "code",
   "execution_count": 181,
   "id": "3d19fdaa",
   "metadata": {},
   "outputs": [
    {
     "name": "stdout",
     "output_type": "stream",
     "text": [
      "[0, 2, 4, 6, 8, 10, 12, 14]\n",
      "1\n",
      "5\n",
      "4\n",
      "7\n",
      "9\n",
      "3\n",
      "1\n",
      "52\n"
     ]
    }
   ],
   "source": [
    "data2 =[1,2,5,6,4,3,7,8,9,6,3,2,1,4,52]\n",
    "print(list(range(0,len(data2),2)))\n",
    "for i in range(0,len(data2),2):\n",
    "    print(data2[i])"
   ]
  },
  {
   "cell_type": "code",
   "execution_count": 182,
   "id": "2a541bfc",
   "metadata": {},
   "outputs": [],
   "source": [
    "# sum of the element of the list by using for loop"
   ]
  },
  {
   "cell_type": "code",
   "execution_count": 183,
   "id": "426e2bff",
   "metadata": {},
   "outputs": [
    {
     "name": "stdout",
     "output_type": "stream",
     "text": [
      "55\n"
     ]
    }
   ],
   "source": [
    "num=[1,5,6,3,4,8,9,2,7,10]\n",
    "sum = 0\n",
    "for i in num:\n",
    "    sum=sum+i\n",
    "print(sum)"
   ]
  },
  {
   "cell_type": "code",
   "execution_count": 184,
   "id": "9764c755",
   "metadata": {},
   "outputs": [],
   "source": [
    "# for loop in tuple"
   ]
  },
  {
   "cell_type": "code",
   "execution_count": 185,
   "id": "b4bf4b32",
   "metadata": {},
   "outputs": [
    {
     "name": "stdout",
     "output_type": "stream",
     "text": [
      "1\n",
      "2\n",
      "3\n",
      "4\n",
      "5\n"
     ]
    }
   ],
   "source": [
    "tup=(1,2,3,4,5)\n",
    "for i in tup:\n",
    "    print(i)"
   ]
  },
  {
   "cell_type": "code",
   "execution_count": 186,
   "id": "fc73667a",
   "metadata": {},
   "outputs": [],
   "source": [
    "#sum of num in tup"
   ]
  },
  {
   "cell_type": "code",
   "execution_count": 187,
   "id": "515ce711",
   "metadata": {},
   "outputs": [
    {
     "name": "stdout",
     "output_type": "stream",
     "text": [
      "15\n"
     ]
    }
   ],
   "source": [
    "result= 0\n",
    "for i in tup:\n",
    "    result = result +i\n",
    "print(result)"
   ]
  },
  {
   "cell_type": "code",
   "execution_count": 188,
   "id": "04040ea6",
   "metadata": {},
   "outputs": [],
   "source": [
    "# for loop on set"
   ]
  },
  {
   "cell_type": "code",
   "execution_count": 189,
   "id": "2083fbcb",
   "metadata": {},
   "outputs": [
    {
     "name": "stdout",
     "output_type": "stream",
     "text": [
      "1\n",
      "2\n",
      "3\n",
      "4\n",
      "5\n",
      "6\n",
      "7\n",
      "8\n",
      "9\n",
      "10\n"
     ]
    }
   ],
   "source": [
    "s= {1,2,3,4,5,6,7,8,9,10}\n",
    "for i in s:\n",
    "    print(i)"
   ]
  },
  {
   "cell_type": "markdown",
   "id": "c38595fb",
   "metadata": {},
   "source": [
    "### String"
   ]
  },
  {
   "cell_type": "code",
   "execution_count": 190,
   "id": "5ce1ba48",
   "metadata": {},
   "outputs": [
    {
     "name": "stdout",
     "output_type": "stream",
     "text": [
      "p\n",
      "r\n",
      "i\n",
      "y\n",
      "a\n",
      "n\n",
      "k\n",
      "a\n"
     ]
    }
   ],
   "source": [
    "name = \"priyanka\"\n",
    "for i in name:\n",
    "    print(i)"
   ]
  },
  {
   "cell_type": "markdown",
   "id": "662c079a",
   "metadata": {},
   "source": [
    "### Dictionary"
   ]
  },
  {
   "cell_type": "code",
   "execution_count": 191,
   "id": "beaee9e8",
   "metadata": {},
   "outputs": [
    {
     "name": "stdout",
     "output_type": "stream",
     "text": [
      "{'name': 'priyanka', 'sub': 'python', 'Reg.no': 15, 'Friends': ['monali', 'gayatri', 'Praddyumna', 'rushi', 'kaustav', 'shikhar']}\n"
     ]
    }
   ],
   "source": [
    "dic = {\"name\": \"priyanka\", \"sub\": \"python\", \"Reg.no\": 15, \"Friends\": [\"monali\", \"gayatri\",\"Praddyumna\",\"rushi\",\"kaustav\",\"shikhar\"]}\n",
    "print(dic)"
   ]
  },
  {
   "cell_type": "code",
   "execution_count": 192,
   "id": "9c04720b",
   "metadata": {},
   "outputs": [
    {
     "data": {
      "text/plain": [
       "dict_keys(['name', 'sub', 'Reg.no', 'Friends'])"
      ]
     },
     "execution_count": 192,
     "metadata": {},
     "output_type": "execute_result"
    }
   ],
   "source": [
    "dic.keys()"
   ]
  },
  {
   "cell_type": "code",
   "execution_count": 193,
   "id": "83f2fb5c",
   "metadata": {},
   "outputs": [
    {
     "data": {
      "text/plain": [
       "dict_values(['priyanka', 'python', 15, ['monali', 'gayatri', 'Praddyumna', 'rushi', 'kaustav', 'shikhar']])"
      ]
     },
     "execution_count": 193,
     "metadata": {},
     "output_type": "execute_result"
    }
   ],
   "source": [
    "dic.values()"
   ]
  },
  {
   "cell_type": "code",
   "execution_count": 194,
   "id": "c835e47f",
   "metadata": {},
   "outputs": [
    {
     "data": {
      "text/plain": [
       "dict_items([('name', 'priyanka'), ('sub', 'python'), ('Reg.no', 15), ('Friends', ['monali', 'gayatri', 'Praddyumna', 'rushi', 'kaustav', 'shikhar'])])"
      ]
     },
     "execution_count": 194,
     "metadata": {},
     "output_type": "execute_result"
    }
   ],
   "source": [
    "dic.items()"
   ]
  },
  {
   "cell_type": "code",
   "execution_count": 195,
   "id": "9be15a85",
   "metadata": {},
   "outputs": [
    {
     "name": "stdout",
     "output_type": "stream",
     "text": [
      "name\n",
      "sub\n",
      "Reg.no\n",
      "Friends\n"
     ]
    }
   ],
   "source": [
    "for i in dic.keys():\n",
    "    print(i)"
   ]
  },
  {
   "cell_type": "code",
   "execution_count": 196,
   "id": "79c7db16",
   "metadata": {},
   "outputs": [
    {
     "name": "stdout",
     "output_type": "stream",
     "text": [
      "priyanka\n",
      "python\n",
      "15\n",
      "['monali', 'gayatri', 'Praddyumna', 'rushi', 'kaustav', 'shikhar']\n"
     ]
    }
   ],
   "source": [
    "for i in dic.values():\n",
    "    print(i)"
   ]
  },
  {
   "cell_type": "code",
   "execution_count": 197,
   "id": "7434bc08",
   "metadata": {},
   "outputs": [
    {
     "name": "stdout",
     "output_type": "stream",
     "text": [
      "Priyanka 1 *\n",
      "Priyanka 2 **\n",
      "Priyanka 3 ***\n",
      "Priyanka 4 ****\n",
      "Priyanka 5 *****\n"
     ]
    }
   ],
   "source": [
    "for i in range(1,6):\n",
    "    print(\"Priyanka\",i ,i*'*')"
   ]
  },
  {
   "cell_type": "code",
   "execution_count": 198,
   "id": "5db1575c",
   "metadata": {},
   "outputs": [
    {
     "name": "stdout",
     "output_type": "stream",
     "text": [
      "\n",
      "*\n",
      "**\n",
      "***\n",
      "****\n",
      "*****\n",
      "******\n",
      "*******\n",
      "********\n",
      "*********\n"
     ]
    }
   ],
   "source": [
    "for i in range (10):\n",
    "    print(i* '*')"
   ]
  },
  {
   "cell_type": "code",
   "execution_count": 199,
   "id": "b3fffc4a",
   "metadata": {},
   "outputs": [],
   "source": [
    "# table of number by using the for loop"
   ]
  },
  {
   "cell_type": "code",
   "execution_count": 200,
   "id": "76c382d9",
   "metadata": {},
   "outputs": [
    {
     "name": "stdout",
     "output_type": "stream",
     "text": [
      "enter any num: 2\n",
      "2\n",
      "4\n",
      "6\n",
      "8\n",
      "10\n",
      "12\n",
      "14\n",
      "16\n",
      "18\n",
      "20\n"
     ]
    }
   ],
   "source": [
    "a = int (input(\"enter any num: \"))\n",
    "for i in range(1,11):\n",
    "    result = a*i\n",
    "    print(result)"
   ]
  },
  {
   "cell_type": "markdown",
   "id": "ee405e23",
   "metadata": {},
   "source": [
    "### While loop"
   ]
  },
  {
   "cell_type": "code",
   "execution_count": 201,
   "id": "5d62dbde",
   "metadata": {},
   "outputs": [],
   "source": [
    "## print the numbers upto 10 by using the while loop"
   ]
  },
  {
   "cell_type": "code",
   "execution_count": 202,
   "id": "8e477a0d",
   "metadata": {},
   "outputs": [
    {
     "name": "stdout",
     "output_type": "stream",
     "text": [
      "1\n",
      "2\n",
      "3\n",
      "4\n",
      "5\n",
      "6\n",
      "7\n",
      "8\n",
      "9\n",
      "10\n"
     ]
    }
   ],
   "source": [
    "a = 1\n",
    "while a<=10:\n",
    "    print(a)\n",
    "    a=a+1"
   ]
  },
  {
   "cell_type": "code",
   "execution_count": 203,
   "id": "d240a888",
   "metadata": {},
   "outputs": [],
   "source": [
    "## sum of the numbers by using the while loop"
   ]
  },
  {
   "cell_type": "code",
   "execution_count": 204,
   "id": "9025d4cc",
   "metadata": {},
   "outputs": [
    {
     "name": "stdout",
     "output_type": "stream",
     "text": [
      "enter your number: 5\n",
      "15\n"
     ]
    }
   ],
   "source": [
    "a = int(input(\"enter your number: \"))\n",
    "start = 1\n",
    "sum = 0\n",
    "while start<=a:\n",
    "    sum = sum+start\n",
    "    start = start+1\n",
    "print(sum)"
   ]
  },
  {
   "cell_type": "code",
   "execution_count": 205,
   "id": "2863fe49",
   "metadata": {},
   "outputs": [],
   "source": [
    "# factorial of the given number"
   ]
  },
  {
   "cell_type": "code",
   "execution_count": 206,
   "id": "2b9ddfd5",
   "metadata": {},
   "outputs": [
    {
     "name": "stdout",
     "output_type": "stream",
     "text": [
      "enter your number: 5\n",
      "120\n"
     ]
    }
   ],
   "source": [
    "x= int(input(\"enter your number: \"))\n",
    "factorial = 1\n",
    "while x>0:\n",
    "    factorial = factorial*x\n",
    "    x = x-1\n",
    "print(factorial)"
   ]
  },
  {
   "cell_type": "code",
   "execution_count": 207,
   "id": "1108d57c",
   "metadata": {},
   "outputs": [],
   "source": [
    "# finonacci series"
   ]
  },
  {
   "cell_type": "code",
   "execution_count": 208,
   "id": "512462a3",
   "metadata": {},
   "outputs": [
    {
     "name": "stdout",
     "output_type": "stream",
     "text": [
      "enter any number: 5\n",
      "0\n",
      "1\n",
      "1\n",
      "2\n",
      "3\n"
     ]
    }
   ],
   "source": [
    "num = int (input(\"enter any number: \"))\n",
    "a=0\n",
    "b=1\n",
    "count = 0\n",
    "while count<num:\n",
    "    print(a)\n",
    "    c=a+b\n",
    "    a=b\n",
    "    b=c\n",
    "    count =count+1"
   ]
  },
  {
   "cell_type": "code",
   "execution_count": 209,
   "id": "2f15cb95",
   "metadata": {},
   "outputs": [],
   "source": [
    "## reverse the word by using the while loop"
   ]
  },
  {
   "cell_type": "code",
   "execution_count": 210,
   "id": "48b26894",
   "metadata": {},
   "outputs": [
    {
     "name": "stdout",
     "output_type": "stream",
     "text": [
      "Enter any word: hello\n",
      "hello\n",
      "olleh\n"
     ]
    }
   ],
   "source": [
    "name = input(\"Enter any word: \")\n",
    "print(name)\n",
    "reverse = ''\n",
    "length = len(name)\n",
    "while length>0:\n",
    "    reverse = reverse + name[length - 1]\n",
    "    length = length-1\n",
    "print(reverse)"
   ]
  },
  {
   "cell_type": "code",
   "execution_count": 211,
   "id": "1dbc4d2f",
   "metadata": {},
   "outputs": [],
   "source": [
    "# table of number by using while loop"
   ]
  },
  {
   "cell_type": "code",
   "execution_count": 212,
   "id": "0787550e",
   "metadata": {},
   "outputs": [
    {
     "name": "stdout",
     "output_type": "stream",
     "text": [
      "Enter the number: 2\n",
      "2\n",
      "4\n",
      "6\n",
      "8\n",
      "10\n",
      "12\n",
      "14\n",
      "16\n",
      "18\n",
      "20\n"
     ]
    }
   ],
   "source": [
    "x = int(input(\"Enter the number: \"))\n",
    "a= 1\n",
    "while a<=10:\n",
    "    result = a*x\n",
    "    print(result)\n",
    "    a = a+1"
   ]
  },
  {
   "cell_type": "code",
   "execution_count": 213,
   "id": "22fc51b8",
   "metadata": {},
   "outputs": [],
   "source": [
    "## else with the while loop"
   ]
  },
  {
   "cell_type": "code",
   "execution_count": 214,
   "id": "a1e08fb8",
   "metadata": {},
   "outputs": [],
   "source": [
    "# when while loop completely execute then else statement also executed"
   ]
  },
  {
   "cell_type": "code",
   "execution_count": 215,
   "id": "994fac5e",
   "metadata": {},
   "outputs": [
    {
     "name": "stdout",
     "output_type": "stream",
     "text": [
      "1\n",
      "2\n",
      "3\n",
      "4\n",
      "priyanka shivaji gaikwad\n"
     ]
    }
   ],
   "source": [
    "i = 1\n",
    "n = 5\n",
    "while i<n:\n",
    "    print(i)\n",
    "    i = i +1\n",
    "else:\n",
    "    print(\"priyanka shivaji gaikwad\")"
   ]
  },
  {
   "cell_type": "code",
   "execution_count": 216,
   "id": "28768980",
   "metadata": {},
   "outputs": [],
   "source": [
    "## break function"
   ]
  },
  {
   "cell_type": "code",
   "execution_count": 217,
   "id": "9de22e4e",
   "metadata": {},
   "outputs": [
    {
     "name": "stdout",
     "output_type": "stream",
     "text": [
      "1\n",
      "2\n"
     ]
    }
   ],
   "source": [
    "i = 1\n",
    "n= 5\n",
    "while i<n:\n",
    "    print(i)\n",
    "    if i==2:\n",
    "        break\n",
    "    i = i+1\n",
    "else :\n",
    "    print(\"priyanka shivaji gaikwad \")\n"
   ]
  },
  {
   "cell_type": "markdown",
   "id": "8b27548b",
   "metadata": {},
   "source": [
    "### list comprehension"
   ]
  },
  {
   "cell_type": "code",
   "execution_count": 218,
   "id": "734bd7c9",
   "metadata": {},
   "outputs": [],
   "source": [
    "l = [1,2,3,4,5,6,7,8,9,10]"
   ]
  },
  {
   "cell_type": "code",
   "execution_count": 219,
   "id": "0067a324",
   "metadata": {},
   "outputs": [],
   "source": [
    "# by using the loop we have to write so long code but by using the comprehension we can perform the same operation in small code"
   ]
  },
  {
   "cell_type": "code",
   "execution_count": 220,
   "id": "658856d7",
   "metadata": {},
   "outputs": [],
   "source": [
    "# code for the loop"
   ]
  },
  {
   "cell_type": "code",
   "execution_count": 221,
   "id": "ec4d60d3",
   "metadata": {},
   "outputs": [
    {
     "name": "stdout",
     "output_type": "stream",
     "text": [
      "[2, 4, 6, 8, 10]\n"
     ]
    }
   ],
   "source": [
    "l2=[]\n",
    "for i in l:\n",
    "    if i% 2 ==0:\n",
    "        l2.append(i)\n",
    "print(l2)"
   ]
  },
  {
   "cell_type": "code",
   "execution_count": 222,
   "id": "03f56cc5",
   "metadata": {},
   "outputs": [],
   "source": [
    " #  by using comprehension"
   ]
  },
  {
   "cell_type": "code",
   "execution_count": 223,
   "id": "041b8c8a",
   "metadata": {},
   "outputs": [
    {
     "data": {
      "text/plain": [
       "[2, 4, 6, 8, 10]"
      ]
     },
     "execution_count": 223,
     "metadata": {},
     "output_type": "execute_result"
    }
   ],
   "source": [
    "[i for i in l if i % 2 == 0]"
   ]
  },
  {
   "cell_type": "code",
   "execution_count": 224,
   "id": "fa6eabcd",
   "metadata": {},
   "outputs": [
    {
     "data": {
      "text/plain": [
       "['PRIYA', 'SHIVAJI', 'GAIKWAD', 'MANISHA']"
      ]
     },
     "execution_count": 224,
     "metadata": {},
     "output_type": "execute_result"
    }
   ],
   "source": [
    "l2 = [\"priya\",\"shivaji\",\"gaikwad\",\"manisha\"]\n",
    "[i.upper() for i in l2]"
   ]
  },
  {
   "cell_type": "code",
   "execution_count": 225,
   "id": "337eafc0",
   "metadata": {},
   "outputs": [],
   "source": [
    "# tuple comprehension\n",
    "# in tuple comprehension we have to convert the tuple into list"
   ]
  },
  {
   "cell_type": "code",
   "execution_count": 226,
   "id": "bcdfa058",
   "metadata": {},
   "outputs": [
    {
     "data": {
      "text/plain": [
       "[2, 4, 6, 8, 10, 12]"
      ]
     },
     "execution_count": 226,
     "metadata": {},
     "output_type": "execute_result"
    }
   ],
   "source": [
    "t=(1,2,3,4,5,6)\n",
    "list(i*2 for i in t) "
   ]
  },
  {
   "cell_type": "code",
   "execution_count": 227,
   "id": "c5d908a7",
   "metadata": {},
   "outputs": [],
   "source": [
    "# dictionary comprehension"
   ]
  },
  {
   "cell_type": "code",
   "execution_count": 228,
   "id": "bb0b0fe2",
   "metadata": {},
   "outputs": [],
   "source": [
    "# squre of the values present in the dictionry"
   ]
  },
  {
   "cell_type": "code",
   "execution_count": 229,
   "id": "111a06de",
   "metadata": {},
   "outputs": [
    {
     "data": {
      "text/plain": [
       "{'key1': 1, 'key2': 4, 'key3': 9, 'key4': 16}"
      ]
     },
     "execution_count": 229,
     "metadata": {},
     "output_type": "execute_result"
    }
   ],
   "source": [
    "d= {\"key1\":1, \"key2\":2, \"key3\":3 , \"key4\":4}\n",
    "{k: v**2 for k,v in d.items()}"
   ]
  },
  {
   "cell_type": "code",
   "execution_count": 230,
   "id": "6feb8c3c",
   "metadata": {},
   "outputs": [],
   "source": [
    "# print the values greater than 1"
   ]
  },
  {
   "cell_type": "code",
   "execution_count": 231,
   "id": "1575a8ec",
   "metadata": {},
   "outputs": [
    {
     "data": {
      "text/plain": [
       "{'key2': 2, 'key3': 3, 'key4': 4}"
      ]
     },
     "execution_count": 231,
     "metadata": {},
     "output_type": "execute_result"
    }
   ],
   "source": [
    "{k:v for k,v in d.items() if v>1}"
   ]
  },
  {
   "cell_type": "markdown",
   "id": "472aa00d",
   "metadata": {},
   "source": [
    "### function"
   ]
  },
  {
   "cell_type": "code",
   "execution_count": 232,
   "id": "e25a0ee7",
   "metadata": {},
   "outputs": [],
   "source": [
    "# syntax for the function\n",
    "#     def function_name():\n",
    "#         function body\n",
    "#     print(function_name()) "
   ]
  },
  {
   "cell_type": "code",
   "execution_count": 233,
   "id": "f8e241f6",
   "metadata": {},
   "outputs": [
    {
     "name": "stdout",
     "output_type": "stream",
     "text": [
      "hello guys....\n",
      "I am priyanka shivaji gaikwad\n",
      "nice to meet you!!\n"
     ]
    }
   ],
   "source": [
    "def student():\n",
    "    print(\"I am priyanka shivaji gaikwad\")\n",
    "print(\"hello guys....\")\n",
    "student()\n",
    "print(\"nice to meet you!!\")"
   ]
  },
  {
   "cell_type": "code",
   "execution_count": 234,
   "id": "0544ec5e",
   "metadata": {},
   "outputs": [],
   "source": [
    "#if we return the function instead of print the we can concatinate the function"
   ]
  },
  {
   "cell_type": "code",
   "execution_count": 235,
   "id": "d5741e3d",
   "metadata": {},
   "outputs": [
    {
     "name": "stdout",
     "output_type": "stream",
     "text": [
      "hello guys....\n",
      "I am priyanka shivaji gaikwad, I am good girl\n",
      "nice to meet you!!...\n"
     ]
    }
   ],
   "source": [
    "def student():\n",
    "    return \"I am priyanka shivaji gaikwad,\"\n",
    "print(\"hello guys....\")\n",
    "print(student()+ \" I am good girl\")\n",
    "print(\"nice to meet you!!...\")\n",
    "    "
   ]
  },
  {
   "cell_type": "code",
   "execution_count": 236,
   "id": "d41ad3ad",
   "metadata": {},
   "outputs": [
    {
     "data": {
      "text/plain": [
       "(1, 2.3, 'priyanka', [1, 2, 3, 4, 5, 6])"
      ]
     },
     "execution_count": 236,
     "metadata": {},
     "output_type": "execute_result"
    }
   ],
   "source": [
    "def test():\n",
    "    return 1, 2.3, \"priyanka\",[1,2,3,4,5,6]\n",
    "test()"
   ]
  },
  {
   "cell_type": "code",
   "execution_count": 237,
   "id": "57e70189",
   "metadata": {},
   "outputs": [],
   "source": [
    "a,b,c,d = test()"
   ]
  },
  {
   "cell_type": "code",
   "execution_count": 238,
   "id": "f46b737e",
   "metadata": {},
   "outputs": [
    {
     "data": {
      "text/plain": [
       "1"
      ]
     },
     "execution_count": 238,
     "metadata": {},
     "output_type": "execute_result"
    }
   ],
   "source": [
    "a"
   ]
  },
  {
   "cell_type": "code",
   "execution_count": 239,
   "id": "be92993d",
   "metadata": {},
   "outputs": [
    {
     "data": {
      "text/plain": [
       "2.3"
      ]
     },
     "execution_count": 239,
     "metadata": {},
     "output_type": "execute_result"
    }
   ],
   "source": [
    "b"
   ]
  },
  {
   "cell_type": "code",
   "execution_count": 240,
   "id": "ed016d4a",
   "metadata": {},
   "outputs": [
    {
     "data": {
      "text/plain": [
       "'priyanka'"
      ]
     },
     "execution_count": 240,
     "metadata": {},
     "output_type": "execute_result"
    }
   ],
   "source": [
    "c"
   ]
  },
  {
   "cell_type": "code",
   "execution_count": 241,
   "id": "214faffe",
   "metadata": {},
   "outputs": [
    {
     "data": {
      "text/plain": [
       "[1, 2, 3, 4, 5, 6]"
      ]
     },
     "execution_count": 241,
     "metadata": {},
     "output_type": "execute_result"
    }
   ],
   "source": [
    "d"
   ]
  },
  {
   "cell_type": "code",
   "execution_count": 242,
   "id": "6c859cfd",
   "metadata": {},
   "outputs": [
    {
     "data": {
      "text/plain": [
       "12.0"
      ]
     },
     "execution_count": 242,
     "metadata": {},
     "output_type": "execute_result"
    }
   ],
   "source": [
    "def operation():\n",
    "    a = 1*2*3/2\n",
    "    return a\n",
    "operation()*4"
   ]
  },
  {
   "cell_type": "code",
   "execution_count": 243,
   "id": "7647ebf5",
   "metadata": {},
   "outputs": [
    {
     "data": {
      "text/plain": [
       "5"
      ]
     },
     "execution_count": 243,
     "metadata": {},
     "output_type": "execute_result"
    }
   ],
   "source": [
    "def test(a,b,c):\n",
    "    d = a*b+c\n",
    "    return d\n",
    "test(1,2,3)"
   ]
  },
  {
   "cell_type": "code",
   "execution_count": 244,
   "id": "f7ddd058",
   "metadata": {},
   "outputs": [
    {
     "data": {
      "text/plain": [
       "'priyanka Gaikwad'"
      ]
     },
     "execution_count": 244,
     "metadata": {},
     "output_type": "execute_result"
    }
   ],
   "source": [
    "def concatenation(a,b):\n",
    "    c = a+b\n",
    "    return c\n",
    "concatenation(\"priyanka\", \" Gaikwad\")"
   ]
  },
  {
   "cell_type": "code",
   "execution_count": 245,
   "id": "5b703977",
   "metadata": {},
   "outputs": [
    {
     "data": {
      "text/plain": [
       "3"
      ]
     },
     "execution_count": 245,
     "metadata": {},
     "output_type": "execute_result"
    }
   ],
   "source": [
    "concatenation(1,2)"
   ]
  },
  {
   "cell_type": "code",
   "execution_count": 246,
   "id": "eab87c58",
   "metadata": {},
   "outputs": [
    {
     "data": {
      "text/plain": [
       "[1, 2, 3, 4, 5, 6]"
      ]
     },
     "execution_count": 246,
     "metadata": {},
     "output_type": "execute_result"
    }
   ],
   "source": [
    "concatenation([1,2,3], [4,5,6])"
   ]
  },
  {
   "cell_type": "code",
   "execution_count": 247,
   "id": "b9148d27",
   "metadata": {},
   "outputs": [],
   "source": [
    "#extract the integer data from the list by using the for loop"
   ]
  },
  {
   "cell_type": "code",
   "execution_count": 248,
   "id": "45227877",
   "metadata": {},
   "outputs": [],
   "source": [
    "l= [1,2,3,4,\"priya\",\"shivaji\",[7,8,9,\"shyam\"],\"manisha\"]"
   ]
  },
  {
   "cell_type": "code",
   "execution_count": 249,
   "id": "00f73b18",
   "metadata": {},
   "outputs": [
    {
     "name": "stdout",
     "output_type": "stream",
     "text": [
      "[1, 2, 3, 4, 7, 8, 9]\n"
     ]
    }
   ],
   "source": [
    "l1=[]\n",
    "for i in l:\n",
    "    if type(i) == list:\n",
    "        for j in i:\n",
    "            if type(j)== int:\n",
    "                l1.append(j)\n",
    "                \n",
    "    if type(i)== int:\n",
    "        l1.append(i)\n",
    "print(l1)"
   ]
  },
  {
   "cell_type": "code",
   "execution_count": 250,
   "id": "f7b2f314",
   "metadata": {},
   "outputs": [],
   "source": [
    "## create a function for extract the numeric data from the list "
   ]
  },
  {
   "cell_type": "code",
   "execution_count": 251,
   "id": "f5cb5833",
   "metadata": {},
   "outputs": [],
   "source": [
    "l= [1,2.5,3,4,\"priya\",\"shivaji\",[7,8,9.2,\"shyam\"],\"manisha\"]"
   ]
  },
  {
   "cell_type": "code",
   "execution_count": 252,
   "id": "49c26e42",
   "metadata": {},
   "outputs": [
    {
     "data": {
      "text/plain": [
       "[1, 2.5, 3, 4, 7, 8, 9.2]"
      ]
     },
     "execution_count": 252,
     "metadata": {},
     "output_type": "execute_result"
    }
   ],
   "source": [
    "def numericdata(b):\n",
    "    l1 = []\n",
    "    for i in l:\n",
    "        if type(i)== list:\n",
    "            for j in i:\n",
    "                if type(j)== int or type(j)== float:\n",
    "                    l1.append(j)\n",
    "        else:\n",
    "            if type(i)== int or type(i)== float:\n",
    "                l1.append(i)\n",
    "    return l1\n",
    "numericdata(l)          "
   ]
  },
  {
   "cell_type": "code",
   "execution_count": 253,
   "id": "fc9833eb",
   "metadata": {},
   "outputs": [],
   "source": [
    "# reverse the name by using the function"
   ]
  },
  {
   "cell_type": "code",
   "execution_count": 254,
   "id": "f4a113bc",
   "metadata": {},
   "outputs": [
    {
     "data": {
      "text/plain": [
       "'aknayirp'"
      ]
     },
     "execution_count": 254,
     "metadata": {},
     "output_type": "execute_result"
    }
   ],
   "source": [
    "def reversename(name):\n",
    "    reverse=''\n",
    "    length = len(name)\n",
    "    while length>0:\n",
    "        reverse = reverse +name[length -1]\n",
    "        length = length -1\n",
    "    return reverse\n",
    "reversename(\"priyanka\")"
   ]
  },
  {
   "cell_type": "code",
   "execution_count": 255,
   "id": "6315f3ec",
   "metadata": {},
   "outputs": [],
   "source": [
    "# n no.of argument inside the function\n",
    "# astrick symbol are used for multiple argument"
   ]
  },
  {
   "cell_type": "code",
   "execution_count": 256,
   "id": "aef33158",
   "metadata": {},
   "outputs": [],
   "source": [
    " def multipleargument(*a):  \n",
    "    return a"
   ]
  },
  {
   "cell_type": "code",
   "execution_count": 257,
   "id": "efa75c30",
   "metadata": {},
   "outputs": [
    {
     "data": {
      "text/plain": [
       "(1, 2, 3, 4, 5, 6, 7)"
      ]
     },
     "execution_count": 257,
     "metadata": {},
     "output_type": "execute_result"
    }
   ],
   "source": [
    "multipleargument(1,2,3,4,5,6,7)"
   ]
  },
  {
   "cell_type": "code",
   "execution_count": 258,
   "id": "e3634f89",
   "metadata": {},
   "outputs": [
    {
     "data": {
      "text/plain": [
       "('priyanka', 'shivaji', 'gaikwad')"
      ]
     },
     "execution_count": 258,
     "metadata": {},
     "output_type": "execute_result"
    }
   ],
   "source": [
    "multipleargument(\"priyanka\", \"shivaji\",\"gaikwad\")"
   ]
  },
  {
   "cell_type": "code",
   "execution_count": 259,
   "id": "df1ee11d",
   "metadata": {},
   "outputs": [
    {
     "data": {
      "text/plain": [
       "((1, 2, 3, 4, 5), 'priya')"
      ]
     },
     "execution_count": 259,
     "metadata": {},
     "output_type": "execute_result"
    }
   ],
   "source": [
    "def test2(*arg, a):\n",
    "    return arg, a\n",
    "test2(1,2,3,4,5, a= \"priya\")"
   ]
  },
  {
   "cell_type": "code",
   "execution_count": 260,
   "id": "bbfdef80",
   "metadata": {},
   "outputs": [
    {
     "data": {
      "text/plain": [
       "(4, 5, 1, 2)"
      ]
     },
     "execution_count": 260,
     "metadata": {},
     "output_type": "execute_result"
    }
   ],
   "source": [
    "def test3(a,b, c=1, d=2):\n",
    "    return a,b,c,d\n",
    "test3(4,5)"
   ]
  },
  {
   "cell_type": "code",
   "execution_count": 261,
   "id": "edb39532",
   "metadata": {},
   "outputs": [
    {
     "data": {
      "text/plain": [
       "(5, 6, 9, 2)"
      ]
     },
     "execution_count": 261,
     "metadata": {},
     "output_type": "execute_result"
    }
   ],
   "source": [
    "test3(5,6, c=9)"
   ]
  },
  {
   "cell_type": "code",
   "execution_count": 262,
   "id": "db599b63",
   "metadata": {},
   "outputs": [],
   "source": [
    "## double astrick symbol are used for the key and value pair data\n",
    "# we can store the data in the dictionary format"
   ]
  },
  {
   "cell_type": "code",
   "execution_count": 263,
   "id": "2476a631",
   "metadata": {},
   "outputs": [
    {
     "data": {
      "text/plain": [
       "{}"
      ]
     },
     "execution_count": 263,
     "metadata": {},
     "output_type": "execute_result"
    }
   ],
   "source": [
    "def test4(**manisha):    \n",
    "    return manisha\n",
    "test4()"
   ]
  },
  {
   "cell_type": "code",
   "execution_count": 264,
   "id": "b5111c17",
   "metadata": {},
   "outputs": [
    {
     "data": {
      "text/plain": [
       "dict"
      ]
     },
     "execution_count": 264,
     "metadata": {},
     "output_type": "execute_result"
    }
   ],
   "source": [
    "type(test4())      "
   ]
  },
  {
   "cell_type": "code",
   "execution_count": 265,
   "id": "b642a876",
   "metadata": {},
   "outputs": [
    {
     "data": {
      "text/plain": [
       "{'name': 'priya', 'age': 22, 'sub': 'bioinformatics'}"
      ]
     },
     "execution_count": 265,
     "metadata": {},
     "output_type": "execute_result"
    }
   ],
   "source": [
    "test4(name=\"priya\",age=22,sub=\"bioinformatics\")"
   ]
  },
  {
   "cell_type": "code",
   "execution_count": 266,
   "id": "9494f785",
   "metadata": {},
   "outputs": [
    {
     "name": "stdout",
     "output_type": "stream",
     "text": [
      "{'a': 2, 'b': 5, 'c': 6}\n"
     ]
    }
   ],
   "source": [
    "def x(**name):\n",
    "    return name\n",
    "print(x(a=2,b=5,c=6))\n"
   ]
  },
  {
   "cell_type": "markdown",
   "id": "379daeac",
   "metadata": {},
   "source": [
    "### Generator function"
   ]
  },
  {
   "cell_type": "code",
   "execution_count": 267,
   "id": "9cc9498d",
   "metadata": {},
   "outputs": [
    {
     "name": "stdout",
     "output_type": "stream",
     "text": [
      "0\n",
      "1\n",
      "1\n",
      "2\n",
      "3\n",
      "5\n",
      "8\n",
      "13\n",
      "21\n",
      "34\n",
      "<generator object fib_num at 0x000001B6400F04A0>\n"
     ]
    }
   ],
   "source": [
    "def fib_num(n):\n",
    "    a = 0\n",
    "    b = 1\n",
    "    for i in range(n):\n",
    "        yield a \n",
    "        a,b = b,a+b\n",
    "for i in fib_num(10):\n",
    "    print(i)\n",
    "print(fib_num(10))"
   ]
  },
  {
   "cell_type": "code",
   "execution_count": 268,
   "id": "9f9fab55",
   "metadata": {},
   "outputs": [
    {
     "name": "stdout",
     "output_type": "stream",
     "text": [
      "1\n",
      "2\n",
      "3\n",
      "4\n",
      "<generator object count_nu at 0x000001B63E6328F0>\n"
     ]
    }
   ],
   "source": [
    "def count_nu(n):\n",
    "    count = 1\n",
    "    while count<n:\n",
    "        yield count\n",
    "        count = count+1\n",
    "c = count_nu(5)\n",
    "for i in c:\n",
    "    print(i)\n",
    "print(count_nu(5))"
   ]
  },
  {
   "cell_type": "code",
   "execution_count": 269,
   "id": "dd1aa8c6",
   "metadata": {},
   "outputs": [
    {
     "name": "stdout",
     "output_type": "stream",
     "text": [
      "64\n"
     ]
    }
   ],
   "source": [
    "def num(a,b):\n",
    "    return a**b\n",
    "print(num(4,3))"
   ]
  },
  {
   "cell_type": "markdown",
   "id": "30d5ee47",
   "metadata": {},
   "source": [
    "### lambda function"
   ]
  },
  {
   "cell_type": "code",
   "execution_count": 270,
   "id": "78b5acee",
   "metadata": {},
   "outputs": [
    {
     "name": "stdout",
     "output_type": "stream",
     "text": [
      "64\n"
     ]
    }
   ],
   "source": [
    "a = lambda a,b : a**b\n",
    "print(a(4,3))"
   ]
  },
  {
   "cell_type": "code",
   "execution_count": 271,
   "id": "4ad753af",
   "metadata": {},
   "outputs": [
    {
     "name": "stdout",
     "output_type": "stream",
     "text": [
      "9\n"
     ]
    }
   ],
   "source": [
    "add =  lambda x,y : x+y\n",
    "print(add(4,5))"
   ]
  },
  {
   "cell_type": "code",
   "execution_count": 272,
   "id": "57106d4f",
   "metadata": {},
   "outputs": [
    {
     "name": "stdout",
     "output_type": "stream",
     "text": [
      "113.0\n"
     ]
    }
   ],
   "source": [
    "c_f = lambda p: (9/5)*p+32\n",
    "print(c_f(45))"
   ]
  },
  {
   "cell_type": "code",
   "execution_count": 273,
   "id": "3c45737b",
   "metadata": {},
   "outputs": [
    {
     "name": "stdout",
     "output_type": "stream",
     "text": [
      "21\n"
     ]
    }
   ],
   "source": [
    "finding_max = lambda x,y : x if x>y else y\n",
    "print(finding_max(20,21))"
   ]
  },
  {
   "cell_type": "code",
   "execution_count": 274,
   "id": "77122c4c",
   "metadata": {},
   "outputs": [
    {
     "name": "stdout",
     "output_type": "stream",
     "text": [
      "14\n"
     ]
    }
   ],
   "source": [
    "find_len = lambda x : len(x)\n",
    "print(find_len('shivajigaikwad'))"
   ]
  },
  {
   "cell_type": "code",
   "execution_count": 275,
   "id": "eace228b",
   "metadata": {},
   "outputs": [
    {
     "name": "stdout",
     "output_type": "stream",
     "text": [
      "2\n"
     ]
    }
   ],
   "source": [
    "name = lambda x : x.count('a')\n",
    "print(name(\"priyanka\"))"
   ]
  },
  {
   "cell_type": "code",
   "execution_count": 276,
   "id": "96a3b2b0",
   "metadata": {},
   "outputs": [
    {
     "name": "stdout",
     "output_type": "stream",
     "text": [
      "150\n"
     ]
    }
   ],
   "source": [
    "add = lambda x:x+100\n",
    "print(add(50))"
   ]
  },
  {
   "cell_type": "code",
   "execution_count": 277,
   "id": "9c27801b",
   "metadata": {},
   "outputs": [
    {
     "name": "stdout",
     "output_type": "stream",
     "text": [
      "53\n"
     ]
    }
   ],
   "source": [
    "product=  lambda x,y,z : x+y*z\n",
    "print(product(x=5,z=6,y=8))"
   ]
  },
  {
   "cell_type": "code",
   "execution_count": 278,
   "id": "218f1842",
   "metadata": {},
   "outputs": [
    {
     "name": "stdout",
     "output_type": "stream",
     "text": [
      "28\n"
     ]
    }
   ],
   "source": [
    "add = lambda x,y=2,z=6 : x+y+z\n",
    "print(add(20))"
   ]
  },
  {
   "cell_type": "code",
   "execution_count": 279,
   "id": "4d349735",
   "metadata": {},
   "outputs": [
    {
     "name": "stdout",
     "output_type": "stream",
     "text": [
      "420\n"
     ]
    }
   ],
   "source": [
    "function = lambda x,fun : x+ fun(x)\n",
    "print(function(20,lambda x : x*x ))"
   ]
  },
  {
   "cell_type": "code",
   "execution_count": 280,
   "id": "97d52ca3",
   "metadata": {},
   "outputs": [],
   "source": [
    "num= lambda x: (x % 2 and 'odd' or 'even')"
   ]
  },
  {
   "cell_type": "code",
   "execution_count": 281,
   "id": "1de63e8f",
   "metadata": {},
   "outputs": [
    {
     "data": {
      "text/plain": [
       "'even'"
      ]
     },
     "execution_count": 281,
     "metadata": {},
     "output_type": "execute_result"
    }
   ],
   "source": [
    "num(16)"
   ]
  },
  {
   "cell_type": "code",
   "execution_count": 282,
   "id": "bbfc537d",
   "metadata": {},
   "outputs": [
    {
     "data": {
      "text/plain": [
       "'odd'"
      ]
     },
     "execution_count": 282,
     "metadata": {},
     "output_type": "execute_result"
    }
   ],
   "source": [
    "num(15)"
   ]
  },
  {
   "cell_type": "code",
   "execution_count": 283,
   "id": "5fb2822c",
   "metadata": {},
   "outputs": [
    {
     "name": "stdout",
     "output_type": "stream",
     "text": [
      "True\n",
      "False\n"
     ]
    }
   ],
   "source": [
    "name = lambda word : word in \"priyanka shivaji gaikwad\"\n",
    "print(name('priyanka'))\n",
    "print(name('manisha'))"
   ]
  },
  {
   "cell_type": "markdown",
   "id": "e07f8bee",
   "metadata": {},
   "source": [
    "map function along with the lambda function"
   ]
  },
  {
   "cell_type": "code",
   "execution_count": 284,
   "id": "f993d923",
   "metadata": {},
   "outputs": [
    {
     "name": "stdout",
     "output_type": "stream",
     "text": [
      "[4, 6, 8, 10, 20, 12, 40, 64, 24, 30]\n"
     ]
    }
   ],
   "source": [
    "data =[2,3,4,5,10,6,20,32,12,15]\n",
    "x = list(map(lambda a: a*2, data))\n",
    "print(x)"
   ]
  },
  {
   "cell_type": "code",
   "execution_count": 285,
   "id": "147cff69",
   "metadata": {},
   "outputs": [
    {
     "name": "stdout",
     "output_type": "stream",
     "text": [
      "[8, 27, 64, 125, 1000, 216, 8000, 32768, 1728, 3375]\n"
     ]
    }
   ],
   "source": [
    "data2 = [2,3,4,5,10,6,20,32,12,15]\n",
    "cube = list(map(lambda a: a**3, data2))\n",
    "print(cube)"
   ]
  },
  {
   "cell_type": "code",
   "execution_count": 286,
   "id": "bad8eacb",
   "metadata": {},
   "outputs": [
    {
     "name": "stdout",
     "output_type": "stream",
     "text": [
      "[7, 9, 11, 13, 15]\n"
     ]
    }
   ],
   "source": [
    "l1 = [1,2,3,4,5]\n",
    "l2 = [6,7,8,9,10]\n",
    "print(list(map(lambda x,y: x+y, l1,l2)))"
   ]
  },
  {
   "cell_type": "markdown",
   "id": "4bf5f4f4",
   "metadata": {},
   "source": [
    "external function"
   ]
  },
  {
   "cell_type": "code",
   "execution_count": 287,
   "id": "3a5b3e8f",
   "metadata": {},
   "outputs": [
    {
     "name": "stdout",
     "output_type": "stream",
     "text": [
      "[7, 9, 11, 13, 15]\n"
     ]
    }
   ],
   "source": [
    "l1 = [1,2,3,4,5]\n",
    "l2 = [6,7,8,9,10]\n",
    "def add(x,y):\n",
    "    return x+y\n",
    "print(list(map(add,l1,l2)))"
   ]
  },
  {
   "cell_type": "markdown",
   "id": "d397e7a0",
   "metadata": {},
   "source": [
    "reduce function"
   ]
  },
  {
   "cell_type": "code",
   "execution_count": 288,
   "id": "8567331c",
   "metadata": {},
   "outputs": [],
   "source": [
    "from functools import reduce"
   ]
  },
  {
   "cell_type": "code",
   "execution_count": 289,
   "id": "1cadcf3a",
   "metadata": {},
   "outputs": [],
   "source": [
    "l = [6,7,8,9,10,2,3,4,5]"
   ]
  },
  {
   "cell_type": "code",
   "execution_count": 290,
   "id": "7f196d83",
   "metadata": {},
   "outputs": [
    {
     "data": {
      "text/plain": [
       "54"
      ]
     },
     "execution_count": 290,
     "metadata": {},
     "output_type": "execute_result"
    }
   ],
   "source": [
    "reduce(lambda x,y : x+y,l)"
   ]
  },
  {
   "cell_type": "code",
   "execution_count": 291,
   "id": "16f55b12",
   "metadata": {},
   "outputs": [
    {
     "data": {
      "text/plain": [
       "3628800"
      ]
     },
     "execution_count": 291,
     "metadata": {},
     "output_type": "execute_result"
    }
   ],
   "source": [
    "reduce(lambda x,y: x*y ,l)"
   ]
  },
  {
   "cell_type": "code",
   "execution_count": 292,
   "id": "9c1c1612",
   "metadata": {},
   "outputs": [
    {
     "data": {
      "text/plain": [
       "10"
      ]
     },
     "execution_count": 292,
     "metadata": {},
     "output_type": "execute_result"
    }
   ],
   "source": [
    "reduce(lambda x,y : x if x>y else y, l)"
   ]
  },
  {
   "cell_type": "markdown",
   "id": "7b623784",
   "metadata": {},
   "source": [
    "## oops in python"
   ]
  },
  {
   "cell_type": "markdown",
   "id": "7bc99993",
   "metadata": {},
   "source": [
    "### Class"
   ]
  },
  {
   "cell_type": "code",
   "execution_count": 293,
   "id": "f0933695",
   "metadata": {},
   "outputs": [
    {
     "data": {
      "text/plain": [
       "'priyanka shiavaji gaikwad'"
      ]
     },
     "execution_count": 293,
     "metadata": {},
     "output_type": "execute_result"
    }
   ],
   "source": [
    "class name():\n",
    "    def nam(self):\n",
    "        a = \"priyanka shiavaji gaikwad\"\n",
    "        return a\n",
    "b = name()\n",
    "b.nam()"
   ]
  },
  {
   "cell_type": "code",
   "execution_count": 294,
   "id": "5c80b156",
   "metadata": {},
   "outputs": [
    {
     "data": {
      "text/plain": [
       "'priyanka shiavaji gaikwad'"
      ]
     },
     "execution_count": 294,
     "metadata": {},
     "output_type": "execute_result"
    }
   ],
   "source": [
    "c = name()\n",
    "c.nam()"
   ]
  },
  {
   "cell_type": "code",
   "execution_count": 295,
   "id": "57c5aa47",
   "metadata": {},
   "outputs": [
    {
     "name": "stdout",
     "output_type": "stream",
     "text": [
      "priyanka shiavji gaikwad\n",
      "<class '__main__.school'>\n"
     ]
    }
   ],
   "source": [
    "class school():\n",
    "    def student(self):\n",
    "        print(\"priyanka shiavji gaikwad\")\n",
    "shivaji= school()\n",
    "shivaji.student()\n",
    "print(type(shivaji))"
   ]
  },
  {
   "cell_type": "markdown",
   "id": "bb465fdd",
   "metadata": {},
   "source": [
    "class and constructor"
   ]
  },
  {
   "cell_type": "code",
   "execution_count": 296,
   "id": "6e9f2ea1",
   "metadata": {},
   "outputs": [],
   "source": [
    "class school():\n",
    "    def __init__(self, name, rollno, marks, mailid):\n",
    "        self.name = name\n",
    "        self.rollno = rollno\n",
    "        self.marks = marks\n",
    "        self.mailid = mailid\n",
    "        \n",
    "    def student(self):\n",
    "        return self.name, self.rollno, self.marks, self.mailid\n"
   ]
  },
  {
   "cell_type": "code",
   "execution_count": 297,
   "id": "c71122fa",
   "metadata": {},
   "outputs": [],
   "source": [
    "s1 = school(\"priyanka\", 15, 95, \"gaikwadpriyanka7560@gmail.com\")"
   ]
  },
  {
   "cell_type": "code",
   "execution_count": 298,
   "id": "af54c115",
   "metadata": {},
   "outputs": [
    {
     "data": {
      "text/plain": [
       "('priyanka', 15, 95, 'gaikwadpriyanka7560@gmail.com')"
      ]
     },
     "execution_count": 298,
     "metadata": {},
     "output_type": "execute_result"
    }
   ],
   "source": [
    "s1.student()"
   ]
  },
  {
   "cell_type": "code",
   "execution_count": 299,
   "id": "858e9b4e",
   "metadata": {},
   "outputs": [
    {
     "data": {
      "text/plain": [
       "'priyanka'"
      ]
     },
     "execution_count": 299,
     "metadata": {},
     "output_type": "execute_result"
    }
   ],
   "source": [
    "s1.name"
   ]
  },
  {
   "cell_type": "code",
   "execution_count": 300,
   "id": "02ccc9cd",
   "metadata": {},
   "outputs": [],
   "source": [
    "s2 = school(\"devansh\", 10, 99, \"gaikwaddevansh1104@gmail.com\")"
   ]
  },
  {
   "cell_type": "code",
   "execution_count": 301,
   "id": "f295fb90",
   "metadata": {},
   "outputs": [
    {
     "data": {
      "text/plain": [
       "('devansh', 10, 99, 'gaikwaddevansh1104@gmail.com')"
      ]
     },
     "execution_count": 301,
     "metadata": {},
     "output_type": "execute_result"
    }
   ],
   "source": [
    "s2.student()"
   ]
  },
  {
   "cell_type": "code",
   "execution_count": 302,
   "id": "01aee66d",
   "metadata": {},
   "outputs": [
    {
     "data": {
      "text/plain": [
       "99"
      ]
     },
     "execution_count": 302,
     "metadata": {},
     "output_type": "execute_result"
    }
   ],
   "source": [
    "s2.marks"
   ]
  },
  {
   "cell_type": "code",
   "execution_count": 303,
   "id": "55ff3d1e",
   "metadata": {},
   "outputs": [],
   "source": [
    "class student():\n",
    "    pass"
   ]
  },
  {
   "cell_type": "code",
   "execution_count": 304,
   "id": "192cd063",
   "metadata": {},
   "outputs": [],
   "source": [
    "student1= student()"
   ]
  },
  {
   "cell_type": "code",
   "execution_count": 305,
   "id": "0bc1fd50",
   "metadata": {},
   "outputs": [],
   "source": [
    "student.name=\"priya\"\n",
    "student1.marks =95"
   ]
  },
  {
   "cell_type": "code",
   "execution_count": 306,
   "id": "0a312644",
   "metadata": {},
   "outputs": [
    {
     "data": {
      "text/plain": [
       "95"
      ]
     },
     "execution_count": 306,
     "metadata": {},
     "output_type": "execute_result"
    }
   ],
   "source": [
    "student1.marks"
   ]
  },
  {
   "cell_type": "code",
   "execution_count": 307,
   "id": "bf42ed15",
   "metadata": {},
   "outputs": [
    {
     "data": {
      "text/plain": [
       "'priya'"
      ]
     },
     "execution_count": 307,
     "metadata": {},
     "output_type": "execute_result"
    }
   ],
   "source": [
    "student1.name"
   ]
  },
  {
   "cell_type": "code",
   "execution_count": 308,
   "id": "a9c382dd",
   "metadata": {},
   "outputs": [],
   "source": [
    "class student():\n",
    "    def did_pass(self):\n",
    "        if self.marks>=35:\n",
    "            return True\n",
    "        else:\n",
    "            return False"
   ]
  },
  {
   "cell_type": "code",
   "execution_count": 309,
   "id": "12ebd926",
   "metadata": {},
   "outputs": [],
   "source": [
    "student1= student()\n",
    "student1.marks = 30"
   ]
  },
  {
   "cell_type": "code",
   "execution_count": 310,
   "id": "dfd72305",
   "metadata": {},
   "outputs": [
    {
     "data": {
      "text/plain": [
       "30"
      ]
     },
     "execution_count": 310,
     "metadata": {},
     "output_type": "execute_result"
    }
   ],
   "source": [
    "student1.marks"
   ]
  },
  {
   "cell_type": "code",
   "execution_count": 311,
   "id": "552739e2",
   "metadata": {},
   "outputs": [],
   "source": [
    "did_pass_fail = student1.did_pass()"
   ]
  },
  {
   "cell_type": "code",
   "execution_count": 312,
   "id": "525279bf",
   "metadata": {},
   "outputs": [
    {
     "data": {
      "text/plain": [
       "False"
      ]
     },
     "execution_count": 312,
     "metadata": {},
     "output_type": "execute_result"
    }
   ],
   "source": [
    "did_pass_fail"
   ]
  },
  {
   "cell_type": "code",
   "execution_count": 313,
   "id": "32faff97",
   "metadata": {},
   "outputs": [],
   "source": [
    "student2 = student()"
   ]
  },
  {
   "cell_type": "code",
   "execution_count": 314,
   "id": "7086eba4",
   "metadata": {},
   "outputs": [],
   "source": [
    "student2.marks= 89"
   ]
  },
  {
   "cell_type": "code",
   "execution_count": 315,
   "id": "3aaaf3b9",
   "metadata": {},
   "outputs": [],
   "source": [
    "did_pass_fail = student2.did_pass()"
   ]
  },
  {
   "cell_type": "code",
   "execution_count": 316,
   "id": "5a4b0d00",
   "metadata": {},
   "outputs": [
    {
     "data": {
      "text/plain": [
       "True"
      ]
     },
     "execution_count": 316,
     "metadata": {},
     "output_type": "execute_result"
    }
   ],
   "source": [
    "did_pass_fail"
   ]
  },
  {
   "cell_type": "code",
   "execution_count": 317,
   "id": "77bfb8ef",
   "metadata": {},
   "outputs": [],
   "source": [
    "student1.name= \"raj\"\n",
    "student2.name= \"priya\""
   ]
  },
  {
   "cell_type": "code",
   "execution_count": 318,
   "id": "3df6fa37",
   "metadata": {},
   "outputs": [
    {
     "data": {
      "text/plain": [
       "'raj'"
      ]
     },
     "execution_count": 318,
     "metadata": {},
     "output_type": "execute_result"
    }
   ],
   "source": [
    "student1.name"
   ]
  },
  {
   "cell_type": "code",
   "execution_count": 319,
   "id": "660dda51",
   "metadata": {},
   "outputs": [
    {
     "data": {
      "text/plain": [
       "'priya'"
      ]
     },
     "execution_count": 319,
     "metadata": {},
     "output_type": "execute_result"
    }
   ],
   "source": [
    "student2.name"
   ]
  },
  {
   "cell_type": "code",
   "execution_count": 320,
   "id": "dd5928ba",
   "metadata": {},
   "outputs": [],
   "source": [
    "class complex():\n",
    "    def __init__(self,real,imag):\n",
    "        self.real= real\n",
    "        self.imag =imag\n",
    "\n",
    "    def addition(self, number):\n",
    "        real= self.real +number.real\n",
    "        imag = self.imag+ number.imag\n",
    "        result = complex(real,imag)\n",
    "        return result"
   ]
  },
  {
   "cell_type": "code",
   "execution_count": 321,
   "id": "05435926",
   "metadata": {},
   "outputs": [],
   "source": [
    "num1 = complex(1,2)\n",
    "num2 =complex(3,4)"
   ]
  },
  {
   "cell_type": "code",
   "execution_count": 322,
   "id": "95b0b2aa",
   "metadata": {},
   "outputs": [],
   "source": [
    "result = num1.addition(num2)"
   ]
  },
  {
   "cell_type": "code",
   "execution_count": 323,
   "id": "45923a07",
   "metadata": {},
   "outputs": [
    {
     "data": {
      "text/plain": [
       "4"
      ]
     },
     "execution_count": 323,
     "metadata": {},
     "output_type": "execute_result"
    }
   ],
   "source": [
    "result.real"
   ]
  },
  {
   "cell_type": "code",
   "execution_count": 324,
   "id": "d3e19d14",
   "metadata": {},
   "outputs": [
    {
     "data": {
      "text/plain": [
       "6"
      ]
     },
     "execution_count": 324,
     "metadata": {},
     "output_type": "execute_result"
    }
   ],
   "source": [
    "result.imag"
   ]
  },
  {
   "cell_type": "code",
   "execution_count": 325,
   "id": "035b299e",
   "metadata": {},
   "outputs": [],
   "source": [
    "class tringle():\n",
    "    def __init__(self, side1, side2,side3):\n",
    "        self.side1 =side1\n",
    "        self.side2=side2\n",
    "        self.side3 = side3\n",
    "    def perimeter(self):\n",
    "        return self.side1+ self.side2+ self.side3"
   ]
  },
  {
   "cell_type": "code",
   "execution_count": 326,
   "id": "5b8a72b9",
   "metadata": {},
   "outputs": [],
   "source": [
    "tranguu = tringle(1,2,3)"
   ]
  },
  {
   "cell_type": "code",
   "execution_count": 327,
   "id": "0c6179c6",
   "metadata": {},
   "outputs": [
    {
     "data": {
      "text/plain": [
       "6"
      ]
     },
     "execution_count": 327,
     "metadata": {},
     "output_type": "execute_result"
    }
   ],
   "source": [
    "tranguu.perimeter()"
   ]
  },
  {
   "cell_type": "markdown",
   "id": "c699cc6e",
   "metadata": {},
   "source": [
    "# polymorphism"
   ]
  },
  {
   "cell_type": "code",
   "execution_count": 328,
   "id": "cde69eea",
   "metadata": {},
   "outputs": [],
   "source": [
    "def data(a,b):\n",
    "    return a+b"
   ]
  },
  {
   "cell_type": "code",
   "execution_count": 329,
   "id": "a138c798",
   "metadata": {},
   "outputs": [
    {
     "data": {
      "text/plain": [
       "3"
      ]
     },
     "execution_count": 329,
     "metadata": {},
     "output_type": "execute_result"
    }
   ],
   "source": [
    "data(1,2)"
   ]
  },
  {
   "cell_type": "code",
   "execution_count": 330,
   "id": "f0e9a60c",
   "metadata": {},
   "outputs": [
    {
     "data": {
      "text/plain": [
       "'priyanka gaikwad'"
      ]
     },
     "execution_count": 330,
     "metadata": {},
     "output_type": "execute_result"
    }
   ],
   "source": [
    "data(\"priyanka\",\" gaikwad\")"
   ]
  },
  {
   "cell_type": "code",
   "execution_count": 331,
   "id": "0fbb446a",
   "metadata": {},
   "outputs": [
    {
     "data": {
      "text/plain": [
       "[1, 2, 3, 4, 5, 6]"
      ]
     },
     "execution_count": 331,
     "metadata": {},
     "output_type": "execute_result"
    }
   ],
   "source": [
    "data([1,2,3],[4,5,6])"
   ]
  },
  {
   "cell_type": "code",
   "execution_count": 332,
   "id": "1ad60bfb",
   "metadata": {},
   "outputs": [],
   "source": [
    "class data_science():\n",
    "     def syllabus(self):\n",
    "        print(\"this is the data science class\")\n",
    "class python():\n",
    "     def syllabus(self):\n",
    "        print(\"this is the python class\")\n",
    "def data(object):\n",
    "     for i in object:\n",
    "        i.syllabus()"
   ]
  },
  {
   "cell_type": "code",
   "execution_count": 333,
   "id": "4da1bb52",
   "metadata": {},
   "outputs": [],
   "source": [
    "data_science =data_science()\n",
    "python = python()"
   ]
  },
  {
   "cell_type": "code",
   "execution_count": 334,
   "id": "51eac329",
   "metadata": {},
   "outputs": [
    {
     "name": "stdout",
     "output_type": "stream",
     "text": [
      "this is the data science class\n",
      "this is the python class\n"
     ]
    }
   ],
   "source": [
    "object = [data_science , python]\n",
    "data(object)"
   ]
  },
  {
   "cell_type": "code",
   "execution_count": 335,
   "id": "e30e93d7",
   "metadata": {},
   "outputs": [],
   "source": [
    "class girl():\n",
    "    def name(self):\n",
    "        print(\"my name is priyanka shivaji gaikwad\")\n",
    "\n",
    "class boy():\n",
    "    def name(self):\n",
    "        print(\"my name is devansh shivaji gaikwad\")\n",
    "\n",
    "def student(college):\n",
    "    for i in college:\n",
    "        i.name()"
   ]
  },
  {
   "cell_type": "code",
   "execution_count": 336,
   "id": "4ba24b3b",
   "metadata": {},
   "outputs": [
    {
     "name": "stdout",
     "output_type": "stream",
     "text": [
      "my name is priyanka shivaji gaikwad\n",
      "my name is devansh shivaji gaikwad\n"
     ]
    }
   ],
   "source": [
    "girl =girl()\n",
    "boy = boy()\n",
    "college = [girl,boy]\n",
    "student(college)\n"
   ]
  },
  {
   "cell_type": "code",
   "execution_count": 337,
   "id": "6bedd020",
   "metadata": {},
   "outputs": [],
   "source": [
    "class car():\n",
    "    def __init__(self, name,price, year):\n",
    "        self.name = name\n",
    "        self.price = price\n",
    "        self.year = year\n",
    "    def data(self):\n",
    "        print(\"priyanka!!\")\n",
    "\n",
    "class boat():\n",
    "    def __init__(self, name , price, year):\n",
    "        self.name = name\n",
    "        self.price = price\n",
    "        self.year = year\n",
    "    def data(self):\n",
    "        return self.name, self.price, self.year\n",
    "\n",
    "class plane():\n",
    "    def __init__(self,name,price,year):\n",
    "        self.name =name\n",
    "        self.price =price\n",
    "        self.year = year\n",
    "    def data(self):\n",
    "        return self.name, self.price, self.year"
   ]
  },
  {
   "cell_type": "code",
   "execution_count": 338,
   "id": "8f77af6e",
   "metadata": {},
   "outputs": [],
   "source": [
    "car1 = car(\"swift\", 10000, 2000)"
   ]
  },
  {
   "cell_type": "code",
   "execution_count": 339,
   "id": "3f95e420",
   "metadata": {},
   "outputs": [],
   "source": [
    "boat1 = boat(\"tang\", 20000, 2001)"
   ]
  },
  {
   "cell_type": "code",
   "execution_count": 340,
   "id": "3de06fcc",
   "metadata": {},
   "outputs": [],
   "source": [
    "plane1 = plane(\"indigo\", 30000, 2002)"
   ]
  },
  {
   "cell_type": "code",
   "execution_count": 341,
   "id": "f6b6c886",
   "metadata": {},
   "outputs": [
    {
     "data": {
      "text/plain": [
       "('indigo', 30000, 2002)"
      ]
     },
     "execution_count": 341,
     "metadata": {},
     "output_type": "execute_result"
    }
   ],
   "source": [
    "plane1.data()"
   ]
  },
  {
   "cell_type": "code",
   "execution_count": 342,
   "id": "962b838a",
   "metadata": {},
   "outputs": [
    {
     "data": {
      "text/plain": [
       "('tang', 20000, 2001)"
      ]
     },
     "execution_count": 342,
     "metadata": {},
     "output_type": "execute_result"
    }
   ],
   "source": [
    "boat1.data()"
   ]
  },
  {
   "cell_type": "code",
   "execution_count": 343,
   "id": "2f36ce0d",
   "metadata": {},
   "outputs": [
    {
     "name": "stdout",
     "output_type": "stream",
     "text": [
      "priyanka!!\n"
     ]
    }
   ],
   "source": [
    "car1.data()"
   ]
  },
  {
   "cell_type": "code",
   "execution_count": 344,
   "id": "79cb22e5",
   "metadata": {},
   "outputs": [
    {
     "data": {
      "text/plain": [
       "'swift'"
      ]
     },
     "execution_count": 344,
     "metadata": {},
     "output_type": "execute_result"
    }
   ],
   "source": [
    "car1.name"
   ]
  },
  {
   "cell_type": "code",
   "execution_count": 345,
   "id": "df3cd006",
   "metadata": {},
   "outputs": [
    {
     "data": {
      "text/plain": [
       "20000"
      ]
     },
     "execution_count": 345,
     "metadata": {},
     "output_type": "execute_result"
    }
   ],
   "source": [
    "boat1.price"
   ]
  },
  {
   "cell_type": "code",
   "execution_count": 346,
   "id": "06f760df",
   "metadata": {},
   "outputs": [
    {
     "data": {
      "text/plain": [
       "2002"
      ]
     },
     "execution_count": 346,
     "metadata": {},
     "output_type": "execute_result"
    }
   ],
   "source": [
    "plane1.year"
   ]
  },
  {
   "cell_type": "code",
   "execution_count": 347,
   "id": "99241cdc",
   "metadata": {},
   "outputs": [],
   "source": [
    "class school():\n",
    "    def __init__(self, name,rollno):\n",
    "        self.name =name\n",
    "        self.rollno = rollno\n",
    "    def cla(self):\n",
    "        print(\"my name is \" ,self.name)\n",
    "        print(\"my roll no is \" ,self.rollno)"
   ]
  },
  {
   "cell_type": "code",
   "execution_count": 348,
   "id": "9af0cdbb",
   "metadata": {},
   "outputs": [],
   "source": [
    "class collage(school):\n",
    "    def data(self):\n",
    "        print(\"priyanka shivaji gaikwad\")"
   ]
  },
  {
   "cell_type": "code",
   "execution_count": 349,
   "id": "dcaf69d4",
   "metadata": {},
   "outputs": [
    {
     "name": "stdout",
     "output_type": "stream",
     "text": [
      "my name is  priyanka\n",
      "my roll no is  15\n"
     ]
    }
   ],
   "source": [
    "s1 = school(\"priyanka\",15)\n",
    "s1.cla()"
   ]
  },
  {
   "cell_type": "code",
   "execution_count": 350,
   "id": "29a428b8",
   "metadata": {},
   "outputs": [
    {
     "name": "stdout",
     "output_type": "stream",
     "text": [
      "my name is  devansh\n",
      "my roll no is  12\n"
     ]
    }
   ],
   "source": [
    "c1 = collage(\"devansh\", 12)\n",
    "c1.cla()"
   ]
  },
  {
   "cell_type": "code",
   "execution_count": 351,
   "id": "aa7f047f",
   "metadata": {},
   "outputs": [],
   "source": [
    "class india():\n",
    "    def __init__(self, capital, language, type):\n",
    "        self.capital =capital\n",
    "        self.language = language\n",
    "        self.type = type\n",
    "\n",
    "    def data(self):\n",
    "        print(\"the capital of the india is :\", self.capital)\n",
    "        print(\"the language of the india is: \", self.language)\n",
    "        print(\"the type of the india is: \", self.type)\n",
    "\n",
    "class USA():\n",
    "    def __init__(self, capital, language, type):\n",
    "        self.capital = capital\n",
    "        self.language = language\n",
    "        self.type = type\n",
    "\n",
    "    def data(self):\n",
    "        print(\"tha capital of the usa is :\", self.capital)\n",
    "        print(\"the language of the usa is: \", self.language)\n",
    "        print(\"the type of the usa is: \", self.type)\n"
   ]
  },
  {
   "cell_type": "code",
   "execution_count": 352,
   "id": "dee08714",
   "metadata": {},
   "outputs": [],
   "source": [
    "obj_india =india(\"delhi\",\"hindi\", \"India is developing country\")"
   ]
  },
  {
   "cell_type": "code",
   "execution_count": 353,
   "id": "6dd45bc7",
   "metadata": {},
   "outputs": [],
   "source": [
    "obj_usa = USA(\"washington\", \"english\",\"usa is a developed country\")"
   ]
  },
  {
   "cell_type": "code",
   "execution_count": 354,
   "id": "c23320e2",
   "metadata": {},
   "outputs": [
    {
     "name": "stdout",
     "output_type": "stream",
     "text": [
      "the capital of the india is : delhi\n",
      "the language of the india is:  hindi\n",
      "the type of the india is:  India is developing country\n",
      "tha capital of the usa is : washington\n",
      "the language of the usa is:  english\n",
      "the type of the usa is:  usa is a developed country\n"
     ]
    }
   ],
   "source": [
    "country = [obj_india , obj_usa]\n",
    "for i in country:\n",
    "    i.data()"
   ]
  },
  {
   "cell_type": "markdown",
   "id": "c4517dc1",
   "metadata": {},
   "source": [
    "## Encapsulation"
   ]
  },
  {
   "cell_type": "code",
   "execution_count": 355,
   "id": "35b7eef7",
   "metadata": {},
   "outputs": [],
   "source": [
    "# encapsulation is mechanism of wrapping the data and code acting on the data together in single unit."
   ]
  },
  {
   "cell_type": "code",
   "execution_count": 356,
   "id": "0cd5a95d",
   "metadata": {},
   "outputs": [],
   "source": [
    "class student():\n",
    "    def __init__(self, name, age,mailid):\n",
    "        self.__name= name\n",
    "        self.__age =age\n",
    "        self.__mailid = mailid\n",
    "        \n",
    "    def set_age(self, age):\n",
    "        self.__age = 0 if age <0 else age\n",
    "        \n",
    "    def get_age(self):\n",
    "        return self.__age"
   ]
  },
  {
   "cell_type": "code",
   "execution_count": 357,
   "id": "58e537e3",
   "metadata": {},
   "outputs": [],
   "source": [
    "s1 =student(\"priyanka\",22,\"gaikwadpriyanka@gmail.com\")"
   ]
  },
  {
   "cell_type": "code",
   "execution_count": 358,
   "id": "6486aa32",
   "metadata": {},
   "outputs": [
    {
     "data": {
      "text/plain": [
       "'priyanka'"
      ]
     },
     "execution_count": 358,
     "metadata": {},
     "output_type": "execute_result"
    }
   ],
   "source": [
    "s1._student__name"
   ]
  },
  {
   "cell_type": "code",
   "execution_count": 359,
   "id": "58fd32fd",
   "metadata": {},
   "outputs": [],
   "source": [
    "s1.set_age(-2)"
   ]
  },
  {
   "cell_type": "code",
   "execution_count": 360,
   "id": "c629b266",
   "metadata": {},
   "outputs": [
    {
     "data": {
      "text/plain": [
       "0"
      ]
     },
     "execution_count": 360,
     "metadata": {},
     "output_type": "execute_result"
    }
   ],
   "source": [
    "s1.get_age()"
   ]
  },
  {
   "cell_type": "code",
   "execution_count": 361,
   "id": "60689c09",
   "metadata": {},
   "outputs": [],
   "source": [
    "s1.set_age(20)"
   ]
  },
  {
   "cell_type": "code",
   "execution_count": 362,
   "id": "e2a97ee0",
   "metadata": {},
   "outputs": [
    {
     "data": {
      "text/plain": [
       "20"
      ]
     },
     "execution_count": 362,
     "metadata": {},
     "output_type": "execute_result"
    }
   ],
   "source": [
    "s1.get_age()"
   ]
  },
  {
   "cell_type": "code",
   "execution_count": 363,
   "id": "b781ee50",
   "metadata": {},
   "outputs": [],
   "source": [
    "class bank_account():\n",
    "    def __init__(self,balance):\n",
    "        self.__balance = balance\n",
    "\n",
    "    def deposit(self, amount):\n",
    "        self.__balance = self.__balance + amount\n",
    "\n",
    "    def withdaw(self, amount):\n",
    "        if self.__balance >=amount:\n",
    "            self.__balance = self.__balance - amount\n",
    "            return True\n",
    "        else:\n",
    "            return False\n",
    "    def get_balance(self):\n",
    "        return self.__balance"
   ]
  },
  {
   "cell_type": "code",
   "execution_count": 364,
   "id": "240137ef",
   "metadata": {},
   "outputs": [],
   "source": [
    "priya = bank_account(1000)"
   ]
  },
  {
   "cell_type": "code",
   "execution_count": 365,
   "id": "bc71b069",
   "metadata": {},
   "outputs": [
    {
     "data": {
      "text/plain": [
       "1000"
      ]
     },
     "execution_count": 365,
     "metadata": {},
     "output_type": "execute_result"
    }
   ],
   "source": [
    "priya.get_balance()"
   ]
  },
  {
   "cell_type": "code",
   "execution_count": 366,
   "id": "bba2662a",
   "metadata": {},
   "outputs": [],
   "source": [
    "priya.deposit(1000)"
   ]
  },
  {
   "cell_type": "code",
   "execution_count": 367,
   "id": "ddfd5dcf",
   "metadata": {},
   "outputs": [
    {
     "data": {
      "text/plain": [
       "2000"
      ]
     },
     "execution_count": 367,
     "metadata": {},
     "output_type": "execute_result"
    }
   ],
   "source": [
    "priya.get_balance()"
   ]
  },
  {
   "cell_type": "code",
   "execution_count": 368,
   "id": "152d6d30",
   "metadata": {},
   "outputs": [
    {
     "data": {
      "text/plain": [
       "True"
      ]
     },
     "execution_count": 368,
     "metadata": {},
     "output_type": "execute_result"
    }
   ],
   "source": [
    "priya.withdaw(500)"
   ]
  },
  {
   "cell_type": "code",
   "execution_count": 369,
   "id": "1a3e5367",
   "metadata": {},
   "outputs": [
    {
     "data": {
      "text/plain": [
       "1500"
      ]
     },
     "execution_count": 369,
     "metadata": {},
     "output_type": "execute_result"
    }
   ],
   "source": [
    "priya.get_balance()"
   ]
  },
  {
   "cell_type": "code",
   "execution_count": 370,
   "id": "708b5f01",
   "metadata": {},
   "outputs": [
    {
     "data": {
      "text/plain": [
       "False"
      ]
     },
     "execution_count": 370,
     "metadata": {},
     "output_type": "execute_result"
    }
   ],
   "source": [
    "priya.withdaw(2000)"
   ]
  },
  {
   "cell_type": "markdown",
   "id": "23c3236c",
   "metadata": {},
   "source": [
    "# inheritance"
   ]
  },
  {
   "cell_type": "code",
   "execution_count": 371,
   "id": "ddb2fcf7",
   "metadata": {},
   "outputs": [],
   "source": [
    "class student():\n",
    "    def girl(self):\n",
    "        print(\"manisha shivaji gaikwad\")\n",
    "class teacher(student):\n",
    "    pass"
   ]
  },
  {
   "cell_type": "code",
   "execution_count": 372,
   "id": "d1c7d87a",
   "metadata": {},
   "outputs": [
    {
     "name": "stdout",
     "output_type": "stream",
     "text": [
      "manisha shivaji gaikwad\n"
     ]
    }
   ],
   "source": [
    "s1 = teacher()\n",
    "s1.girl()"
   ]
  },
  {
   "cell_type": "code",
   "execution_count": 373,
   "id": "dea3147e",
   "metadata": {},
   "outputs": [],
   "source": [
    "##multilevel inheritance"
   ]
  },
  {
   "cell_type": "code",
   "execution_count": 374,
   "id": "6c8433a9",
   "metadata": {},
   "outputs": [],
   "source": [
    "#in multilevel inheritance we can herited data from one class to second class then from second class to third class\n",
    "## so we can access the data of first class in third class also\n",
    "#chlid class is act like parent class to another child class"
   ]
  },
  {
   "cell_type": "code",
   "execution_count": 375,
   "id": "4d511417",
   "metadata": {},
   "outputs": [],
   "source": [
    "class student():\n",
    "    def girl(self):\n",
    "        print(\"priyanka shivaji gaikwad\")\n",
    "\n",
    "class teacher(student):\n",
    "    def boy(self):\n",
    "        print(\"mohane sir\")\n",
    "\n",
    "class school(teacher):\n",
    "    pass"
   ]
  },
  {
   "cell_type": "code",
   "execution_count": 376,
   "id": "ec03fc30",
   "metadata": {},
   "outputs": [],
   "source": [
    "s1 = teacher()"
   ]
  },
  {
   "cell_type": "code",
   "execution_count": 377,
   "id": "4a7cdcf4",
   "metadata": {},
   "outputs": [
    {
     "name": "stdout",
     "output_type": "stream",
     "text": [
      "priyanka shivaji gaikwad\n"
     ]
    }
   ],
   "source": [
    "s1.girl()"
   ]
  },
  {
   "cell_type": "code",
   "execution_count": 378,
   "id": "06db24c0",
   "metadata": {},
   "outputs": [],
   "source": [
    "a1 = school()"
   ]
  },
  {
   "cell_type": "code",
   "execution_count": 379,
   "id": "cd828d0b",
   "metadata": {},
   "outputs": [
    {
     "name": "stdout",
     "output_type": "stream",
     "text": [
      "priyanka shivaji gaikwad\n"
     ]
    }
   ],
   "source": [
    "a1.girl()"
   ]
  },
  {
   "cell_type": "code",
   "execution_count": 380,
   "id": "7c8c1313",
   "metadata": {},
   "outputs": [
    {
     "name": "stdout",
     "output_type": "stream",
     "text": [
      "mohane sir\n"
     ]
    }
   ],
   "source": [
    "a1.boy()"
   ]
  },
  {
   "cell_type": "code",
   "execution_count": 381,
   "id": "d6614e01",
   "metadata": {},
   "outputs": [
    {
     "name": "stdout",
     "output_type": "stream",
     "text": [
      "mohane sir\n"
     ]
    }
   ],
   "source": [
    "s1.boy()"
   ]
  },
  {
   "cell_type": "code",
   "execution_count": 382,
   "id": "19abe1e8",
   "metadata": {},
   "outputs": [],
   "source": [
    "b1 = student()"
   ]
  },
  {
   "cell_type": "code",
   "execution_count": 383,
   "id": "0a550e25",
   "metadata": {},
   "outputs": [
    {
     "name": "stdout",
     "output_type": "stream",
     "text": [
      "priyanka shivaji gaikwad\n"
     ]
    }
   ],
   "source": [
    "b1.girl()"
   ]
  },
  {
   "cell_type": "code",
   "execution_count": 384,
   "id": "643003f1",
   "metadata": {},
   "outputs": [],
   "source": [
    "##multiple inheritance"
   ]
  },
  {
   "cell_type": "code",
   "execution_count": 385,
   "id": "0ecdf99c",
   "metadata": {},
   "outputs": [],
   "source": [
    "## in multiple inheritance we can inherited the multiple class in the single class,  we can access the multiple class\n",
    "## in the single class"
   ]
  },
  {
   "cell_type": "code",
   "execution_count": 386,
   "id": "9d732d4b",
   "metadata": {},
   "outputs": [],
   "source": [
    "class sister():\n",
    "    def girl(self):\n",
    "        print(\"priyanka shivaji gaikwad\")\n",
    "class brother():\n",
    "    def boy(self):\n",
    "        print(\"devansh shivaji gaikwad\")\n",
    "class mother():\n",
    "    def lady(self):\n",
    "        print(\"manisha shivaji gaikwad\")\n",
    "class father(sister,brother,mother):\n",
    "    pass"
   ]
  },
  {
   "cell_type": "code",
   "execution_count": 387,
   "id": "55cd4469",
   "metadata": {},
   "outputs": [],
   "source": [
    "f1 = father()"
   ]
  },
  {
   "cell_type": "code",
   "execution_count": 388,
   "id": "43abd0a9",
   "metadata": {},
   "outputs": [
    {
     "name": "stdout",
     "output_type": "stream",
     "text": [
      "priyanka shivaji gaikwad\n"
     ]
    }
   ],
   "source": [
    "f1.girl()"
   ]
  },
  {
   "cell_type": "code",
   "execution_count": 389,
   "id": "28afe925",
   "metadata": {},
   "outputs": [
    {
     "name": "stdout",
     "output_type": "stream",
     "text": [
      "devansh shivaji gaikwad\n"
     ]
    }
   ],
   "source": [
    "f1.boy()"
   ]
  },
  {
   "cell_type": "code",
   "execution_count": 390,
   "id": "d0a75f8d",
   "metadata": {},
   "outputs": [
    {
     "name": "stdout",
     "output_type": "stream",
     "text": [
      "manisha shivaji gaikwad\n"
     ]
    }
   ],
   "source": [
    "f1.lady()"
   ]
  },
  {
   "cell_type": "code",
   "execution_count": 391,
   "id": "24d832b4",
   "metadata": {},
   "outputs": [],
   "source": [
    "# init function in the inheritance"
   ]
  },
  {
   "cell_type": "code",
   "execution_count": 392,
   "id": "a0942c3c",
   "metadata": {},
   "outputs": [],
   "source": [
    "class student:\n",
    "    def __init__(self,name,marks):\n",
    "        self.name=name\n",
    "        self.marks= marks\n",
    "    def girl(self):\n",
    "        return self.name, self.marks\n",
    "\n",
    "class teacher(student):\n",
    "    def boy(self):\n",
    "        print(\"devansh shivaji gaikwad\")"
   ]
  },
  {
   "cell_type": "code",
   "execution_count": 393,
   "id": "6a6d930b",
   "metadata": {},
   "outputs": [],
   "source": [
    "t1 = teacher(\"priyanka\", 95)"
   ]
  },
  {
   "cell_type": "code",
   "execution_count": 394,
   "id": "6adda32b",
   "metadata": {},
   "outputs": [
    {
     "data": {
      "text/plain": [
       "('priyanka', 95)"
      ]
     },
     "execution_count": 394,
     "metadata": {},
     "output_type": "execute_result"
    }
   ],
   "source": [
    "t1.girl()"
   ]
  },
  {
   "cell_type": "code",
   "execution_count": 395,
   "id": "dafbd11e",
   "metadata": {},
   "outputs": [
    {
     "name": "stdout",
     "output_type": "stream",
     "text": [
      "devansh shivaji gaikwad\n"
     ]
    }
   ],
   "source": [
    "t1.boy()"
   ]
  },
  {
   "cell_type": "code",
   "execution_count": 396,
   "id": "cde412d1",
   "metadata": {},
   "outputs": [],
   "source": [
    "class student:\n",
    "    def __init__(self,name,marks):\n",
    "        self.name=name\n",
    "        self.marks= marks\n",
    "    def girl(self):\n",
    "        return self.name, self.marks\n",
    "\n",
    "class teacher(student):\n",
    "    def __init__(self, school, name, marks):\n",
    "        student.__init__(self, name ,marks)\n",
    "        self.school = school\n",
    "    def boy(self):\n",
    "        return self.name, self.marks, self.school"
   ]
  },
  {
   "cell_type": "code",
   "execution_count": 397,
   "id": "dc9ce2fb",
   "metadata": {},
   "outputs": [],
   "source": [
    "t1 = teacher(\"pondicherry university\", \"priyanka\",95)"
   ]
  },
  {
   "cell_type": "code",
   "execution_count": 398,
   "id": "c6697d7d",
   "metadata": {},
   "outputs": [
    {
     "data": {
      "text/plain": [
       "('priyanka', 95, 'pondicherry university')"
      ]
     },
     "execution_count": 398,
     "metadata": {},
     "output_type": "execute_result"
    }
   ],
   "source": [
    "t1.boy()"
   ]
  },
  {
   "cell_type": "code",
   "execution_count": 399,
   "id": "de63b901",
   "metadata": {},
   "outputs": [
    {
     "data": {
      "text/plain": [
       "('priyanka', 95)"
      ]
     },
     "execution_count": 399,
     "metadata": {},
     "output_type": "execute_result"
    }
   ],
   "source": [
    "t1.girl()"
   ]
  },
  {
   "cell_type": "code",
   "execution_count": 400,
   "id": "037cd983",
   "metadata": {},
   "outputs": [
    {
     "data": {
      "text/plain": [
       "'pondicherry university'"
      ]
     },
     "execution_count": 400,
     "metadata": {},
     "output_type": "execute_result"
    }
   ],
   "source": [
    "t1.school"
   ]
  },
  {
   "cell_type": "code",
   "execution_count": 401,
   "id": "20bc8add",
   "metadata": {},
   "outputs": [],
   "source": [
    "s1 = student(\"priyanka\" ,95)"
   ]
  },
  {
   "cell_type": "code",
   "execution_count": 402,
   "id": "d8bdb681",
   "metadata": {},
   "outputs": [
    {
     "data": {
      "text/plain": [
       "('priyanka', 95)"
      ]
     },
     "execution_count": 402,
     "metadata": {},
     "output_type": "execute_result"
    }
   ],
   "source": [
    "s1.girl()"
   ]
  },
  {
   "cell_type": "code",
   "execution_count": 403,
   "id": "dc9009d1",
   "metadata": {},
   "outputs": [],
   "source": [
    "## hierarcial inheritance"
   ]
  },
  {
   "cell_type": "code",
   "execution_count": 404,
   "id": "9d665763",
   "metadata": {},
   "outputs": [],
   "source": [
    "class parent1:\n",
    "    def grandfa(self):\n",
    "        print(\"sadashiv gaikwad\")\n",
    "\n",
    "class parent2(parent1):\n",
    "    def father(self):\n",
    "        print(\"shivaji gaikwad\")\n",
    "\n",
    "class child(parent1):\n",
    "    def me(self):\n",
    "        print(\"priyanka gaikwad\")"
   ]
  },
  {
   "cell_type": "code",
   "execution_count": 405,
   "id": "9301a744",
   "metadata": {},
   "outputs": [],
   "source": [
    "f1 = parent2()"
   ]
  },
  {
   "cell_type": "code",
   "execution_count": 406,
   "id": "9f6aebb0",
   "metadata": {},
   "outputs": [],
   "source": [
    "c1 = child()"
   ]
  },
  {
   "cell_type": "code",
   "execution_count": 407,
   "id": "31638d52",
   "metadata": {},
   "outputs": [
    {
     "name": "stdout",
     "output_type": "stream",
     "text": [
      "sadashiv gaikwad\n"
     ]
    }
   ],
   "source": [
    "f1.grandfa()"
   ]
  },
  {
   "cell_type": "code",
   "execution_count": 408,
   "id": "64076ce6",
   "metadata": {},
   "outputs": [
    {
     "name": "stdout",
     "output_type": "stream",
     "text": [
      "sadashiv gaikwad\n"
     ]
    }
   ],
   "source": [
    "c1.grandfa()"
   ]
  },
  {
   "cell_type": "markdown",
   "id": "375168bf",
   "metadata": {},
   "source": [
    "# abstraction"
   ]
  },
  {
   "cell_type": "code",
   "execution_count": 409,
   "id": "202c9050",
   "metadata": {},
   "outputs": [],
   "source": [
    "import abc"
   ]
  },
  {
   "cell_type": "code",
   "execution_count": 410,
   "id": "cc9e14dd",
   "metadata": {},
   "outputs": [],
   "source": [
    "class student():\n",
    "    @abc.abstractmethod\n",
    "    def name(self):\n",
    "        pass\n",
    "    @abc.abstractmethod\n",
    "    def marks(self):\n",
    "        pass\n",
    "    @abc.abstractmethod\n",
    "    def age(self):\n",
    "        pass"
   ]
  },
  {
   "cell_type": "code",
   "execution_count": 411,
   "id": "b0ba1375",
   "metadata": {},
   "outputs": [],
   "source": [
    "class teacher(student):\n",
    "    def name(self):\n",
    "        print(\"priyanka shivaji gaikwad\")\n",
    "\n",
    "    def marks(self):\n",
    "        print(95)\n",
    "\n",
    "    def age(self):\n",
    "        print(22)\n",
    "\n",
    "class boy(student):\n",
    "    def name(self):\n",
    "        print(\"devansh\")"
   ]
  },
  {
   "cell_type": "code",
   "execution_count": 412,
   "id": "f79f74c4",
   "metadata": {},
   "outputs": [],
   "source": [
    " t1 = teacher()"
   ]
  },
  {
   "cell_type": "code",
   "execution_count": 413,
   "id": "0ffcb2f3",
   "metadata": {},
   "outputs": [
    {
     "name": "stdout",
     "output_type": "stream",
     "text": [
      "priyanka shivaji gaikwad\n"
     ]
    }
   ],
   "source": [
    "t1.name()"
   ]
  },
  {
   "cell_type": "code",
   "execution_count": 414,
   "id": "afe3c75d",
   "metadata": {},
   "outputs": [],
   "source": [
    "b1 = boy()"
   ]
  },
  {
   "cell_type": "code",
   "execution_count": 415,
   "id": "16760d4c",
   "metadata": {},
   "outputs": [
    {
     "name": "stdout",
     "output_type": "stream",
     "text": [
      "devansh\n"
     ]
    }
   ],
   "source": [
    "b1.name()"
   ]
  },
  {
   "cell_type": "markdown",
   "id": "096ac2dc",
   "metadata": {},
   "source": [
    "## decorator"
   ]
  },
  {
   "cell_type": "code",
   "execution_count": 416,
   "id": "184dc669",
   "metadata": {},
   "outputs": [],
   "source": [
    "def student(func):\n",
    "    def teacher():\n",
    "        print(\"hello i am \")\n",
    "        func()\n",
    "        print(\"nice to meet you\")\n",
    "    return teacher\n",
    "@student\n",
    "def pondy():\n",
    "    print(\"priyanka\")"
   ]
  },
  {
   "cell_type": "code",
   "execution_count": 417,
   "id": "ccffefa3",
   "metadata": {},
   "outputs": [
    {
     "name": "stdout",
     "output_type": "stream",
     "text": [
      "hello i am \n",
      "priyanka\n",
      "nice to meet you\n"
     ]
    }
   ],
   "source": [
    "pondy()"
   ]
  },
  {
   "cell_type": "markdown",
   "id": "65584517",
   "metadata": {},
   "source": [
    "  ### class method"
   ]
  },
  {
   "cell_type": "code",
   "execution_count": 418,
   "id": "29f83093",
   "metadata": {},
   "outputs": [],
   "source": [
    "class vehicle():\n",
    "    cost = 100000000000\n",
    "    def __init__(self, price,color,brand):\n",
    "        self.price = price\n",
    "        self.color = color\n",
    "        self.brand = brand\n",
    "        \n",
    "    @classmethod\n",
    "    def details(cls, price, color, brand):\n",
    "        print(price, color, brand)\n",
    "    \n",
    "    def car(self):\n",
    "        print(self.price, self.color, self.brand, vehicle.cost)"
   ]
  },
  {
   "cell_type": "code",
   "execution_count": 419,
   "id": "6af721f5",
   "metadata": {},
   "outputs": [],
   "source": [
    "## creating and calling instance method and add in the class variable"
   ]
  },
  {
   "cell_type": "code",
   "execution_count": 420,
   "id": "1014f293",
   "metadata": {},
   "outputs": [],
   "source": [
    "p1 = vehicle(1000, \"white\",\"swift\")"
   ]
  },
  {
   "cell_type": "code",
   "execution_count": 421,
   "id": "7266d807",
   "metadata": {},
   "outputs": [
    {
     "name": "stdout",
     "output_type": "stream",
     "text": [
      "1000 white swift 100000000000\n"
     ]
    }
   ],
   "source": [
    "p1.car()"
   ]
  },
  {
   "cell_type": "code",
   "execution_count": 422,
   "id": "b5d2c27d",
   "metadata": {},
   "outputs": [],
   "source": [
    "# calling a classmethod"
   ]
  },
  {
   "cell_type": "code",
   "execution_count": 423,
   "id": "098f6d77",
   "metadata": {},
   "outputs": [
    {
     "name": "stdout",
     "output_type": "stream",
     "text": [
      "2000 red baleno\n"
     ]
    }
   ],
   "source": [
    "vehicle.details(2000,\"red\",\"baleno\")"
   ]
  },
  {
   "cell_type": "code",
   "execution_count": 424,
   "id": "269dff51",
   "metadata": {},
   "outputs": [],
   "source": [
    "class student():\n",
    "    marks = 95\n",
    "    def __init__(self,name):\n",
    "        self.name=name\n",
    "\n",
    "    @classmethod\n",
    "    def student1(cls):\n",
    "        print(\"marks of the student: \", cls.marks)\n",
    "\n",
    "    @classmethod\n",
    "    def student3(cls, age):\n",
    "        print(\"my age is: \", age)\n",
    "        \n",
    "    def student2(self):\n",
    "        print(\"name of the student: \", self.name)"
   ]
  },
  {
   "cell_type": "code",
   "execution_count": 425,
   "id": "31d8ed51",
   "metadata": {},
   "outputs": [],
   "source": [
    "#calling a classmethod"
   ]
  },
  {
   "cell_type": "code",
   "execution_count": 426,
   "id": "f1d2ab75",
   "metadata": {},
   "outputs": [
    {
     "name": "stdout",
     "output_type": "stream",
     "text": [
      "marks of the student:  95\n"
     ]
    }
   ],
   "source": [
    "student.student1()"
   ]
  },
  {
   "cell_type": "code",
   "execution_count": 427,
   "id": "c36a1015",
   "metadata": {},
   "outputs": [],
   "source": [
    "# creating and calling the instances method"
   ]
  },
  {
   "cell_type": "code",
   "execution_count": 428,
   "id": "d2a784af",
   "metadata": {},
   "outputs": [],
   "source": [
    "s1 = student(\"priyanka\")"
   ]
  },
  {
   "cell_type": "code",
   "execution_count": 429,
   "id": "bf7c5a91",
   "metadata": {},
   "outputs": [
    {
     "name": "stdout",
     "output_type": "stream",
     "text": [
      "name of the student:  priyanka\n"
     ]
    }
   ],
   "source": [
    "s1.student2()"
   ]
  },
  {
   "cell_type": "code",
   "execution_count": 430,
   "id": "ab38a0a3",
   "metadata": {},
   "outputs": [
    {
     "name": "stdout",
     "output_type": "stream",
     "text": [
      "my age is:  22\n"
     ]
    }
   ],
   "source": [
    "student.student3(22)"
   ]
  },
  {
   "cell_type": "code",
   "execution_count": 431,
   "id": "3c0e2fec",
   "metadata": {},
   "outputs": [],
   "source": [
    "# add external function in the class"
   ]
  },
  {
   "cell_type": "code",
   "execution_count": 432,
   "id": "24c905f3",
   "metadata": {},
   "outputs": [],
   "source": [
    "class vehicle():\n",
    "    cost = 100000000000\n",
    "    def __init__(self, price,color,brand):\n",
    "        self.price = price\n",
    "        self.color = color\n",
    "        self.brand = brand\n",
    "\n",
    "    @classmethod\n",
    "    def details(priya, price, color, brand):\n",
    "        return priya(price, color, brand)\n",
    "\n",
    "    def car(self):\n",
    "        print (self.price, self.color, self.brand, vehicle.cost)\n",
    "\n",
    "def plane(cls,price,name, color):\n",
    "    print(price, name,color)"
   ]
  },
  {
   "cell_type": "code",
   "execution_count": 433,
   "id": "ec7b0276",
   "metadata": {},
   "outputs": [],
   "source": [
    "vehicle.plane = classmethod(plane)"
   ]
  },
  {
   "cell_type": "code",
   "execution_count": 434,
   "id": "49e7f3d6",
   "metadata": {},
   "outputs": [
    {
     "name": "stdout",
     "output_type": "stream",
     "text": [
      "4000 indigo white\n"
     ]
    }
   ],
   "source": [
    "p1 = vehicle.plane(4000,\"indigo\", \"white\")"
   ]
  },
  {
   "cell_type": "markdown",
   "id": "1f54ec70",
   "metadata": {},
   "source": [
    "### static method"
   ]
  },
  {
   "cell_type": "code",
   "execution_count": 435,
   "id": "4e451f61",
   "metadata": {},
   "outputs": [],
   "source": [
    "#a static method is a method that belongs to a class rather than an instance\n",
    "# of the class. It is defined within the class using the @staticmethod decorator\n",
    "# and does not have access to the instance or its attributes."
   ]
  },
  {
   "cell_type": "code",
   "execution_count": 436,
   "id": "635f3d30",
   "metadata": {},
   "outputs": [
    {
     "name": "stdout",
     "output_type": "stream",
     "text": [
      "priyanka 15 95\n",
      "priyanka 95 15\n"
     ]
    }
   ],
   "source": [
    "class student():\n",
    "  def teacher(self,name,rollno, marks):\n",
    "    print(name,rollno,marks)\n",
    "s1 = student()\n",
    "s1.teacher(\"priyanka\", 15,95)\n",
    "\n",
    "class student():\n",
    "  @staticmethod\n",
    "  def school(name,marks,rollno):\n",
    "    print(name,marks,rollno)\n",
    "student.school(\"priyanka\", 95,15)"
   ]
  },
  {
   "cell_type": "code",
   "execution_count": 437,
   "id": "f976e590",
   "metadata": {},
   "outputs": [
    {
     "name": "stdout",
     "output_type": "stream",
     "text": [
      "i am  shivaji gaikwad, my hobby is  wathing mobile and enjoying the life\n"
     ]
    }
   ],
   "source": [
    "class family():\n",
    "  @staticmethod\n",
    "  def member(name, hobby):\n",
    "    print(\"i am \", name, \"my hobby is \", hobby)\n",
    "family.member(\"shivaji gaikwad,\", \"wathing mobile and enjoying the life\")\n"
   ]
  },
  {
   "cell_type": "code",
   "execution_count": 438,
   "id": "0b15c016",
   "metadata": {},
   "outputs": [],
   "source": [
    "#To call a static method from a class method in Python, you can simply\n",
    "# invoke the static method using the class name, followed by the method name."
   ]
  },
  {
   "cell_type": "code",
   "execution_count": 439,
   "id": "75ff1c69",
   "metadata": {},
   "outputs": [],
   "source": [
    "class family():\n",
    "  @staticmethod\n",
    "  def static_method():\n",
    "    print(\"this is the static method\")\n",
    "\n",
    "  @classmethod\n",
    "  def class_method(cls):\n",
    "    print(\"this is the class method\")\n",
    "    cls.static_method()"
   ]
  },
  {
   "cell_type": "code",
   "execution_count": 440,
   "id": "7797dd3f",
   "metadata": {},
   "outputs": [
    {
     "name": "stdout",
     "output_type": "stream",
     "text": [
      "this is the class method\n",
      "this is the static method\n"
     ]
    }
   ],
   "source": [
    "family.class_method()"
   ]
  },
  {
   "cell_type": "code",
   "execution_count": 441,
   "id": "1864bab0",
   "metadata": {},
   "outputs": [
    {
     "name": "stdout",
     "output_type": "stream",
     "text": [
      "this is the static method\n"
     ]
    }
   ],
   "source": [
    "family.static_method()"
   ]
  },
  {
   "cell_type": "code",
   "execution_count": 442,
   "id": "5e07dcc6",
   "metadata": {},
   "outputs": [],
   "source": [
    "# class the static method in the static class"
   ]
  },
  {
   "cell_type": "code",
   "execution_count": 443,
   "id": "6e9c98c9",
   "metadata": {},
   "outputs": [],
   "source": [
    "class student():\n",
    "    @staticmethod\n",
    "    def student1(list_of_name):\n",
    "        print(list_of_name)\n",
    "\n",
    "    @staticmethod\n",
    "    def student2(list_of_hobby):\n",
    "        student.student1([\"priyanka\",\"shivaji\",\"manisha\",\"devansh\",\"harshada\",\"soham\"])\n",
    "        print(list_of_hobby)\n",
    "\n",
    "    @classmethod\n",
    "    def student3(cls):\n",
    "        cls.student2()"
   ]
  },
  {
   "cell_type": "code",
   "execution_count": 444,
   "id": "e227e2b9",
   "metadata": {},
   "outputs": [
    {
     "name": "stdout",
     "output_type": "stream",
     "text": [
      "priyanka\n"
     ]
    }
   ],
   "source": [
    "student.student1(\"priyanka\")"
   ]
  },
  {
   "cell_type": "code",
   "execution_count": 445,
   "id": "d74afcd3",
   "metadata": {},
   "outputs": [
    {
     "name": "stdout",
     "output_type": "stream",
     "text": [
      "['priyanka', 'shivaji', 'manisha', 'devansh', 'harshada', 'soham']\n",
      "['study', 'watching mobile', 'cooking', 'sleeping', 'reading', 'playing']\n"
     ]
    }
   ],
   "source": [
    "student.student2([\"study\",\"watching mobile\",\"cooking\",\"sleeping\",\"reading\",\"playing\"])"
   ]
  },
  {
   "cell_type": "markdown",
   "id": "6a376756",
   "metadata": {},
   "source": [
    "### special magic (dunder) function"
   ]
  },
  {
   "cell_type": "code",
   "execution_count": 446,
   "id": "be297ca0",
   "metadata": {},
   "outputs": [],
   "source": [
    "#print(dir(int))    ## this print all the dunder function with integer\n",
    "#print(dir(str))       ## this print all the dunder function with string"
   ]
  },
  {
   "cell_type": "code",
   "execution_count": 447,
   "id": "28dea7b8",
   "metadata": {},
   "outputs": [],
   "source": [
    "a = 100"
   ]
  },
  {
   "cell_type": "code",
   "execution_count": 448,
   "id": "f0905a6a",
   "metadata": {},
   "outputs": [
    {
     "data": {
      "text/plain": [
       "105"
      ]
     },
     "execution_count": 448,
     "metadata": {},
     "output_type": "execute_result"
    }
   ],
   "source": [
    "a+5"
   ]
  },
  {
   "cell_type": "code",
   "execution_count": 449,
   "id": "dab78e49",
   "metadata": {},
   "outputs": [
    {
     "name": "stdout",
     "output_type": "stream",
     "text": [
      "105\n"
     ]
    }
   ],
   "source": [
    "#by using dunder function\n",
    "print(a.__add__(5))"
   ]
  },
  {
   "cell_type": "code",
   "execution_count": 450,
   "id": "c351dcda",
   "metadata": {},
   "outputs": [],
   "source": [
    "# in the dunder function first new function will be run after that init function will be run"
   ]
  },
  {
   "cell_type": "code",
   "execution_count": 451,
   "id": "255febd2",
   "metadata": {},
   "outputs": [
    {
     "name": "stdout",
     "output_type": "stream",
     "text": [
      "this is the python class\n"
     ]
    }
   ],
   "source": [
    "class student():\n",
    "    def __new__(cls):\n",
    "        print(\"this is the python class\")\n",
    "    def __init__(self):\n",
    "        self.name = \"priyanka\"\n",
    "        print(\"my name is priyanka\")\n",
    "s1 = student()"
   ]
  },
  {
   "cell_type": "code",
   "execution_count": 452,
   "id": "0961216f",
   "metadata": {},
   "outputs": [],
   "source": [
    "# in this code we write init function first but the new fuction is run"
   ]
  },
  {
   "cell_type": "code",
   "execution_count": 453,
   "id": "435773e2",
   "metadata": {},
   "outputs": [
    {
     "name": "stdout",
     "output_type": "stream",
     "text": [
      "this is the python class\n"
     ]
    }
   ],
   "source": [
    "class student():\n",
    "    def __init__(self):\n",
    "        print(\"I am priyanka gaikwad\")\n",
    "    def __new__(cls):\n",
    "        print(\"this is the python class\")\n",
    "s1 = student()"
   ]
  },
  {
   "cell_type": "code",
   "execution_count": 454,
   "id": "94944077",
   "metadata": {},
   "outputs": [],
   "source": [
    "# __str__ dunder function in the python"
   ]
  },
  {
   "cell_type": "code",
   "execution_count": 455,
   "id": "92aafb0a",
   "metadata": {},
   "outputs": [],
   "source": [
    "class student():\n",
    "    def __init__(self, num):\n",
    "        self.num = num\n",
    "\n",
    "    def __str__(self):\n",
    "        return f\"hii guys its me!! {self.num}\""
   ]
  },
  {
   "cell_type": "code",
   "execution_count": 456,
   "id": "c30884f8",
   "metadata": {},
   "outputs": [],
   "source": [
    "s1 = student(15)"
   ]
  },
  {
   "cell_type": "code",
   "execution_count": 457,
   "id": "0f7a6107",
   "metadata": {},
   "outputs": [
    {
     "data": {
      "text/plain": [
       "<__main__.student at 0x1b64027b2b0>"
      ]
     },
     "execution_count": 457,
     "metadata": {},
     "output_type": "execute_result"
    }
   ],
   "source": [
    "s1"
   ]
  },
  {
   "cell_type": "code",
   "execution_count": 458,
   "id": "e6e6fc56",
   "metadata": {},
   "outputs": [],
   "source": [
    "class MyClass:\n",
    "    def __init__(self, value):\n",
    "        self.value = value\n",
    "\n",
    "    def __str__(self):\n",
    "        return f\"MyClass instance with value: {self.value}\""
   ]
  },
  {
   "cell_type": "code",
   "execution_count": 459,
   "id": "a714ad78",
   "metadata": {},
   "outputs": [],
   "source": [
    "# Creating an instance of MyClass"
   ]
  },
  {
   "cell_type": "code",
   "execution_count": 460,
   "id": "59b0f44d",
   "metadata": {},
   "outputs": [],
   "source": [
    "obj = MyClass(10)"
   ]
  },
  {
   "cell_type": "code",
   "execution_count": 461,
   "id": "fee25e6f",
   "metadata": {},
   "outputs": [
    {
     "data": {
      "text/plain": [
       "<__main__.MyClass at 0x1b64027b5b0>"
      ]
     },
     "execution_count": 461,
     "metadata": {},
     "output_type": "execute_result"
    }
   ],
   "source": [
    "obj"
   ]
  },
  {
   "cell_type": "code",
   "execution_count": 462,
   "id": "44313381",
   "metadata": {},
   "outputs": [],
   "source": [
    "class student():\n",
    "    def __init__(self):\n",
    "        print(256314)\n",
    "\n",
    "    def __str__(self):\n",
    "        print(\"hii guys its me!!\")"
   ]
  },
  {
   "cell_type": "code",
   "execution_count": 463,
   "id": "52de9238",
   "metadata": {},
   "outputs": [
    {
     "name": "stdout",
     "output_type": "stream",
     "text": [
      "256314\n"
     ]
    }
   ],
   "source": [
    "s1 = student()"
   ]
  },
  {
   "cell_type": "markdown",
   "id": "34f4523c",
   "metadata": {},
   "source": [
    "### property decorator"
   ]
  },
  {
   "cell_type": "code",
   "execution_count": 464,
   "id": "dc4ffb6b",
   "metadata": {},
   "outputs": [],
   "source": [
    "#property decorator is a built-in function that allows you to define methods\n",
    "#that are accessed like attributes. It provides a way to define getter, setter,\n",
    "# and deleter methods for a class attribute, giving you control over its access and modification."
   ]
  },
  {
   "cell_type": "code",
   "execution_count": 465,
   "id": "9587245a",
   "metadata": {},
   "outputs": [],
   "source": [
    "class numbers:\n",
    "    def __init__(self, price, name):\n",
    "        self.__price = price\n",
    "        self.name = name "
   ]
  },
  {
   "cell_type": "code",
   "execution_count": 466,
   "id": "a2c12e57",
   "metadata": {},
   "outputs": [],
   "source": [
    "p1 = numbers(100,\"manisha\")"
   ]
  },
  {
   "cell_type": "code",
   "execution_count": 467,
   "id": "461486d7",
   "metadata": {},
   "outputs": [
    {
     "data": {
      "text/plain": [
       "'manisha'"
      ]
     },
     "execution_count": 467,
     "metadata": {},
     "output_type": "execute_result"
    }
   ],
   "source": [
    "p1.name"
   ]
  },
  {
   "cell_type": "code",
   "execution_count": 468,
   "id": "34853a74",
   "metadata": {},
   "outputs": [],
   "source": [
    "# p1.price  # we can not access the price arttribute because it is private"
   ]
  },
  {
   "cell_type": "code",
   "execution_count": 469,
   "id": "ae03cf47",
   "metadata": {},
   "outputs": [],
   "source": [
    "# we can access the private attribute by using @property decorator"
   ]
  },
  {
   "cell_type": "code",
   "execution_count": 470,
   "id": "e3fc6329",
   "metadata": {},
   "outputs": [],
   "source": [
    "class numbers:\n",
    "    def __init__(self, price, name):\n",
    "        self.__price = price\n",
    "        self.name = name\n",
    "\n",
    "    @property\n",
    "    def access_price(self):\n",
    "        return self.__price"
   ]
  },
  {
   "cell_type": "code",
   "execution_count": 471,
   "id": "ade31d42",
   "metadata": {},
   "outputs": [],
   "source": [
    "p1 = numbers(520, \"priyanka\")"
   ]
  },
  {
   "cell_type": "code",
   "execution_count": 472,
   "id": "4b5eb04f",
   "metadata": {},
   "outputs": [
    {
     "data": {
      "text/plain": [
       "520"
      ]
     },
     "execution_count": 472,
     "metadata": {},
     "output_type": "execute_result"
    }
   ],
   "source": [
    "p1.access_price"
   ]
  },
  {
   "cell_type": "code",
   "execution_count": 473,
   "id": "99839586",
   "metadata": {},
   "outputs": [
    {
     "data": {
      "text/plain": [
       "'priyanka'"
      ]
     },
     "execution_count": 473,
     "metadata": {},
     "output_type": "execute_result"
    }
   ],
   "source": [
    "p1.name"
   ]
  },
  {
   "cell_type": "code",
   "execution_count": 474,
   "id": "3521b562",
   "metadata": {},
   "outputs": [],
   "source": [
    "# set the value of the price attribute by using decorator"
   ]
  },
  {
   "cell_type": "code",
   "execution_count": 475,
   "id": "7a84ab6f",
   "metadata": {},
   "outputs": [],
   "source": [
    "class numbers:\n",
    "    def __init__(self, price, name):\n",
    "        self.__price = price   ## private access modifier\n",
    "        self.name = name       ## public access modifier\n",
    "\n",
    "    @property\n",
    "    def access_price(self):\n",
    "        return self.__price\n",
    "\n",
    "    @access_price.setter\n",
    "    def set_price(self, course_price):\n",
    "        if course_price<=520:\n",
    "            pass\n",
    "        else:\n",
    "            self.__price = course_price"
   ]
  },
  {
   "cell_type": "code",
   "execution_count": 476,
   "id": "4737e0a2",
   "metadata": {},
   "outputs": [],
   "source": [
    "p1 = numbers(520, \"priyanka\")"
   ]
  },
  {
   "cell_type": "code",
   "execution_count": 477,
   "id": "55996f0d",
   "metadata": {},
   "outputs": [
    {
     "data": {
      "text/plain": [
       "520"
      ]
     },
     "execution_count": 477,
     "metadata": {},
     "output_type": "execute_result"
    }
   ],
   "source": [
    "p1.access_price"
   ]
  },
  {
   "cell_type": "code",
   "execution_count": 478,
   "id": "6439bc20",
   "metadata": {},
   "outputs": [],
   "source": [
    "p1.set_price = 100"
   ]
  },
  {
   "cell_type": "code",
   "execution_count": 479,
   "id": "dd8ace37",
   "metadata": {},
   "outputs": [
    {
     "data": {
      "text/plain": [
       "520"
      ]
     },
     "execution_count": 479,
     "metadata": {},
     "output_type": "execute_result"
    }
   ],
   "source": [
    "p1.access_price"
   ]
  },
  {
   "cell_type": "code",
   "execution_count": 480,
   "id": "caa1d0dd",
   "metadata": {},
   "outputs": [],
   "source": [
    "p1.set_price = 1000"
   ]
  },
  {
   "cell_type": "code",
   "execution_count": 481,
   "id": "dc005901",
   "metadata": {},
   "outputs": [
    {
     "data": {
      "text/plain": [
       "1000"
      ]
     },
     "execution_count": 481,
     "metadata": {},
     "output_type": "execute_result"
    }
   ],
   "source": [
    "p1.access_price"
   ]
  },
  {
   "cell_type": "code",
   "execution_count": 482,
   "id": "782b4b38",
   "metadata": {},
   "outputs": [],
   "source": [
    "class circle():\n",
    "    def __init__(self,radius):\n",
    "        self.__radius = radius\n",
    "\n",
    "    @property\n",
    "    def access_radius(self):\n",
    "        return self.__radius\n",
    "\n",
    "    @access_radius.setter\n",
    "    def set_radius(self, radius2):\n",
    "        if radius2 <= 0:\n",
    "            pass\n",
    "        else:\n",
    "            self.__radius = radius2"
   ]
  },
  {
   "cell_type": "code",
   "execution_count": 483,
   "id": "cad76933",
   "metadata": {},
   "outputs": [],
   "source": [
    "c1 = circle(5)"
   ]
  },
  {
   "cell_type": "code",
   "execution_count": 484,
   "id": "797f0f8f",
   "metadata": {},
   "outputs": [
    {
     "data": {
      "text/plain": [
       "5"
      ]
     },
     "execution_count": 484,
     "metadata": {},
     "output_type": "execute_result"
    }
   ],
   "source": [
    "c1.access_radius"
   ]
  },
  {
   "cell_type": "code",
   "execution_count": 485,
   "id": "1fb2e2ba",
   "metadata": {},
   "outputs": [],
   "source": [
    "c1.set_radius = 10"
   ]
  },
  {
   "cell_type": "code",
   "execution_count": 486,
   "id": "beaaaa5a",
   "metadata": {},
   "outputs": [
    {
     "data": {
      "text/plain": [
       "10"
      ]
     },
     "execution_count": 486,
     "metadata": {},
     "output_type": "execute_result"
    }
   ],
   "source": [
    "c1.access_radius"
   ]
  },
  {
   "cell_type": "code",
   "execution_count": 487,
   "id": "d2089a5a",
   "metadata": {},
   "outputs": [],
   "source": [
    "c1.set_radius = -1"
   ]
  },
  {
   "cell_type": "code",
   "execution_count": 488,
   "id": "3fdd6f58",
   "metadata": {},
   "outputs": [
    {
     "data": {
      "text/plain": [
       "10"
      ]
     },
     "execution_count": 488,
     "metadata": {},
     "output_type": "execute_result"
    }
   ],
   "source": [
    "c1.access_radius"
   ]
  },
  {
   "cell_type": "markdown",
   "id": "25bab09b",
   "metadata": {},
   "source": [
    "### file handling in python"
   ]
  },
  {
   "cell_type": "code",
   "execution_count": 489,
   "id": "c6f5eb2f",
   "metadata": {},
   "outputs": [],
   "source": [
    "#write and read the file"
   ]
  },
  {
   "cell_type": "code",
   "execution_count": 490,
   "id": "c8978a19",
   "metadata": {},
   "outputs": [],
   "source": [
    "f= open(\"test.txt\" , 'w')"
   ]
  },
  {
   "cell_type": "code",
   "execution_count": 491,
   "id": "3ee7bd8f",
   "metadata": {},
   "outputs": [],
   "source": [
    "text = f.write(\"priyanka shivaji gaikwad\")"
   ]
  },
  {
   "cell_type": "code",
   "execution_count": 492,
   "id": "2270be78",
   "metadata": {},
   "outputs": [],
   "source": [
    "f = open(\"test.txt\", 'r')"
   ]
  },
  {
   "cell_type": "code",
   "execution_count": 493,
   "id": "74c40c47",
   "metadata": {},
   "outputs": [],
   "source": [
    "text = f.read()"
   ]
  },
  {
   "cell_type": "code",
   "execution_count": 494,
   "id": "4ad70438",
   "metadata": {},
   "outputs": [
    {
     "data": {
      "text/plain": [
       "'priyanka shivaji gaikwad'"
      ]
     },
     "execution_count": 494,
     "metadata": {},
     "output_type": "execute_result"
    }
   ],
   "source": [
    "text"
   ]
  },
  {
   "cell_type": "code",
   "execution_count": 495,
   "id": "c22ba89a",
   "metadata": {},
   "outputs": [],
   "source": [
    "f.close()"
   ]
  },
  {
   "cell_type": "code",
   "execution_count": 496,
   "id": "b6f8de2d",
   "metadata": {},
   "outputs": [],
   "source": [
    "f = open(\"test.txt\" , 'rb')"
   ]
  },
  {
   "cell_type": "code",
   "execution_count": 497,
   "id": "5592fdbc",
   "metadata": {},
   "outputs": [],
   "source": [
    "text = f.read()"
   ]
  },
  {
   "cell_type": "code",
   "execution_count": 498,
   "id": "b38b515f",
   "metadata": {},
   "outputs": [
    {
     "data": {
      "text/plain": [
       "b'priyanka shivaji gaikwad'"
      ]
     },
     "execution_count": 498,
     "metadata": {},
     "output_type": "execute_result"
    }
   ],
   "source": [
    "text"
   ]
  },
  {
   "cell_type": "code",
   "execution_count": 499,
   "id": "079b0db4",
   "metadata": {},
   "outputs": [],
   "source": [
    "f.close()"
   ]
  },
  {
   "cell_type": "code",
   "execution_count": 500,
   "id": "b5176e62",
   "metadata": {},
   "outputs": [],
   "source": [
    "# read the file without close"
   ]
  },
  {
   "cell_type": "code",
   "execution_count": 501,
   "id": "45fcccea",
   "metadata": {},
   "outputs": [
    {
     "name": "stdout",
     "output_type": "stream",
     "text": [
      "priyanka shivaji gaikwad\n"
     ]
    }
   ],
   "source": [
    "with open(\"test.txt\", 'r') as f:\n",
    "    print(f.read())"
   ]
  },
  {
   "cell_type": "code",
   "execution_count": 502,
   "id": "c728d427",
   "metadata": {},
   "outputs": [
    {
     "data": {
      "text/plain": [
       "94"
      ]
     },
     "execution_count": 502,
     "metadata": {},
     "output_type": "execute_result"
    }
   ],
   "source": [
    "data = open(\"data.txt\", 'w')\n",
    "data.write(\"I am priyanka shivaji gaikwad, i live in vidani, my father is farmer, my family is very sweet.\")"
   ]
  },
  {
   "cell_type": "code",
   "execution_count": 503,
   "id": "54dcc6fb",
   "metadata": {},
   "outputs": [],
   "source": [
    "data = open(\"data.txt\" ,'r')\n",
    "a = data.read()"
   ]
  },
  {
   "cell_type": "code",
   "execution_count": 504,
   "id": "02abc47e",
   "metadata": {},
   "outputs": [
    {
     "data": {
      "text/plain": [
       "'I am priyanka shivaji gaikwad, i live in vidani, my father is farmer, my family is very sweet.'"
      ]
     },
     "execution_count": 504,
     "metadata": {},
     "output_type": "execute_result"
    }
   ],
   "source": [
    "a"
   ]
  },
  {
   "cell_type": "code",
   "execution_count": 505,
   "id": "d367b76e",
   "metadata": {},
   "outputs": [],
   "source": [
    "data = open(\"data.txt\", 'a')\n",
    "b = data.write(\"i want to do something special for my family \")"
   ]
  },
  {
   "cell_type": "code",
   "execution_count": 506,
   "id": "2380f218",
   "metadata": {},
   "outputs": [
    {
     "data": {
      "text/plain": [
       "45"
      ]
     },
     "execution_count": 506,
     "metadata": {},
     "output_type": "execute_result"
    }
   ],
   "source": [
    "b"
   ]
  },
  {
   "cell_type": "code",
   "execution_count": 507,
   "id": "138a6937",
   "metadata": {},
   "outputs": [],
   "source": [
    "data = open(\"data.txt\" ,'r')\n",
    "c = data.read()"
   ]
  },
  {
   "cell_type": "code",
   "execution_count": 508,
   "id": "0308130e",
   "metadata": {},
   "outputs": [
    {
     "data": {
      "text/plain": [
       "'I am priyanka shivaji gaikwad, i live in vidani, my father is farmer, my family is very sweet.i want to do something special for my family '"
      ]
     },
     "execution_count": 508,
     "metadata": {},
     "output_type": "execute_result"
    }
   ],
   "source": [
    "c"
   ]
  },
  {
   "cell_type": "code",
   "execution_count": 509,
   "id": "de0f6294",
   "metadata": {},
   "outputs": [],
   "source": [
    "# json module in python"
   ]
  },
  {
   "cell_type": "code",
   "execution_count": 510,
   "id": "d35e82d1",
   "metadata": {},
   "outputs": [],
   "source": [
    "import json"
   ]
  },
  {
   "cell_type": "code",
   "execution_count": 511,
   "id": "17a703ec",
   "metadata": {},
   "outputs": [],
   "source": [
    "data = {\"name\":\"priyanka\",\"fathername\":\"shivaji\", \"rollno\": 15, \"subject\": [\"maths\",\"biology\",\"genetics\"]}\n",
    "with open(\"data.json\",'w') as a:\n",
    "    json.dump(data, a)"
   ]
  },
  {
   "cell_type": "code",
   "execution_count": 512,
   "id": "0d6ee965",
   "metadata": {},
   "outputs": [],
   "source": [
    "with open(\"data.json\", 'r') as a:\n",
    "     data2 = json.load(a)"
   ]
  },
  {
   "cell_type": "code",
   "execution_count": 513,
   "id": "3fe43aac",
   "metadata": {},
   "outputs": [
    {
     "data": {
      "text/plain": [
       "{'name': 'priyanka',\n",
       " 'fathername': 'shivaji',\n",
       " 'rollno': 15,\n",
       " 'subject': ['maths', 'biology', 'genetics']}"
      ]
     },
     "execution_count": 513,
     "metadata": {},
     "output_type": "execute_result"
    }
   ],
   "source": [
    "data2"
   ]
  },
  {
   "cell_type": "code",
   "execution_count": 514,
   "id": "90af18d2",
   "metadata": {},
   "outputs": [],
   "source": [
    "a.close()"
   ]
  },
  {
   "cell_type": "code",
   "execution_count": 515,
   "id": "fc1edb47",
   "metadata": {},
   "outputs": [],
   "source": [
    "# CSV module in the python"
   ]
  },
  {
   "cell_type": "code",
   "execution_count": 516,
   "id": "1d420d11",
   "metadata": {},
   "outputs": [],
   "source": [
    "import csv"
   ]
  },
  {
   "cell_type": "code",
   "execution_count": 517,
   "id": "c922d58a",
   "metadata": {},
   "outputs": [
    {
     "name": "stdout",
     "output_type": "stream",
     "text": [
      "27\n",
      "22\n",
      "24\n",
      "24\n"
     ]
    }
   ],
   "source": [
    "data = [[\"name\", \"rollno\", \"subject\",\"marks\"],\n",
    "         [\"priyanka\",15,\"maths\",95],\n",
    "          [\"harshada\",16,\"science\",98],\n",
    "         [\"devansh\",14,\"marathi\", 100]]\n",
    "with open(\"data.csv\" ,'w') as a:\n",
    "    writer_data = csv.writer(a)\n",
    "    for i in data:\n",
    "        print(writer_data.writerow(i))"
   ]
  },
  {
   "cell_type": "code",
   "execution_count": 518,
   "id": "77be27f1",
   "metadata": {},
   "outputs": [
    {
     "name": "stdout",
     "output_type": "stream",
     "text": [
      "['Name,Age,Email']\n",
      "['John Doe,25,john@example.com']\n",
      "['Jane Smith,30,jane@example.com']\n"
     ]
    }
   ],
   "source": [
    "with open('data.csv', 'w', newline='') as file:\n",
    "    csv_writer = csv.writer(file)\n",
    "    csv_writer.writerow(['Name', 'Age', 'Email'])  # Write header row\n",
    "    csv_writer.writerow(['John Doe', 25, 'john@example.com'])  # Write data row\n",
    "    csv_writer.writerow(['Jane Smith', 30, 'jane@example.com'])  # Write another data row\n",
    "with open('data.csv', 'r') as file:\n",
    "        csv_reader = csv.reader(file, delimiter=';')\n",
    "        \n",
    "        for row in csv_reader:\n",
    "        # Process each row with a semicolon (;) delimiter\n",
    "            print(row)"
   ]
  },
  {
   "cell_type": "code",
   "execution_count": 519,
   "id": "28bf4c55",
   "metadata": {},
   "outputs": [],
   "source": [
    "data = [\n",
    "    ['Name', 'Age', 'Country'],\n",
    "    ['John', '25', 'USA'],\n",
    "    ['Alice', '30', 'Canada'],\n",
    "    ['Bob', '35', 'UK']\n",
    "]"
   ]
  },
  {
   "cell_type": "code",
   "execution_count": 520,
   "id": "12d82dc7",
   "metadata": {},
   "outputs": [],
   "source": [
    "with open('priya.csv', 'w', newline='') as file:\n",
    "    writer = csv.writer(file)\n",
    "    writer.writerows(data)"
   ]
  },
  {
   "cell_type": "code",
   "execution_count": 521,
   "id": "2f9a9af4",
   "metadata": {},
   "outputs": [],
   "source": [
    "file.close()"
   ]
  },
  {
   "cell_type": "code",
   "execution_count": 522,
   "id": "abdb62f5",
   "metadata": {},
   "outputs": [],
   "source": [
    " data =[[\"name\",\"subject\", \"marks\", \"hobby\", \"age\"],\n",
    "       [\"priya\",\"maths\",98,\"reading\", 23],\n",
    "       [\"shivaji\",\"science\",98,\"watching tv\",50],\n",
    "       [\"manisha\",\"history\",85,\"cooking\", 40],\n",
    "       [\"soham\",\"english\", 95,\"playing\", 6],\n",
    "       [\"harshada\", \"marathi\", 85, \"writting\", 25]]"
   ]
  },
  {
   "cell_type": "code",
   "execution_count": 523,
   "id": "a7a29b63",
   "metadata": {},
   "outputs": [],
   "source": [
    "with open(\"family.csv\", \"w\", newline= '') as a:\n",
    "    data1 = csv.writer(a)\n",
    "    data1.writerows(data)"
   ]
  },
  {
   "cell_type": "code",
   "execution_count": 524,
   "id": "2d0c9cde",
   "metadata": {},
   "outputs": [
    {
     "name": "stdout",
     "output_type": "stream",
     "text": [
      "['name', 'subject', 'marks', 'hobby', 'age']\n",
      "marks\n",
      "['priya', 'maths', '98', 'reading', '23']\n",
      "98\n",
      "['shivaji', 'science', '98', 'watching tv', '50']\n",
      "98\n",
      "['manisha', 'history', '85', 'cooking', '40']\n",
      "85\n",
      "['soham', 'english', '95', 'playing', '6']\n",
      "95\n",
      "['harshada', 'marathi', '85', 'writting', '25']\n",
      "85\n"
     ]
    }
   ],
   "source": [
    "with open(\"family.csv\",\"r\") as b:\n",
    "    data2 = csv.reader(b)\n",
    "    for i in data2:\n",
    "        print(i)\n",
    "        print(i[2])"
   ]
  },
  {
   "cell_type": "code",
   "execution_count": 525,
   "id": "50d3b0de",
   "metadata": {},
   "outputs": [
    {
     "name": "stdout",
     "output_type": "stream",
     "text": [
      "['Name', 'Age', 'Country']\n",
      "['John', '26', 'USA']\n",
      "['Alice', '30', 'Canada']\n",
      "['Bob', '35', 'UK']\n"
     ]
    }
   ],
   "source": [
    "data = [['Name', 'Age', 'Country'],\n",
    "        ['John', '26', 'USA'],\n",
    "        ['Alice', '30', 'Canada'],\n",
    "        ['Bob', '35', 'UK']]\n",
    "\n",
    "with open(\"school.csv\", 'w', newline='') as file:\n",
    "    writer = csv.writer(file)\n",
    "    writer.writerows(data)\n",
    "\n",
    "# Reading from CSV\n",
    "with open('school.csv', 'r') as file:\n",
    "    reader = csv.reader(file)\n",
    "\n",
    "    with open (\"new_school.csv\", 'w') as new_file:\n",
    "        new_writer = csv.writer(new_file, delimiter = '*')\n",
    "        for row in reader:\n",
    "            new_writer.writerow(row)\n",
    "            print(row)"
   ]
  },
  {
   "cell_type": "code",
   "execution_count": 526,
   "id": "7e6d5548",
   "metadata": {},
   "outputs": [],
   "source": [
    "# reading of csv file dictionary format"
   ]
  },
  {
   "cell_type": "code",
   "execution_count": 527,
   "id": "d404d5c3",
   "metadata": {},
   "outputs": [
    {
     "name": "stdout",
     "output_type": "stream",
     "text": [
      "26\n",
      "30\n",
      "35\n"
     ]
    }
   ],
   "source": [
    "with open('school.csv', 'r') as file:\n",
    "    reader = csv.DictReader(file)\n",
    "    for i in reader:\n",
    "        # print(i)\n",
    "        print(i['Age'])"
   ]
  },
  {
   "cell_type": "code",
   "execution_count": 528,
   "id": "a84fec8c",
   "metadata": {},
   "outputs": [],
   "source": [
    "#binary file formation\n",
    "##binary file in python used to read ad edit the image , audio, video"
   ]
  },
  {
   "cell_type": "code",
   "execution_count": 529,
   "id": "10ade8d8",
   "metadata": {},
   "outputs": [
    {
     "name": "stdout",
     "output_type": "stream",
     "text": [
      "b'\\x01\\x02\\x03'\n"
     ]
    }
   ],
   "source": [
    "with open(\"shivaji.bin\", \"wb\") as a:\n",
    "    a.write(b\"\\x01\\x02\\x03\")\n",
    "\n",
    "with open(\"shivaji.bin\", \"rb\") as b:\n",
    "    c = b.read()\n",
    "    print(c)"
   ]
  },
  {
   "cell_type": "markdown",
   "id": "24dbea9b",
   "metadata": {},
   "source": [
    "#### buffered read and write other file method"
   ]
  },
  {
   "cell_type": "code",
   "execution_count": 530,
   "id": "b57d0d7b",
   "metadata": {},
   "outputs": [],
   "source": [
    "import io"
   ]
  },
  {
   "cell_type": "code",
   "execution_count": 531,
   "id": "8eed3632",
   "metadata": {},
   "outputs": [
    {
     "name": "stdout",
     "output_type": "stream",
     "text": [
      "b'BTS member Jungkook was born in Busan, South Korea. He is 24 years old and is the youngest member of BTS. Jungkook attended the School of Performing Arts Seoul which caused him to start high school a year later than others because of his early debut in the music career.'\n"
     ]
    }
   ],
   "source": [
    "with open(\"buffer.txt\", \"wb\") as a:\n",
    "    data = io.BufferedWriter(a)\n",
    "    data.write(b\"BTS member Jungkook was born in Busan, South Korea. He is 24 years old and is the youngest member of BTS. Jungkook \"\n",
    "           b\"attended the School of Performing Arts Seoul which caused him to start high school a year later than others\"\n",
    "           b\" because of his early debut in the music career.\")\n",
    "    data.flush()\n",
    "with open(\"buffer.txt\", \"rb\") as b:\n",
    "    data1 = io.BufferedReader(b)\n",
    "    data2 = data1.read()\n",
    "    print(data2)\n"
   ]
  },
  {
   "cell_type": "markdown",
   "id": "bebc0ad9",
   "metadata": {},
   "source": [
    "#### logging debugger in python\n",
    "   "
   ]
  },
  {
   "cell_type": "code",
   "execution_count": 532,
   "id": "66ca1385",
   "metadata": {},
   "outputs": [],
   "source": [
    "import logging"
   ]
  },
  {
   "cell_type": "code",
   "execution_count": 533,
   "id": "a25c68d1",
   "metadata": {},
   "outputs": [],
   "source": [
    "logging.basicConfig(filename= \"priyanka.log\", level = logging.INFO)\n",
    "logging.info(\"priyanka shivaji gaikwad\")\n",
    "logging.info(\"I am good girl\")\n",
    "logging.info(\"I am so confident\")"
   ]
  },
  {
   "cell_type": "code",
   "execution_count": 534,
   "id": "68dc7d15",
   "metadata": {},
   "outputs": [],
   "source": [
    "# level of logging (info, critical, debug, notset, error, warnning)"
   ]
  },
  {
   "cell_type": "code",
   "execution_count": 535,
   "id": "e12fd045",
   "metadata": {},
   "outputs": [],
   "source": [
    "logging.error(\"This is the error\")\n",
    "logging.critical(\"this is the critical\")\n",
    "logging.warning(\"this is the warning\")\n",
    "logging.debug(\"this is the debug\")"
   ]
  },
  {
   "cell_type": "code",
   "execution_count": 536,
   "id": "b5200d8d",
   "metadata": {},
   "outputs": [],
   "source": [
    "# we can not print the logging.debug in the info file. when we set the logging.INFO\n",
    "# # then we can only print the logging.error, logging.critical, logging.warning when we set the logging.INFO"
   ]
  },
  {
   "cell_type": "code",
   "execution_count": 537,
   "id": "a7d19f91",
   "metadata": {},
   "outputs": [],
   "source": [
    "# when we set the logging.DEBUG the we can print all the logging function"
   ]
  },
  {
   "cell_type": "code",
   "execution_count": 538,
   "id": "24b6a8db",
   "metadata": {},
   "outputs": [],
   "source": [
    "logging.basicConfig(filename= \"Devansh.log\", level= logging.DEBUG)\n",
    "logging.debug(\"This is the debug statement\")\n",
    "logging.info(\"this is the info statement\")\n",
    "logging.error(\"This is the error\")\n",
    "logging.critical(\"this is the critical\")\n",
    "logging.warning(\"this is the warning\")"
   ]
  },
  {
   "cell_type": "code",
   "execution_count": 539,
   "id": "5d3d003c",
   "metadata": {},
   "outputs": [],
   "source": [
    "# record the time and message in the logging file by using the format"
   ]
  },
  {
   "cell_type": "code",
   "execution_count": 540,
   "id": "fad8a7ac",
   "metadata": {},
   "outputs": [],
   "source": [
    "logging.basicConfig(filename= \"test1.log\", level= logging.DEBUG, format = '%(asctime)s%(message)s')\n",
    "logging.debug(\"This is the debug statement\")\n",
    "logging.info(\"this is the info statement\")\n",
    "logging.error(\"This is the error\")\n",
    "logging.critical(\"this is the critical\")\n",
    "logging.warning(\"this is the warning\")\n",
    "logging.shutdown()"
   ]
  },
  {
   "cell_type": "code",
   "execution_count": 541,
   "id": "3f6a2993",
   "metadata": {},
   "outputs": [],
   "source": [
    "# record the time, name, levelname, message in the logging file by using the format"
   ]
  },
  {
   "cell_type": "code",
   "execution_count": 542,
   "id": "a2c32496",
   "metadata": {},
   "outputs": [],
   "source": [
    "logging.basicConfig(filename= \"test2.log\", level= logging.DEBUG, format = '%(asctime)s %(name)s %(levelname)s %(message)s')\n",
    "logging.debug(\"This is the debug statement\")\n",
    "logging.info(\"this is the info statement\")\n",
    "logging.error(\"This is the error\")\n",
    "logging.critical(\"this is the critical\")\n",
    "logging.warning(\"this is the warning\")"
   ]
  },
  {
   "cell_type": "markdown",
   "id": "6a82c8a3",
   "metadata": {},
   "source": [
    "### exception handling"
   ]
  },
  {
   "cell_type": "code",
   "execution_count": 543,
   "id": "475ffac3",
   "metadata": {
    "scrolled": true
   },
   "outputs": [],
   "source": [
    "# a =10\n",
    "# print(a/0)  ## this is give the error because we can not divide the number with the 0 in the python\n",
    "# print(\"priyanka shivaji gaikwad\")  ## we can not run this code also because error are already present in our code"
   ]
  },
  {
   "cell_type": "code",
   "execution_count": 544,
   "id": "2d134c5e",
   "metadata": {},
   "outputs": [],
   "source": [
    "#exception handling are used to avoid error\n",
    "## try block are used for the handle the error and exception block are used for execute the code\n"
   ]
  },
  {
   "cell_type": "code",
   "execution_count": 545,
   "id": "5ccae42a",
   "metadata": {},
   "outputs": [
    {
     "name": "stdout",
     "output_type": "stream",
     "text": [
      "priyanka shivaji gaikwad\n",
      "13\n"
     ]
    }
   ],
   "source": [
    " try:\n",
    "    a= 10\n",
    "    print(a/0)\n",
    "except Exception as e:\n",
    "    print(\"priyanka shivaji gaikwad\")\n",
    "a=3\n",
    "print(a+10)"
   ]
  },
  {
   "cell_type": "code",
   "execution_count": 546,
   "id": "83fe3fad",
   "metadata": {},
   "outputs": [],
   "source": [
    "# when we found the error in the try block then only the exception block will be run\n",
    "# otherwise our try block will be run"
   ]
  },
  {
   "cell_type": "code",
   "execution_count": 547,
   "id": "4c6e07b6",
   "metadata": {},
   "outputs": [
    {
     "name": "stdout",
     "output_type": "stream",
     "text": [
      "20\n"
     ]
    }
   ],
   "source": [
    "try:\n",
    "    a=10\n",
    "    print(a*2)\n",
    "except Exception as e:\n",
    "    print(\"priyanka shivaji gaikwad\")"
   ]
  },
  {
   "cell_type": "code",
   "execution_count": 548,
   "id": "9aa1ff7f",
   "metadata": {},
   "outputs": [],
   "source": [
    "# else block are also prensent in the python if the try block is execute successfully the else block also execute"
   ]
  },
  {
   "cell_type": "code",
   "execution_count": 549,
   "id": "634f3bda",
   "metadata": {},
   "outputs": [
    {
     "name": "stdout",
     "output_type": "stream",
     "text": [
      "10.0\n",
      "our try block is executed\n"
     ]
    }
   ],
   "source": [
    "try:\n",
    "    a= 20\n",
    "    print(a/2)\n",
    "except Exception as e:\n",
    "    print(\"priyanka shivaji gaikwad\")\n",
    "else:\n",
    "    print(\"our try block is executed\")"
   ]
  },
  {
   "cell_type": "code",
   "execution_count": 550,
   "id": "7d0c714e",
   "metadata": {},
   "outputs": [],
   "source": [
    "# if the except block will be run then else block does not be run"
   ]
  },
  {
   "cell_type": "code",
   "execution_count": 551,
   "id": "292ce3b3",
   "metadata": {},
   "outputs": [
    {
     "name": "stdout",
     "output_type": "stream",
     "text": [
      "priyanka shivaji gaikwad\n"
     ]
    }
   ],
   "source": [
    " try:\n",
    "    a= 20\n",
    "    print(a/0)\n",
    "except Exception as e:\n",
    "    print(\"priyanka shivaji gaikwad\")\n",
    "else:\n",
    "    print(\"our try block is executed\")"
   ]
  },
  {
   "cell_type": "code",
   "execution_count": 552,
   "id": "db5e21a5",
   "metadata": {},
   "outputs": [],
   "source": [
    "# finally block are also present in the pyhton"
   ]
  },
  {
   "cell_type": "code",
   "execution_count": 553,
   "id": "57b783af",
   "metadata": {},
   "outputs": [],
   "source": [
    "## if try block is executed the finally block aslo executed"
   ]
  },
  {
   "cell_type": "code",
   "execution_count": 554,
   "id": "6e352cc9",
   "metadata": {},
   "outputs": [
    {
     "name": "stdout",
     "output_type": "stream",
     "text": [
      "15\n",
      "i love mathematics\n"
     ]
    }
   ],
   "source": [
    "try:\n",
    "    print(10+5)\n",
    "finally:\n",
    "    print(\"i love mathematics\")"
   ]
  },
  {
   "cell_type": "code",
   "execution_count": 555,
   "id": "0447c1df",
   "metadata": {},
   "outputs": [],
   "source": [
    "## but if error will be occure in the try block then finally is executed but it will show the error\n",
    "## because only exception block can be handle the error"
   ]
  },
  {
   "cell_type": "code",
   "execution_count": 556,
   "id": "9306788f",
   "metadata": {},
   "outputs": [],
   "source": [
    "# try:\n",
    "#     print(10/0)\n",
    "# finally:\n",
    "#     print(\"error will be occur\")"
   ]
  },
  {
   "cell_type": "code",
   "execution_count": 557,
   "id": "b5e92ac8",
   "metadata": {},
   "outputs": [
    {
     "name": "stdout",
     "output_type": "stream",
     "text": [
      "I can handle the error\n",
      "i don't know i will be execute or not\n",
      "i was executed\n"
     ]
    }
   ],
   "source": [
    " try:\n",
    "    print(10/0)\n",
    "except Exception as a:\n",
    "    print(\"I can handle the error\")\n",
    "finally:\n",
    "    print(\"i don't know i will be execute or not\")\n",
    "    print(\"i was executed\")"
   ]
  },
  {
   "cell_type": "code",
   "execution_count": 558,
   "id": "505422d2",
   "metadata": {},
   "outputs": [
    {
     "name": "stdout",
     "output_type": "stream",
     "text": [
      "enter any number: 2\n",
      "3\n",
      "i will be print always\n"
     ]
    }
   ],
   "source": [
    "try:\n",
    "    a = int(input(\"enter any number: \"))\n",
    "    b = [1,2,3,4,5]\n",
    "    print(b[a])\n",
    "except Exception as a:\n",
    "    print(\"invalid index\")\n",
    "finally:\n",
    "    print(\"i will be print always\")"
   ]
  },
  {
   "cell_type": "markdown",
   "id": "36f175f0",
   "metadata": {},
   "source": [
    "#### custom exception handling"
   ]
  },
  {
   "cell_type": "code",
   "execution_count": 559,
   "id": "6ff1c5f7",
   "metadata": {},
   "outputs": [
    {
     "name": "stdout",
     "output_type": "stream",
     "text": [
      "enter your age:5\n",
      "enter age is valid\n"
     ]
    }
   ],
   "source": [
    "class Age(Exception):\n",
    "    def __init__(self,msg):\n",
    "        self.msg = msg\n",
    "def Detail_age(age):\n",
    "    if age <0:\n",
    "        raise Age(\"enter age is negative \")\n",
    "    elif age>200:\n",
    "        raise Age (\"enter age is very very high\")\n",
    "    else:\n",
    "        print(\"enter age is valid\")\n",
    "try:\n",
    "    age = int(input(\"enter your age:\"))\n",
    "    Detail_age(age)\n",
    "except Age as e:\n",
    "    print(e)"
   ]
  },
  {
   "cell_type": "markdown",
   "id": "65e00e22",
   "metadata": {},
   "source": [
    "#### list of general use exception"
   ]
  },
  {
   "cell_type": "code",
   "execution_count": 560,
   "id": "34a557c3",
   "metadata": {},
   "outputs": [
    {
     "name": "stdout",
     "output_type": "stream",
     "text": [
      "division by zero\n"
     ]
    }
   ],
   "source": [
    "try:\n",
    "    a= 10/0\n",
    "except ZeroDivisionError as a:\n",
    "    print(a)"
   ]
  },
  {
   "cell_type": "code",
   "execution_count": 561,
   "id": "6729c487",
   "metadata": {},
   "outputs": [
    {
     "name": "stdout",
     "output_type": "stream",
     "text": [
      "invalid literal for int() with base 10: 'priyanka'\n"
     ]
    }
   ],
   "source": [
    " try :\n",
    "    int(\"priyanka\")\n",
    "except (ValueError , TypeError) as a:\n",
    "    print(a)"
   ]
  },
  {
   "cell_type": "code",
   "execution_count": 562,
   "id": "a4902b3d",
   "metadata": {},
   "outputs": [
    {
     "name": "stdout",
     "output_type": "stream",
     "text": [
      "this will catch the error\n"
     ]
    }
   ],
   "source": [
    "try :\n",
    "    int(\"priyanka\")\n",
    "except (ValueError , TypeError) as a:\n",
    "    print(\"this will catch the error\")"
   ]
  },
  {
   "cell_type": "code",
   "execution_count": 563,
   "id": "72526daf",
   "metadata": {},
   "outputs": [
    {
     "name": "stdout",
     "output_type": "stream",
     "text": [
      "No module named 'harshu'\n",
      "2.5\n"
     ]
    }
   ],
   "source": [
    "try:\n",
    "    import harshu\n",
    "except ImportError as a:\n",
    "    print(a)\n",
    "print(10/4)"
   ]
  },
  {
   "cell_type": "code",
   "execution_count": 564,
   "id": "e2363517",
   "metadata": {},
   "outputs": [
    {
     "name": "stdout",
     "output_type": "stream",
     "text": [
      "'key2'\n"
     ]
    }
   ],
   "source": [
    "try:\n",
    "    d ={\"key\": \"priyanka\", \"l\" : [1,2,3,4]}\n",
    "    print(d[\"key2\"])\n",
    "except KeyError as a:\n",
    "    print(a)"
   ]
  },
  {
   "cell_type": "code",
   "execution_count": 565,
   "id": "cf24a008",
   "metadata": {},
   "outputs": [
    {
     "name": "stdout",
     "output_type": "stream",
     "text": [
      "'str' object has no attribute 'test'\n"
     ]
    }
   ],
   "source": [
    "try:\n",
    "    \"priya\".test()\n",
    "except AttributeError as a:\n",
    "    print(a)"
   ]
  },
  {
   "cell_type": "code",
   "execution_count": 566,
   "id": "1434cc69",
   "metadata": {},
   "outputs": [
    {
     "name": "stdout",
     "output_type": "stream",
     "text": [
      "list index out of range\n"
     ]
    }
   ],
   "source": [
    "try:\n",
    "    l =[1,2,3,4,5]\n",
    "    l[6]\n",
    "except IndexError as a:\n",
    "    print(a)"
   ]
  },
  {
   "cell_type": "code",
   "execution_count": 567,
   "id": "5ac38476",
   "metadata": {},
   "outputs": [
    {
     "name": "stdout",
     "output_type": "stream",
     "text": [
      "unsupported operand type(s) for +: 'int' and 'str'\n"
     ]
    }
   ],
   "source": [
    "try:\n",
    "    123+\"priya\"\n",
    "except TypeError as a:\n",
    "    print(a)"
   ]
  },
  {
   "cell_type": "code",
   "execution_count": 568,
   "id": "ffceb633",
   "metadata": {},
   "outputs": [
    {
     "name": "stdout",
     "output_type": "stream",
     "text": [
      "[Errno 2] No such file or directory: 'harshu.txt'\n"
     ]
    }
   ],
   "source": [
    "try:\n",
    "    with open (\"harshu.txt\" , \"r\") as a:\n",
    "        a.read()\n",
    "except FileNotFoundError as a:\n",
    "    print(a)\n"
   ]
  },
  {
   "cell_type": "code",
   "execution_count": 569,
   "id": "cdd3e32c",
   "metadata": {},
   "outputs": [
    {
     "name": "stdout",
     "output_type": "stream",
     "text": [
      "division by zero\n"
     ]
    }
   ],
   "source": [
    "# always use a specific exception\n",
    "try:\n",
    "    a = 10/0\n",
    "except ZeroDivisionError as a:  ## specific exception\n",
    "    print(a)\n"
   ]
  },
  {
   "cell_type": "markdown",
   "id": "b5cc24b5",
   "metadata": {},
   "source": [
    "#print always a proper msg\n",
    "try:\n",
    "    a = 10/0\n",
    "except ZeroDivisionError as a:  ## specific exception\n",
    "    print(\"I am trying to handle zerodivision error\")  ## proper msg"
   ]
  }
 ],
 "metadata": {
  "kernelspec": {
   "display_name": "Python 3 (ipykernel)",
   "language": "python",
   "name": "python3"
  },
  "language_info": {
   "codemirror_mode": {
    "name": "ipython",
    "version": 3
   },
   "file_extension": ".py",
   "mimetype": "text/x-python",
   "name": "python",
   "nbconvert_exporter": "python",
   "pygments_lexer": "ipython3",
   "version": "3.10.9"
  }
 },
 "nbformat": 4,
 "nbformat_minor": 5
}
